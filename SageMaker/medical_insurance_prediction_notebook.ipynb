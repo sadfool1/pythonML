{
 "cells": [
  {
   "cell_type": "markdown",
   "metadata": {
    "colab_type": "text",
    "id": "M27qF7CTrBqc"
   },
   "source": [
    "# TASK #1: UNDERSTAND THE PROBLEM STATEMENT "
   ]
  },
  {
   "cell_type": "markdown",
   "metadata": {
    "colab_type": "text",
    "id": "xNl52nl3qiyL"
   },
   "source": [
    "\n",
    "- Aim of the problem is to find the health insurance cost incured by Individuals based on thier age, gender, BMI, number of children, smoking habit and geo-location.\n",
    "\n",
    "- Features available are:\n",
    "\n",
    "    - sex: insurance contractor gender, female, male\n",
    "\n",
    "    - bmi: Body mass index (ideally 18.5 to 24.9)\n",
    "\n",
    "    - children: Number of children covered by health insurance / Number of dependents\n",
    "\n",
    "    - smoker: smoking habits\n",
    "\n",
    "    - region: the beneficiary's residential area in the US, northeast, southeast, southwest, northwest.\n",
    "\n",
    "    - charges: Individual medical costs billed by health insurance\n",
    "\n",
    "\n",
    "Data Source:https://www.kaggle.com/mirichoi0218/insurance"
   ]
  },
  {
   "cell_type": "markdown",
   "metadata": {
    "colab_type": "text",
    "id": "zKmFmyaGunc7"
   },
   "source": [
    "# TASK #2: IMPORT LIBRARIES AND DATASETS"
   ]
  },
  {
   "cell_type": "markdown",
   "metadata": {},
   "source": [
    "TYPES OF AVAILABLE SAGEMAKER IMAGES \n",
    "- Data Science [datascience-1.0]: Data Science is a Conda image with the most commonly used Python packages and libraries, such as NumPy and SciKit Learn.\n",
    "- Base Python [python-3.6]\n",
    "- MXNet (optimized for CPU) [mxnet-1.6-cpu-py36]\n",
    "- MXNet (optimized for GPU) [mxnet-1.6-gpu-py36]\n",
    "- PyTorch (optimized for CPU) [pytorch-1.4-cpu-py36]\n",
    "- PyTorch (optimized for GPU) [pytorch-1.4-gpu-py36]\n",
    "- TensorFlow (optimized for CPU) [tensorflow-1.15-cpu-py36]\n",
    "- TensorFlow (optimized for GPU) [tensorflow-1.15-gpu-py36]\n",
    "- TensorFlow 2 (optimized for CPU) [tensorflow-2.1-cpu-py36]\n",
    "- TensorFlow 2 (optimized for GPU) [tensorflow-2.1-gpu-py36]"
   ]
  },
  {
   "cell_type": "code",
   "execution_count": 2,
   "metadata": {
    "colab": {
     "base_uri": "https://localhost:8080/",
     "height": 71
    },
    "colab_type": "code",
    "id": "S0Cx3743urFY",
    "outputId": "b820039b-7ccb-4a68-8206-77bae97680dc",
    "scrolled": true
   },
   "outputs": [],
   "source": [
    "import pandas as pd\n",
    "import numpy as np\n",
    "import seaborn as sns\n",
    "import matplotlib.pyplot as plt\n"
   ]
  },
  {
   "cell_type": "markdown",
   "metadata": {},
   "source": [
    "MINI CHALLENGE\n",
    "- Read the CSV file \"insurance.csv\" using pandas \n",
    "- Visualize the first and last 5 rows "
   ]
  },
  {
   "cell_type": "code",
   "execution_count": 270,
   "metadata": {
    "colab": {},
    "colab_type": "code",
    "id": "tjIiJdM4u1IE"
   },
   "outputs": [
    {
     "data": {
      "text/html": [
       "<div>\n",
       "<style scoped>\n",
       "    .dataframe tbody tr th:only-of-type {\n",
       "        vertical-align: middle;\n",
       "    }\n",
       "\n",
       "    .dataframe tbody tr th {\n",
       "        vertical-align: top;\n",
       "    }\n",
       "\n",
       "    .dataframe thead th {\n",
       "        text-align: right;\n",
       "    }\n",
       "</style>\n",
       "<table border=\"1\" class=\"dataframe\">\n",
       "  <thead>\n",
       "    <tr style=\"text-align: right;\">\n",
       "      <th></th>\n",
       "      <th>age</th>\n",
       "      <th>sex</th>\n",
       "      <th>bmi</th>\n",
       "      <th>children</th>\n",
       "      <th>smoker</th>\n",
       "      <th>region</th>\n",
       "      <th>charges</th>\n",
       "    </tr>\n",
       "  </thead>\n",
       "  <tbody>\n",
       "    <tr>\n",
       "      <th>0</th>\n",
       "      <td>19</td>\n",
       "      <td>female</td>\n",
       "      <td>27.900</td>\n",
       "      <td>0</td>\n",
       "      <td>yes</td>\n",
       "      <td>southwest</td>\n",
       "      <td>16884.92400</td>\n",
       "    </tr>\n",
       "    <tr>\n",
       "      <th>1</th>\n",
       "      <td>18</td>\n",
       "      <td>male</td>\n",
       "      <td>33.770</td>\n",
       "      <td>1</td>\n",
       "      <td>no</td>\n",
       "      <td>southeast</td>\n",
       "      <td>1725.55230</td>\n",
       "    </tr>\n",
       "    <tr>\n",
       "      <th>2</th>\n",
       "      <td>28</td>\n",
       "      <td>male</td>\n",
       "      <td>33.000</td>\n",
       "      <td>3</td>\n",
       "      <td>no</td>\n",
       "      <td>southeast</td>\n",
       "      <td>4449.46200</td>\n",
       "    </tr>\n",
       "    <tr>\n",
       "      <th>3</th>\n",
       "      <td>33</td>\n",
       "      <td>male</td>\n",
       "      <td>22.705</td>\n",
       "      <td>0</td>\n",
       "      <td>no</td>\n",
       "      <td>northwest</td>\n",
       "      <td>21984.47061</td>\n",
       "    </tr>\n",
       "    <tr>\n",
       "      <th>4</th>\n",
       "      <td>32</td>\n",
       "      <td>male</td>\n",
       "      <td>28.880</td>\n",
       "      <td>0</td>\n",
       "      <td>no</td>\n",
       "      <td>northwest</td>\n",
       "      <td>3866.85520</td>\n",
       "    </tr>\n",
       "  </tbody>\n",
       "</table>\n",
       "</div>"
      ],
      "text/plain": [
       "   age     sex     bmi  children smoker     region      charges\n",
       "0   19  female  27.900         0    yes  southwest  16884.92400\n",
       "1   18    male  33.770         1     no  southeast   1725.55230\n",
       "2   28    male  33.000         3     no  southeast   4449.46200\n",
       "3   33    male  22.705         0     no  northwest  21984.47061\n",
       "4   32    male  28.880         0     no  northwest   3866.85520"
      ]
     },
     "execution_count": 270,
     "metadata": {},
     "output_type": "execute_result"
    }
   ],
   "source": [
    "# read the csv file \n",
    "insurance_df = pd.read_csv('insurance.csv')\n",
    "insurance_df.head(5)\n"
   ]
  },
  {
   "cell_type": "code",
   "execution_count": 6,
   "metadata": {},
   "outputs": [
    {
     "data": {
      "text/html": [
       "<div>\n",
       "<style scoped>\n",
       "    .dataframe tbody tr th:only-of-type {\n",
       "        vertical-align: middle;\n",
       "    }\n",
       "\n",
       "    .dataframe tbody tr th {\n",
       "        vertical-align: top;\n",
       "    }\n",
       "\n",
       "    .dataframe thead th {\n",
       "        text-align: right;\n",
       "    }\n",
       "</style>\n",
       "<table border=\"1\" class=\"dataframe\">\n",
       "  <thead>\n",
       "    <tr style=\"text-align: right;\">\n",
       "      <th></th>\n",
       "      <th>age</th>\n",
       "      <th>sex</th>\n",
       "      <th>bmi</th>\n",
       "      <th>children</th>\n",
       "      <th>smoker</th>\n",
       "      <th>region</th>\n",
       "      <th>charges</th>\n",
       "    </tr>\n",
       "  </thead>\n",
       "  <tbody>\n",
       "    <tr>\n",
       "      <th>1333</th>\n",
       "      <td>50</td>\n",
       "      <td>male</td>\n",
       "      <td>30.97</td>\n",
       "      <td>3</td>\n",
       "      <td>no</td>\n",
       "      <td>northwest</td>\n",
       "      <td>10600.5483</td>\n",
       "    </tr>\n",
       "    <tr>\n",
       "      <th>1334</th>\n",
       "      <td>18</td>\n",
       "      <td>female</td>\n",
       "      <td>31.92</td>\n",
       "      <td>0</td>\n",
       "      <td>no</td>\n",
       "      <td>northeast</td>\n",
       "      <td>2205.9808</td>\n",
       "    </tr>\n",
       "    <tr>\n",
       "      <th>1335</th>\n",
       "      <td>18</td>\n",
       "      <td>female</td>\n",
       "      <td>36.85</td>\n",
       "      <td>0</td>\n",
       "      <td>no</td>\n",
       "      <td>southeast</td>\n",
       "      <td>1629.8335</td>\n",
       "    </tr>\n",
       "    <tr>\n",
       "      <th>1336</th>\n",
       "      <td>21</td>\n",
       "      <td>female</td>\n",
       "      <td>25.80</td>\n",
       "      <td>0</td>\n",
       "      <td>no</td>\n",
       "      <td>southwest</td>\n",
       "      <td>2007.9450</td>\n",
       "    </tr>\n",
       "    <tr>\n",
       "      <th>1337</th>\n",
       "      <td>61</td>\n",
       "      <td>female</td>\n",
       "      <td>29.07</td>\n",
       "      <td>0</td>\n",
       "      <td>yes</td>\n",
       "      <td>northwest</td>\n",
       "      <td>29141.3603</td>\n",
       "    </tr>\n",
       "  </tbody>\n",
       "</table>\n",
       "</div>"
      ],
      "text/plain": [
       "      age     sex    bmi  children smoker     region     charges\n",
       "1333   50    male  30.97         3     no  northwest  10600.5483\n",
       "1334   18  female  31.92         0     no  northeast   2205.9808\n",
       "1335   18  female  36.85         0     no  southeast   1629.8335\n",
       "1336   21  female  25.80         0     no  southwest   2007.9450\n",
       "1337   61  female  29.07         0    yes  northwest  29141.3603"
      ]
     },
     "execution_count": 6,
     "metadata": {},
     "output_type": "execute_result"
    }
   ],
   "source": [
    "insurance_df.tail(5)"
   ]
  },
  {
   "cell_type": "markdown",
   "metadata": {
    "colab_type": "text",
    "id": "tMcr7xqMQre2"
   },
   "source": [
    "# TASK #3: PERFORM EXPLORATORY DATA ANALYSIS:"
   ]
  },
  {
   "cell_type": "code",
   "execution_count": 7,
   "metadata": {},
   "outputs": [
    {
     "data": {
      "text/plain": [
       "<AxesSubplot:>"
      ]
     },
     "execution_count": 7,
     "metadata": {},
     "output_type": "execute_result"
    },
    {
     "data": {
      "image/png": "[encoded data removed]",
      "text/plain": [
       "<Figure size 432x288 with 1 Axes>"
      ]
     },
     "metadata": {
      "needs_background": "light"
     },
     "output_type": "display_data"
    }
   ],
   "source": [
    "# check if there are any Null values\n",
    "sns.heatmap(insurance_df.isnull(), yticklabels = False, cbar = False, cmap=\"Blues\")\n"
   ]
  },
  {
   "cell_type": "code",
   "execution_count": 11,
   "metadata": {
    "colab": {
     "base_uri": "https://localhost:8080/",
     "height": 170
    },
    "colab_type": "code",
    "id": "6JYkJo9pYaet",
    "outputId": "fcc89a98-b0a9-499d-acde-e480e78dccfc"
   },
   "outputs": [
    {
     "data": {
      "text/plain": [
       "age         0\n",
       "sex         0\n",
       "bmi         0\n",
       "children    0\n",
       "smoker      0\n",
       "region      0\n",
       "charges     0\n",
       "dtype: int64"
      ]
     },
     "execution_count": 11,
     "metadata": {},
     "output_type": "execute_result"
    }
   ],
   "source": [
    "# check if there are any Null values\n",
    "insurance_df.isnull().sum()"
   ]
  },
  {
   "cell_type": "code",
   "execution_count": 12,
   "metadata": {
    "colab": {
     "base_uri": "https://localhost:8080/",
     "height": 272
    },
    "colab_type": "code",
    "id": "hMq3-KWOx0e1",
    "outputId": "22a5b184-1f07-46ef-dfc1-f8377fd7042f",
    "scrolled": true
   },
   "outputs": [
    {
     "name": "stdout",
     "output_type": "stream",
     "text": [
      "<class 'pandas.core.frame.DataFrame'>\n",
      "RangeIndex: 1338 entries, 0 to 1337\n",
      "Data columns (total 7 columns):\n",
      " #   Column    Non-Null Count  Dtype  \n",
      "---  ------    --------------  -----  \n",
      " 0   age       1338 non-null   int64  \n",
      " 1   sex       1338 non-null   object \n",
      " 2   bmi       1338 non-null   float64\n",
      " 3   children  1338 non-null   int64  \n",
      " 4   smoker    1338 non-null   object \n",
      " 5   region    1338 non-null   object \n",
      " 6   charges   1338 non-null   float64\n",
      "dtypes: float64(2), int64(2), object(3)\n",
      "memory usage: 73.3+ KB\n"
     ]
    }
   ],
   "source": [
    "# Check the dataframe info\n",
    "\n",
    "insurance_df.info()"
   ]
  },
  {
   "cell_type": "code",
   "execution_count": 9,
   "metadata": {},
   "outputs": [
    {
     "data": {
      "text/html": [
       "<div>\n",
       "<style scoped>\n",
       "    .dataframe tbody tr th:only-of-type {\n",
       "        vertical-align: middle;\n",
       "    }\n",
       "\n",
       "    .dataframe tbody tr th {\n",
       "        vertical-align: top;\n",
       "    }\n",
       "\n",
       "    .dataframe thead th {\n",
       "        text-align: right;\n",
       "    }\n",
       "</style>\n",
       "<table border=\"1\" class=\"dataframe\">\n",
       "  <thead>\n",
       "    <tr style=\"text-align: right;\">\n",
       "      <th></th>\n",
       "      <th>age</th>\n",
       "      <th>bmi</th>\n",
       "      <th>children</th>\n",
       "      <th>charges</th>\n",
       "    </tr>\n",
       "    <tr>\n",
       "      <th>region</th>\n",
       "      <th></th>\n",
       "      <th></th>\n",
       "      <th></th>\n",
       "      <th></th>\n",
       "    </tr>\n",
       "  </thead>\n",
       "  <tbody>\n",
       "    <tr>\n",
       "      <th>northeast</th>\n",
       "      <td>39.268519</td>\n",
       "      <td>29.173503</td>\n",
       "      <td>1.046296</td>\n",
       "      <td>13406.384516</td>\n",
       "    </tr>\n",
       "    <tr>\n",
       "      <th>northwest</th>\n",
       "      <td>39.196923</td>\n",
       "      <td>29.199785</td>\n",
       "      <td>1.147692</td>\n",
       "      <td>12417.575374</td>\n",
       "    </tr>\n",
       "    <tr>\n",
       "      <th>southeast</th>\n",
       "      <td>38.939560</td>\n",
       "      <td>33.355989</td>\n",
       "      <td>1.049451</td>\n",
       "      <td>14735.411438</td>\n",
       "    </tr>\n",
       "    <tr>\n",
       "      <th>southwest</th>\n",
       "      <td>39.455385</td>\n",
       "      <td>30.596615</td>\n",
       "      <td>1.141538</td>\n",
       "      <td>12346.937377</td>\n",
       "    </tr>\n",
       "  </tbody>\n",
       "</table>\n",
       "</div>"
      ],
      "text/plain": [
       "                 age        bmi  children       charges\n",
       "region                                                 \n",
       "northeast  39.268519  29.173503  1.046296  13406.384516\n",
       "northwest  39.196923  29.199785  1.147692  12417.575374\n",
       "southeast  38.939560  33.355989  1.049451  14735.411438\n",
       "southwest  39.455385  30.596615  1.141538  12346.937377"
      ]
     },
     "execution_count": 9,
     "metadata": {},
     "output_type": "execute_result"
    }
   ],
   "source": [
    "# Grouping by region to see any relationship between region and charges\n",
    "# Seems like south east region has the highest charges and body mass index\n",
    "df_region = insurance_df.groupby(by='region').mean()\n",
    "df_region"
   ]
  },
  {
   "cell_type": "markdown",
   "metadata": {},
   "source": [
    "MINI CHALLENGE\n",
    "- Group data by 'age' and examine the relationship between 'age' and 'charges'\n"
   ]
  },
  {
   "cell_type": "code",
   "execution_count": 14,
   "metadata": {},
   "outputs": [
    {
     "data": {
      "text/html": [
       "<div>\n",
       "<style scoped>\n",
       "    .dataframe tbody tr th:only-of-type {\n",
       "        vertical-align: middle;\n",
       "    }\n",
       "\n",
       "    .dataframe tbody tr th {\n",
       "        vertical-align: top;\n",
       "    }\n",
       "\n",
       "    .dataframe thead th {\n",
       "        text-align: right;\n",
       "    }\n",
       "</style>\n",
       "<table border=\"1\" class=\"dataframe\">\n",
       "  <thead>\n",
       "    <tr style=\"text-align: right;\">\n",
       "      <th></th>\n",
       "      <th>bmi</th>\n",
       "      <th>children</th>\n",
       "      <th>charges</th>\n",
       "    </tr>\n",
       "    <tr>\n",
       "      <th>age</th>\n",
       "      <th></th>\n",
       "      <th></th>\n",
       "      <th></th>\n",
       "    </tr>\n",
       "  </thead>\n",
       "  <tbody>\n",
       "    <tr>\n",
       "      <th>18</th>\n",
       "      <td>31.326159</td>\n",
       "      <td>0.449275</td>\n",
       "      <td>7086.217556</td>\n",
       "    </tr>\n",
       "    <tr>\n",
       "      <th>19</th>\n",
       "      <td>28.596912</td>\n",
       "      <td>0.426471</td>\n",
       "      <td>9747.909335</td>\n",
       "    </tr>\n",
       "    <tr>\n",
       "      <th>20</th>\n",
       "      <td>30.632759</td>\n",
       "      <td>0.862069</td>\n",
       "      <td>10159.697736</td>\n",
       "    </tr>\n",
       "    <tr>\n",
       "      <th>21</th>\n",
       "      <td>28.185714</td>\n",
       "      <td>0.785714</td>\n",
       "      <td>4730.464330</td>\n",
       "    </tr>\n",
       "    <tr>\n",
       "      <th>22</th>\n",
       "      <td>31.087679</td>\n",
       "      <td>0.714286</td>\n",
       "      <td>10012.932802</td>\n",
       "    </tr>\n",
       "    <tr>\n",
       "      <th>23</th>\n",
       "      <td>31.454464</td>\n",
       "      <td>1.000000</td>\n",
       "      <td>12419.820040</td>\n",
       "    </tr>\n",
       "    <tr>\n",
       "      <th>24</th>\n",
       "      <td>29.142679</td>\n",
       "      <td>0.464286</td>\n",
       "      <td>10648.015962</td>\n",
       "    </tr>\n",
       "    <tr>\n",
       "      <th>25</th>\n",
       "      <td>29.693929</td>\n",
       "      <td>1.285714</td>\n",
       "      <td>9838.365311</td>\n",
       "    </tr>\n",
       "    <tr>\n",
       "      <th>26</th>\n",
       "      <td>29.428929</td>\n",
       "      <td>1.071429</td>\n",
       "      <td>6133.825309</td>\n",
       "    </tr>\n",
       "    <tr>\n",
       "      <th>27</th>\n",
       "      <td>29.333571</td>\n",
       "      <td>0.964286</td>\n",
       "      <td>12184.701721</td>\n",
       "    </tr>\n",
       "    <tr>\n",
       "      <th>28</th>\n",
       "      <td>29.482143</td>\n",
       "      <td>1.285714</td>\n",
       "      <td>9069.187564</td>\n",
       "    </tr>\n",
       "    <tr>\n",
       "      <th>29</th>\n",
       "      <td>29.383148</td>\n",
       "      <td>1.259259</td>\n",
       "      <td>10430.158727</td>\n",
       "    </tr>\n",
       "    <tr>\n",
       "      <th>30</th>\n",
       "      <td>30.557593</td>\n",
       "      <td>1.555556</td>\n",
       "      <td>12719.110358</td>\n",
       "    </tr>\n",
       "    <tr>\n",
       "      <th>31</th>\n",
       "      <td>29.918333</td>\n",
       "      <td>1.407407</td>\n",
       "      <td>10196.980573</td>\n",
       "    </tr>\n",
       "    <tr>\n",
       "      <th>32</th>\n",
       "      <td>31.597692</td>\n",
       "      <td>1.269231</td>\n",
       "      <td>9220.300291</td>\n",
       "    </tr>\n",
       "    <tr>\n",
       "      <th>33</th>\n",
       "      <td>31.163077</td>\n",
       "      <td>1.538462</td>\n",
       "      <td>12351.532987</td>\n",
       "    </tr>\n",
       "    <tr>\n",
       "      <th>34</th>\n",
       "      <td>30.274038</td>\n",
       "      <td>1.153846</td>\n",
       "      <td>11613.528121</td>\n",
       "    </tr>\n",
       "    <tr>\n",
       "      <th>35</th>\n",
       "      <td>31.394800</td>\n",
       "      <td>1.680000</td>\n",
       "      <td>11307.182031</td>\n",
       "    </tr>\n",
       "    <tr>\n",
       "      <th>36</th>\n",
       "      <td>29.374200</td>\n",
       "      <td>1.240000</td>\n",
       "      <td>12204.476138</td>\n",
       "    </tr>\n",
       "    <tr>\n",
       "      <th>37</th>\n",
       "      <td>31.216600</td>\n",
       "      <td>1.520000</td>\n",
       "      <td>18019.911877</td>\n",
       "    </tr>\n",
       "    <tr>\n",
       "      <th>38</th>\n",
       "      <td>28.996600</td>\n",
       "      <td>1.480000</td>\n",
       "      <td>8102.733674</td>\n",
       "    </tr>\n",
       "    <tr>\n",
       "      <th>39</th>\n",
       "      <td>29.910200</td>\n",
       "      <td>2.200000</td>\n",
       "      <td>11778.242945</td>\n",
       "    </tr>\n",
       "    <tr>\n",
       "      <th>40</th>\n",
       "      <td>30.139074</td>\n",
       "      <td>1.592593</td>\n",
       "      <td>11772.251310</td>\n",
       "    </tr>\n",
       "    <tr>\n",
       "      <th>41</th>\n",
       "      <td>31.506852</td>\n",
       "      <td>1.407407</td>\n",
       "      <td>9653.745650</td>\n",
       "    </tr>\n",
       "    <tr>\n",
       "      <th>42</th>\n",
       "      <td>30.328148</td>\n",
       "      <td>1.000000</td>\n",
       "      <td>13061.038669</td>\n",
       "    </tr>\n",
       "    <tr>\n",
       "      <th>43</th>\n",
       "      <td>30.204444</td>\n",
       "      <td>1.629630</td>\n",
       "      <td>19267.278653</td>\n",
       "    </tr>\n",
       "    <tr>\n",
       "      <th>44</th>\n",
       "      <td>30.844259</td>\n",
       "      <td>1.222222</td>\n",
       "      <td>15859.396587</td>\n",
       "    </tr>\n",
       "    <tr>\n",
       "      <th>45</th>\n",
       "      <td>29.778966</td>\n",
       "      <td>1.482759</td>\n",
       "      <td>14830.199856</td>\n",
       "    </tr>\n",
       "    <tr>\n",
       "      <th>46</th>\n",
       "      <td>31.340862</td>\n",
       "      <td>1.620690</td>\n",
       "      <td>14342.590639</td>\n",
       "    </tr>\n",
       "    <tr>\n",
       "      <th>47</th>\n",
       "      <td>30.664310</td>\n",
       "      <td>1.379310</td>\n",
       "      <td>17653.999593</td>\n",
       "    </tr>\n",
       "    <tr>\n",
       "      <th>48</th>\n",
       "      <td>31.925690</td>\n",
       "      <td>1.310345</td>\n",
       "      <td>14632.500445</td>\n",
       "    </tr>\n",
       "    <tr>\n",
       "      <th>49</th>\n",
       "      <td>30.313929</td>\n",
       "      <td>1.500000</td>\n",
       "      <td>12696.006264</td>\n",
       "    </tr>\n",
       "    <tr>\n",
       "      <th>50</th>\n",
       "      <td>31.132241</td>\n",
       "      <td>1.310345</td>\n",
       "      <td>15663.003301</td>\n",
       "    </tr>\n",
       "    <tr>\n",
       "      <th>51</th>\n",
       "      <td>31.727069</td>\n",
       "      <td>1.103448</td>\n",
       "      <td>15682.255867</td>\n",
       "    </tr>\n",
       "    <tr>\n",
       "      <th>52</th>\n",
       "      <td>32.936034</td>\n",
       "      <td>1.482759</td>\n",
       "      <td>18256.269719</td>\n",
       "    </tr>\n",
       "    <tr>\n",
       "      <th>53</th>\n",
       "      <td>30.360893</td>\n",
       "      <td>1.250000</td>\n",
       "      <td>16020.930755</td>\n",
       "    </tr>\n",
       "    <tr>\n",
       "      <th>54</th>\n",
       "      <td>31.234286</td>\n",
       "      <td>1.428571</td>\n",
       "      <td>18758.546475</td>\n",
       "    </tr>\n",
       "    <tr>\n",
       "      <th>55</th>\n",
       "      <td>31.950000</td>\n",
       "      <td>0.961538</td>\n",
       "      <td>16164.545488</td>\n",
       "    </tr>\n",
       "    <tr>\n",
       "      <th>56</th>\n",
       "      <td>31.600962</td>\n",
       "      <td>0.769231</td>\n",
       "      <td>15025.515837</td>\n",
       "    </tr>\n",
       "    <tr>\n",
       "      <th>57</th>\n",
       "      <td>30.844423</td>\n",
       "      <td>0.615385</td>\n",
       "      <td>16447.185250</td>\n",
       "    </tr>\n",
       "    <tr>\n",
       "      <th>58</th>\n",
       "      <td>32.718200</td>\n",
       "      <td>0.240000</td>\n",
       "      <td>13878.928112</td>\n",
       "    </tr>\n",
       "    <tr>\n",
       "      <th>59</th>\n",
       "      <td>30.572000</td>\n",
       "      <td>1.200000</td>\n",
       "      <td>18895.869532</td>\n",
       "    </tr>\n",
       "    <tr>\n",
       "      <th>60</th>\n",
       "      <td>30.332826</td>\n",
       "      <td>0.347826</td>\n",
       "      <td>21979.418507</td>\n",
       "    </tr>\n",
       "    <tr>\n",
       "      <th>61</th>\n",
       "      <td>32.548261</td>\n",
       "      <td>0.739130</td>\n",
       "      <td>22024.457609</td>\n",
       "    </tr>\n",
       "    <tr>\n",
       "      <th>62</th>\n",
       "      <td>32.342609</td>\n",
       "      <td>0.565217</td>\n",
       "      <td>19163.856573</td>\n",
       "    </tr>\n",
       "    <tr>\n",
       "      <th>63</th>\n",
       "      <td>31.923478</td>\n",
       "      <td>0.565217</td>\n",
       "      <td>19884.998461</td>\n",
       "    </tr>\n",
       "    <tr>\n",
       "      <th>64</th>\n",
       "      <td>32.976136</td>\n",
       "      <td>0.772727</td>\n",
       "      <td>23275.530837</td>\n",
       "    </tr>\n",
       "  </tbody>\n",
       "</table>\n",
       "</div>"
      ],
      "text/plain": [
       "           bmi  children       charges\n",
       "age                                   \n",
       "18   31.326159  0.449275   7086.217556\n",
       "19   28.596912  0.426471   9747.909335\n",
       "20   30.632759  0.862069  10159.697736\n",
       "21   28.185714  0.785714   4730.464330\n",
       "22   31.087679  0.714286  10012.932802\n",
       "23   31.454464  1.000000  12419.820040\n",
       "24   29.142679  0.464286  10648.015962\n",
       "25   29.693929  1.285714   9838.365311\n",
       "26   29.428929  1.071429   6133.825309\n",
       "27   29.333571  0.964286  12184.701721\n",
       "28   29.482143  1.285714   9069.187564\n",
       "29   29.383148  1.259259  10430.158727\n",
       "30   30.557593  1.555556  12719.110358\n",
       "31   29.918333  1.407407  10196.980573\n",
       "32   31.597692  1.269231   9220.300291\n",
       "33   31.163077  1.538462  12351.532987\n",
       "34   30.274038  1.153846  11613.528121\n",
       "35   31.394800  1.680000  11307.182031\n",
       "36   29.374200  1.240000  12204.476138\n",
       "37   31.216600  1.520000  18019.911877\n",
       "38   28.996600  1.480000   8102.733674\n",
       "39   29.910200  2.200000  11778.242945\n",
       "40   30.139074  1.592593  11772.251310\n",
       "41   31.506852  1.407407   9653.745650\n",
       "42   30.328148  1.000000  13061.038669\n",
       "43   30.204444  1.629630  19267.278653\n",
       "44   30.844259  1.222222  15859.396587\n",
       "45   29.778966  1.482759  14830.199856\n",
       "46   31.340862  1.620690  14342.590639\n",
       "47   30.664310  1.379310  17653.999593\n",
       "48   31.925690  1.310345  14632.500445\n",
       "49   30.313929  1.500000  12696.006264\n",
       "50   31.132241  1.310345  15663.003301\n",
       "51   31.727069  1.103448  15682.255867\n",
       "52   32.936034  1.482759  18256.269719\n",
       "53   30.360893  1.250000  16020.930755\n",
       "54   31.234286  1.428571  18758.546475\n",
       "55   31.950000  0.961538  16164.545488\n",
       "56   31.600962  0.769231  15025.515837\n",
       "57   30.844423  0.615385  16447.185250\n",
       "58   32.718200  0.240000  13878.928112\n",
       "59   30.572000  1.200000  18895.869532\n",
       "60   30.332826  0.347826  21979.418507\n",
       "61   32.548261  0.739130  22024.457609\n",
       "62   32.342609  0.565217  19163.856573\n",
       "63   31.923478  0.565217  19884.998461\n",
       "64   32.976136  0.772727  23275.530837"
      ]
     },
     "execution_count": 14,
     "metadata": {},
     "output_type": "execute_result"
    }
   ],
   "source": [
    "df_age = insurance_df.groupby(by='age').mean()\n",
    "df_age"
   ]
  },
  {
   "cell_type": "code",
   "execution_count": 15,
   "metadata": {},
   "outputs": [
    {
     "data": {
      "text/plain": [
       "array(['female', 'male'], dtype=object)"
      ]
     },
     "execution_count": 15,
     "metadata": {},
     "output_type": "execute_result"
    }
   ],
   "source": [
    "# Check unique values in the 'sex' column\n",
    "insurance_df['sex'].unique()"
   ]
  },
  {
   "cell_type": "code",
   "execution_count": 271,
   "metadata": {},
   "outputs": [],
   "source": [
    "# convert categorical variable to numerical\n",
    "\n",
    "insurance_df['sex'] = insurance_df['sex'].apply(lambda x: 0 if x == 'female' else 1)"
   ]
  },
  {
   "cell_type": "code",
   "execution_count": 20,
   "metadata": {},
   "outputs": [
    {
     "data": {
      "text/html": [
       "<div>\n",
       "<style scoped>\n",
       "    .dataframe tbody tr th:only-of-type {\n",
       "        vertical-align: middle;\n",
       "    }\n",
       "\n",
       "    .dataframe tbody tr th {\n",
       "        vertical-align: top;\n",
       "    }\n",
       "\n",
       "    .dataframe thead th {\n",
       "        text-align: right;\n",
       "    }\n",
       "</style>\n",
       "<table border=\"1\" class=\"dataframe\">\n",
       "  <thead>\n",
       "    <tr style=\"text-align: right;\">\n",
       "      <th></th>\n",
       "      <th>age</th>\n",
       "      <th>sex</th>\n",
       "      <th>bmi</th>\n",
       "      <th>children</th>\n",
       "      <th>smoker</th>\n",
       "      <th>region</th>\n",
       "      <th>charges</th>\n",
       "    </tr>\n",
       "  </thead>\n",
       "  <tbody>\n",
       "    <tr>\n",
       "      <th>0</th>\n",
       "      <td>19</td>\n",
       "      <td>1</td>\n",
       "      <td>27.900</td>\n",
       "      <td>0</td>\n",
       "      <td>yes</td>\n",
       "      <td>southwest</td>\n",
       "      <td>16884.92400</td>\n",
       "    </tr>\n",
       "    <tr>\n",
       "      <th>1</th>\n",
       "      <td>18</td>\n",
       "      <td>1</td>\n",
       "      <td>33.770</td>\n",
       "      <td>1</td>\n",
       "      <td>no</td>\n",
       "      <td>southeast</td>\n",
       "      <td>1725.55230</td>\n",
       "    </tr>\n",
       "    <tr>\n",
       "      <th>2</th>\n",
       "      <td>28</td>\n",
       "      <td>1</td>\n",
       "      <td>33.000</td>\n",
       "      <td>3</td>\n",
       "      <td>no</td>\n",
       "      <td>southeast</td>\n",
       "      <td>4449.46200</td>\n",
       "    </tr>\n",
       "    <tr>\n",
       "      <th>3</th>\n",
       "      <td>33</td>\n",
       "      <td>1</td>\n",
       "      <td>22.705</td>\n",
       "      <td>0</td>\n",
       "      <td>no</td>\n",
       "      <td>northwest</td>\n",
       "      <td>21984.47061</td>\n",
       "    </tr>\n",
       "    <tr>\n",
       "      <th>4</th>\n",
       "      <td>32</td>\n",
       "      <td>1</td>\n",
       "      <td>28.880</td>\n",
       "      <td>0</td>\n",
       "      <td>no</td>\n",
       "      <td>northwest</td>\n",
       "      <td>3866.85520</td>\n",
       "    </tr>\n",
       "  </tbody>\n",
       "</table>\n",
       "</div>"
      ],
      "text/plain": [
       "   age  sex     bmi  children smoker     region      charges\n",
       "0   19    1  27.900         0    yes  southwest  16884.92400\n",
       "1   18    1  33.770         1     no  southeast   1725.55230\n",
       "2   28    1  33.000         3     no  southeast   4449.46200\n",
       "3   33    1  22.705         0     no  northwest  21984.47061\n",
       "4   32    1  28.880         0     no  northwest   3866.85520"
      ]
     },
     "execution_count": 20,
     "metadata": {},
     "output_type": "execute_result"
    }
   ],
   "source": [
    "insurance_df.head()"
   ]
  },
  {
   "cell_type": "code",
   "execution_count": 272,
   "metadata": {},
   "outputs": [
    {
     "data": {
      "text/plain": [
       "array(['yes', 'no'], dtype=object)"
      ]
     },
     "execution_count": 272,
     "metadata": {},
     "output_type": "execute_result"
    }
   ],
   "source": [
    "# Check the unique values in the 'smoker' column\n",
    "insurance_df['smoker'].unique()"
   ]
  },
  {
   "cell_type": "code",
   "execution_count": 273,
   "metadata": {},
   "outputs": [],
   "source": [
    "# Convert categorical variable to numerical \n",
    "\n",
    "insurance_df['smoker'] = insurance_df['smoker'].apply(lambda x: 0 if x == 'no' else 1)"
   ]
  },
  {
   "cell_type": "code",
   "execution_count": 274,
   "metadata": {},
   "outputs": [
    {
     "data": {
      "text/html": [
       "<div>\n",
       "<style scoped>\n",
       "    .dataframe tbody tr th:only-of-type {\n",
       "        vertical-align: middle;\n",
       "    }\n",
       "\n",
       "    .dataframe tbody tr th {\n",
       "        vertical-align: top;\n",
       "    }\n",
       "\n",
       "    .dataframe thead th {\n",
       "        text-align: right;\n",
       "    }\n",
       "</style>\n",
       "<table border=\"1\" class=\"dataframe\">\n",
       "  <thead>\n",
       "    <tr style=\"text-align: right;\">\n",
       "      <th></th>\n",
       "      <th>age</th>\n",
       "      <th>sex</th>\n",
       "      <th>bmi</th>\n",
       "      <th>children</th>\n",
       "      <th>smoker</th>\n",
       "      <th>region</th>\n",
       "      <th>charges</th>\n",
       "    </tr>\n",
       "  </thead>\n",
       "  <tbody>\n",
       "    <tr>\n",
       "      <th>0</th>\n",
       "      <td>19</td>\n",
       "      <td>0</td>\n",
       "      <td>27.900</td>\n",
       "      <td>0</td>\n",
       "      <td>1</td>\n",
       "      <td>southwest</td>\n",
       "      <td>16884.92400</td>\n",
       "    </tr>\n",
       "    <tr>\n",
       "      <th>1</th>\n",
       "      <td>18</td>\n",
       "      <td>1</td>\n",
       "      <td>33.770</td>\n",
       "      <td>1</td>\n",
       "      <td>0</td>\n",
       "      <td>southeast</td>\n",
       "      <td>1725.55230</td>\n",
       "    </tr>\n",
       "    <tr>\n",
       "      <th>2</th>\n",
       "      <td>28</td>\n",
       "      <td>1</td>\n",
       "      <td>33.000</td>\n",
       "      <td>3</td>\n",
       "      <td>0</td>\n",
       "      <td>southeast</td>\n",
       "      <td>4449.46200</td>\n",
       "    </tr>\n",
       "    <tr>\n",
       "      <th>3</th>\n",
       "      <td>33</td>\n",
       "      <td>1</td>\n",
       "      <td>22.705</td>\n",
       "      <td>0</td>\n",
       "      <td>0</td>\n",
       "      <td>northwest</td>\n",
       "      <td>21984.47061</td>\n",
       "    </tr>\n",
       "    <tr>\n",
       "      <th>4</th>\n",
       "      <td>32</td>\n",
       "      <td>1</td>\n",
       "      <td>28.880</td>\n",
       "      <td>0</td>\n",
       "      <td>0</td>\n",
       "      <td>northwest</td>\n",
       "      <td>3866.85520</td>\n",
       "    </tr>\n",
       "  </tbody>\n",
       "</table>\n",
       "</div>"
      ],
      "text/plain": [
       "   age  sex     bmi  children  smoker     region      charges\n",
       "0   19    0  27.900         0       1  southwest  16884.92400\n",
       "1   18    1  33.770         1       0  southeast   1725.55230\n",
       "2   28    1  33.000         3       0  southeast   4449.46200\n",
       "3   33    1  22.705         0       0  northwest  21984.47061\n",
       "4   32    1  28.880         0       0  northwest   3866.85520"
      ]
     },
     "execution_count": 274,
     "metadata": {},
     "output_type": "execute_result"
    }
   ],
   "source": [
    "insurance_df.head()"
   ]
  },
  {
   "cell_type": "code",
   "execution_count": 275,
   "metadata": {},
   "outputs": [
    {
     "data": {
      "text/plain": [
       "array(['southwest', 'southeast', 'northwest', 'northeast'], dtype=object)"
      ]
     },
     "execution_count": 275,
     "metadata": {},
     "output_type": "execute_result"
    }
   ],
   "source": [
    "# Check unique values in 'region' column\n",
    "insurance_df['region'].unique()"
   ]
  },
  {
   "cell_type": "code",
   "execution_count": 276,
   "metadata": {},
   "outputs": [],
   "source": [
    "region_dummies = pd.get_dummies(insurance_df['region'], drop_first = True)\n",
    "\n",
    "# drop_first will actually prevent dummy variable trap, this is where\n",
    "# two columns are highly correlated with each other and hence dropping one column will make sense.\n"
   ]
  },
  {
   "cell_type": "code",
   "execution_count": 277,
   "metadata": {},
   "outputs": [
    {
     "data": {
      "text/html": [
       "<div>\n",
       "<style scoped>\n",
       "    .dataframe tbody tr th:only-of-type {\n",
       "        vertical-align: middle;\n",
       "    }\n",
       "\n",
       "    .dataframe tbody tr th {\n",
       "        vertical-align: top;\n",
       "    }\n",
       "\n",
       "    .dataframe thead th {\n",
       "        text-align: right;\n",
       "    }\n",
       "</style>\n",
       "<table border=\"1\" class=\"dataframe\">\n",
       "  <thead>\n",
       "    <tr style=\"text-align: right;\">\n",
       "      <th></th>\n",
       "      <th>northwest</th>\n",
       "      <th>southeast</th>\n",
       "      <th>southwest</th>\n",
       "    </tr>\n",
       "  </thead>\n",
       "  <tbody>\n",
       "    <tr>\n",
       "      <th>0</th>\n",
       "      <td>0</td>\n",
       "      <td>0</td>\n",
       "      <td>1</td>\n",
       "    </tr>\n",
       "    <tr>\n",
       "      <th>1</th>\n",
       "      <td>0</td>\n",
       "      <td>1</td>\n",
       "      <td>0</td>\n",
       "    </tr>\n",
       "    <tr>\n",
       "      <th>2</th>\n",
       "      <td>0</td>\n",
       "      <td>1</td>\n",
       "      <td>0</td>\n",
       "    </tr>\n",
       "    <tr>\n",
       "      <th>3</th>\n",
       "      <td>1</td>\n",
       "      <td>0</td>\n",
       "      <td>0</td>\n",
       "    </tr>\n",
       "    <tr>\n",
       "      <th>4</th>\n",
       "      <td>1</td>\n",
       "      <td>0</td>\n",
       "      <td>0</td>\n",
       "    </tr>\n",
       "    <tr>\n",
       "      <th>...</th>\n",
       "      <td>...</td>\n",
       "      <td>...</td>\n",
       "      <td>...</td>\n",
       "    </tr>\n",
       "    <tr>\n",
       "      <th>1333</th>\n",
       "      <td>1</td>\n",
       "      <td>0</td>\n",
       "      <td>0</td>\n",
       "    </tr>\n",
       "    <tr>\n",
       "      <th>1334</th>\n",
       "      <td>0</td>\n",
       "      <td>0</td>\n",
       "      <td>0</td>\n",
       "    </tr>\n",
       "    <tr>\n",
       "      <th>1335</th>\n",
       "      <td>0</td>\n",
       "      <td>1</td>\n",
       "      <td>0</td>\n",
       "    </tr>\n",
       "    <tr>\n",
       "      <th>1336</th>\n",
       "      <td>0</td>\n",
       "      <td>0</td>\n",
       "      <td>1</td>\n",
       "    </tr>\n",
       "    <tr>\n",
       "      <th>1337</th>\n",
       "      <td>1</td>\n",
       "      <td>0</td>\n",
       "      <td>0</td>\n",
       "    </tr>\n",
       "  </tbody>\n",
       "</table>\n",
       "<p>1338 rows × 3 columns</p>\n",
       "</div>"
      ],
      "text/plain": [
       "      northwest  southeast  southwest\n",
       "0             0          0          1\n",
       "1             0          1          0\n",
       "2             0          1          0\n",
       "3             1          0          0\n",
       "4             1          0          0\n",
       "...         ...        ...        ...\n",
       "1333          1          0          0\n",
       "1334          0          0          0\n",
       "1335          0          1          0\n",
       "1336          0          0          1\n",
       "1337          1          0          0\n",
       "\n",
       "[1338 rows x 3 columns]"
      ]
     },
     "execution_count": 277,
     "metadata": {},
     "output_type": "execute_result"
    }
   ],
   "source": [
    "region_dummies"
   ]
  },
  {
   "cell_type": "code",
   "execution_count": 278,
   "metadata": {},
   "outputs": [],
   "source": [
    "insurance_df = pd.concat([insurance_df, region_dummies], axis = 1)"
   ]
  },
  {
   "cell_type": "code",
   "execution_count": 279,
   "metadata": {},
   "outputs": [
    {
     "data": {
      "text/html": [
       "<div>\n",
       "<style scoped>\n",
       "    .dataframe tbody tr th:only-of-type {\n",
       "        vertical-align: middle;\n",
       "    }\n",
       "\n",
       "    .dataframe tbody tr th {\n",
       "        vertical-align: top;\n",
       "    }\n",
       "\n",
       "    .dataframe thead th {\n",
       "        text-align: right;\n",
       "    }\n",
       "</style>\n",
       "<table border=\"1\" class=\"dataframe\">\n",
       "  <thead>\n",
       "    <tr style=\"text-align: right;\">\n",
       "      <th></th>\n",
       "      <th>age</th>\n",
       "      <th>sex</th>\n",
       "      <th>bmi</th>\n",
       "      <th>children</th>\n",
       "      <th>smoker</th>\n",
       "      <th>region</th>\n",
       "      <th>charges</th>\n",
       "      <th>northwest</th>\n",
       "      <th>southeast</th>\n",
       "      <th>southwest</th>\n",
       "    </tr>\n",
       "  </thead>\n",
       "  <tbody>\n",
       "    <tr>\n",
       "      <th>0</th>\n",
       "      <td>19</td>\n",
       "      <td>0</td>\n",
       "      <td>27.900</td>\n",
       "      <td>0</td>\n",
       "      <td>1</td>\n",
       "      <td>southwest</td>\n",
       "      <td>16884.92400</td>\n",
       "      <td>0</td>\n",
       "      <td>0</td>\n",
       "      <td>1</td>\n",
       "    </tr>\n",
       "    <tr>\n",
       "      <th>1</th>\n",
       "      <td>18</td>\n",
       "      <td>1</td>\n",
       "      <td>33.770</td>\n",
       "      <td>1</td>\n",
       "      <td>0</td>\n",
       "      <td>southeast</td>\n",
       "      <td>1725.55230</td>\n",
       "      <td>0</td>\n",
       "      <td>1</td>\n",
       "      <td>0</td>\n",
       "    </tr>\n",
       "    <tr>\n",
       "      <th>2</th>\n",
       "      <td>28</td>\n",
       "      <td>1</td>\n",
       "      <td>33.000</td>\n",
       "      <td>3</td>\n",
       "      <td>0</td>\n",
       "      <td>southeast</td>\n",
       "      <td>4449.46200</td>\n",
       "      <td>0</td>\n",
       "      <td>1</td>\n",
       "      <td>0</td>\n",
       "    </tr>\n",
       "    <tr>\n",
       "      <th>3</th>\n",
       "      <td>33</td>\n",
       "      <td>1</td>\n",
       "      <td>22.705</td>\n",
       "      <td>0</td>\n",
       "      <td>0</td>\n",
       "      <td>northwest</td>\n",
       "      <td>21984.47061</td>\n",
       "      <td>1</td>\n",
       "      <td>0</td>\n",
       "      <td>0</td>\n",
       "    </tr>\n",
       "    <tr>\n",
       "      <th>4</th>\n",
       "      <td>32</td>\n",
       "      <td>1</td>\n",
       "      <td>28.880</td>\n",
       "      <td>0</td>\n",
       "      <td>0</td>\n",
       "      <td>northwest</td>\n",
       "      <td>3866.85520</td>\n",
       "      <td>1</td>\n",
       "      <td>0</td>\n",
       "      <td>0</td>\n",
       "    </tr>\n",
       "  </tbody>\n",
       "</table>\n",
       "</div>"
      ],
      "text/plain": [
       "   age  sex     bmi  children  smoker     region      charges  northwest  \\\n",
       "0   19    0  27.900         0       1  southwest  16884.92400          0   \n",
       "1   18    1  33.770         1       0  southeast   1725.55230          0   \n",
       "2   28    1  33.000         3       0  southeast   4449.46200          0   \n",
       "3   33    1  22.705         0       0  northwest  21984.47061          1   \n",
       "4   32    1  28.880         0       0  northwest   3866.85520          1   \n",
       "\n",
       "   southeast  southwest  \n",
       "0          0          1  \n",
       "1          1          0  \n",
       "2          1          0  \n",
       "3          0          0  \n",
       "4          0          0  "
      ]
     },
     "execution_count": 279,
     "metadata": {},
     "output_type": "execute_result"
    }
   ],
   "source": [
    "insurance_df.head()"
   ]
  },
  {
   "cell_type": "code",
   "execution_count": 280,
   "metadata": {},
   "outputs": [],
   "source": [
    "# Let's drop the original 'region' column \n",
    "insurance_df.drop(['region'], axis = 1, inplace = True) \n",
    "# need to use inplace to replace the original df in memory\n",
    "# axis = 1 means its the entire column\n"
   ]
  },
  {
   "cell_type": "code",
   "execution_count": 281,
   "metadata": {},
   "outputs": [
    {
     "data": {
      "text/html": [
       "<div>\n",
       "<style scoped>\n",
       "    .dataframe tbody tr th:only-of-type {\n",
       "        vertical-align: middle;\n",
       "    }\n",
       "\n",
       "    .dataframe tbody tr th {\n",
       "        vertical-align: top;\n",
       "    }\n",
       "\n",
       "    .dataframe thead th {\n",
       "        text-align: right;\n",
       "    }\n",
       "</style>\n",
       "<table border=\"1\" class=\"dataframe\">\n",
       "  <thead>\n",
       "    <tr style=\"text-align: right;\">\n",
       "      <th></th>\n",
       "      <th>age</th>\n",
       "      <th>sex</th>\n",
       "      <th>bmi</th>\n",
       "      <th>children</th>\n",
       "      <th>smoker</th>\n",
       "      <th>charges</th>\n",
       "      <th>northwest</th>\n",
       "      <th>southeast</th>\n",
       "      <th>southwest</th>\n",
       "    </tr>\n",
       "  </thead>\n",
       "  <tbody>\n",
       "    <tr>\n",
       "      <th>0</th>\n",
       "      <td>19</td>\n",
       "      <td>0</td>\n",
       "      <td>27.900</td>\n",
       "      <td>0</td>\n",
       "      <td>1</td>\n",
       "      <td>16884.92400</td>\n",
       "      <td>0</td>\n",
       "      <td>0</td>\n",
       "      <td>1</td>\n",
       "    </tr>\n",
       "    <tr>\n",
       "      <th>1</th>\n",
       "      <td>18</td>\n",
       "      <td>1</td>\n",
       "      <td>33.770</td>\n",
       "      <td>1</td>\n",
       "      <td>0</td>\n",
       "      <td>1725.55230</td>\n",
       "      <td>0</td>\n",
       "      <td>1</td>\n",
       "      <td>0</td>\n",
       "    </tr>\n",
       "    <tr>\n",
       "      <th>2</th>\n",
       "      <td>28</td>\n",
       "      <td>1</td>\n",
       "      <td>33.000</td>\n",
       "      <td>3</td>\n",
       "      <td>0</td>\n",
       "      <td>4449.46200</td>\n",
       "      <td>0</td>\n",
       "      <td>1</td>\n",
       "      <td>0</td>\n",
       "    </tr>\n",
       "    <tr>\n",
       "      <th>3</th>\n",
       "      <td>33</td>\n",
       "      <td>1</td>\n",
       "      <td>22.705</td>\n",
       "      <td>0</td>\n",
       "      <td>0</td>\n",
       "      <td>21984.47061</td>\n",
       "      <td>1</td>\n",
       "      <td>0</td>\n",
       "      <td>0</td>\n",
       "    </tr>\n",
       "    <tr>\n",
       "      <th>4</th>\n",
       "      <td>32</td>\n",
       "      <td>1</td>\n",
       "      <td>28.880</td>\n",
       "      <td>0</td>\n",
       "      <td>0</td>\n",
       "      <td>3866.85520</td>\n",
       "      <td>1</td>\n",
       "      <td>0</td>\n",
       "      <td>0</td>\n",
       "    </tr>\n",
       "  </tbody>\n",
       "</table>\n",
       "</div>"
      ],
      "text/plain": [
       "   age  sex     bmi  children  smoker      charges  northwest  southeast  \\\n",
       "0   19    0  27.900         0       1  16884.92400          0          0   \n",
       "1   18    1  33.770         1       0   1725.55230          0          1   \n",
       "2   28    1  33.000         3       0   4449.46200          0          1   \n",
       "3   33    1  22.705         0       0  21984.47061          1          0   \n",
       "4   32    1  28.880         0       0   3866.85520          1          0   \n",
       "\n",
       "   southwest  \n",
       "0          1  \n",
       "1          0  \n",
       "2          0  \n",
       "3          0  \n",
       "4          0  "
      ]
     },
     "execution_count": 281,
     "metadata": {},
     "output_type": "execute_result"
    }
   ],
   "source": [
    "insurance_df.head()"
   ]
  },
  {
   "cell_type": "markdown",
   "metadata": {},
   "source": [
    "MINI CHALLENGE\n",
    "- Calculate the mean and standard deviation of the age, charges and bmi"
   ]
  },
  {
   "cell_type": "code",
   "execution_count": 282,
   "metadata": {
    "colab": {
     "base_uri": "https://localhost:8080/",
     "height": 297
    },
    "colab_type": "code",
    "id": "Nn1Oxk2SzPX3",
    "outputId": "95f0265a-5e75-4a32-d771-4b3d15850c3c"
   },
   "outputs": [
    {
     "data": {
      "text/html": [
       "<div>\n",
       "<style scoped>\n",
       "    .dataframe tbody tr th:only-of-type {\n",
       "        vertical-align: middle;\n",
       "    }\n",
       "\n",
       "    .dataframe tbody tr th {\n",
       "        vertical-align: top;\n",
       "    }\n",
       "\n",
       "    .dataframe thead th {\n",
       "        text-align: right;\n",
       "    }\n",
       "</style>\n",
       "<table border=\"1\" class=\"dataframe\">\n",
       "  <thead>\n",
       "    <tr style=\"text-align: right;\">\n",
       "      <th></th>\n",
       "      <th>age</th>\n",
       "      <th>sex</th>\n",
       "      <th>bmi</th>\n",
       "      <th>children</th>\n",
       "      <th>smoker</th>\n",
       "      <th>charges</th>\n",
       "      <th>northwest</th>\n",
       "      <th>southeast</th>\n",
       "      <th>southwest</th>\n",
       "    </tr>\n",
       "  </thead>\n",
       "  <tbody>\n",
       "    <tr>\n",
       "      <th>count</th>\n",
       "      <td>1338.000000</td>\n",
       "      <td>1338.000000</td>\n",
       "      <td>1338.000000</td>\n",
       "      <td>1338.000000</td>\n",
       "      <td>1338.000000</td>\n",
       "      <td>1338.000000</td>\n",
       "      <td>1338.000000</td>\n",
       "      <td>1338.000000</td>\n",
       "      <td>1338.000000</td>\n",
       "    </tr>\n",
       "    <tr>\n",
       "      <th>mean</th>\n",
       "      <td>39.207025</td>\n",
       "      <td>0.505232</td>\n",
       "      <td>30.663397</td>\n",
       "      <td>1.094918</td>\n",
       "      <td>0.204783</td>\n",
       "      <td>13270.422265</td>\n",
       "      <td>0.242900</td>\n",
       "      <td>0.272048</td>\n",
       "      <td>0.242900</td>\n",
       "    </tr>\n",
       "    <tr>\n",
       "      <th>std</th>\n",
       "      <td>14.049960</td>\n",
       "      <td>0.500160</td>\n",
       "      <td>6.098187</td>\n",
       "      <td>1.205493</td>\n",
       "      <td>0.403694</td>\n",
       "      <td>12110.011237</td>\n",
       "      <td>0.428995</td>\n",
       "      <td>0.445181</td>\n",
       "      <td>0.428995</td>\n",
       "    </tr>\n",
       "    <tr>\n",
       "      <th>min</th>\n",
       "      <td>18.000000</td>\n",
       "      <td>0.000000</td>\n",
       "      <td>15.960000</td>\n",
       "      <td>0.000000</td>\n",
       "      <td>0.000000</td>\n",
       "      <td>1121.873900</td>\n",
       "      <td>0.000000</td>\n",
       "      <td>0.000000</td>\n",
       "      <td>0.000000</td>\n",
       "    </tr>\n",
       "    <tr>\n",
       "      <th>25%</th>\n",
       "      <td>27.000000</td>\n",
       "      <td>0.000000</td>\n",
       "      <td>26.296250</td>\n",
       "      <td>0.000000</td>\n",
       "      <td>0.000000</td>\n",
       "      <td>4740.287150</td>\n",
       "      <td>0.000000</td>\n",
       "      <td>0.000000</td>\n",
       "      <td>0.000000</td>\n",
       "    </tr>\n",
       "    <tr>\n",
       "      <th>50%</th>\n",
       "      <td>39.000000</td>\n",
       "      <td>1.000000</td>\n",
       "      <td>30.400000</td>\n",
       "      <td>1.000000</td>\n",
       "      <td>0.000000</td>\n",
       "      <td>9382.033000</td>\n",
       "      <td>0.000000</td>\n",
       "      <td>0.000000</td>\n",
       "      <td>0.000000</td>\n",
       "    </tr>\n",
       "    <tr>\n",
       "      <th>75%</th>\n",
       "      <td>51.000000</td>\n",
       "      <td>1.000000</td>\n",
       "      <td>34.693750</td>\n",
       "      <td>2.000000</td>\n",
       "      <td>0.000000</td>\n",
       "      <td>16639.912515</td>\n",
       "      <td>0.000000</td>\n",
       "      <td>1.000000</td>\n",
       "      <td>0.000000</td>\n",
       "    </tr>\n",
       "    <tr>\n",
       "      <th>max</th>\n",
       "      <td>64.000000</td>\n",
       "      <td>1.000000</td>\n",
       "      <td>53.130000</td>\n",
       "      <td>5.000000</td>\n",
       "      <td>1.000000</td>\n",
       "      <td>63770.428010</td>\n",
       "      <td>1.000000</td>\n",
       "      <td>1.000000</td>\n",
       "      <td>1.000000</td>\n",
       "    </tr>\n",
       "  </tbody>\n",
       "</table>\n",
       "</div>"
      ],
      "text/plain": [
       "               age          sex          bmi     children       smoker  \\\n",
       "count  1338.000000  1338.000000  1338.000000  1338.000000  1338.000000   \n",
       "mean     39.207025     0.505232    30.663397     1.094918     0.204783   \n",
       "std      14.049960     0.500160     6.098187     1.205493     0.403694   \n",
       "min      18.000000     0.000000    15.960000     0.000000     0.000000   \n",
       "25%      27.000000     0.000000    26.296250     0.000000     0.000000   \n",
       "50%      39.000000     1.000000    30.400000     1.000000     0.000000   \n",
       "75%      51.000000     1.000000    34.693750     2.000000     0.000000   \n",
       "max      64.000000     1.000000    53.130000     5.000000     1.000000   \n",
       "\n",
       "            charges    northwest    southeast    southwest  \n",
       "count   1338.000000  1338.000000  1338.000000  1338.000000  \n",
       "mean   13270.422265     0.242900     0.272048     0.242900  \n",
       "std    12110.011237     0.428995     0.445181     0.428995  \n",
       "min     1121.873900     0.000000     0.000000     0.000000  \n",
       "25%     4740.287150     0.000000     0.000000     0.000000  \n",
       "50%     9382.033000     0.000000     0.000000     0.000000  \n",
       "75%    16639.912515     0.000000     1.000000     0.000000  \n",
       "max    63770.428010     1.000000     1.000000     1.000000  "
      ]
     },
     "execution_count": 282,
     "metadata": {},
     "output_type": "execute_result"
    }
   ],
   "source": [
    "insurance_df.describe()"
   ]
  },
  {
   "cell_type": "markdown",
   "metadata": {
    "colab_type": "text",
    "id": "Y0GmpAjG3GiH"
   },
   "source": [
    "# TASK #4: VISUALIZE DATASET"
   ]
  },
  {
   "cell_type": "code",
   "execution_count": 38,
   "metadata": {},
   "outputs": [
    {
     "name": "stderr",
     "output_type": "stream",
     "text": [
      "/usr/local/lib/python3.7/site-packages/pandas/plotting/_matplotlib/tools.py:331: MatplotlibDeprecationWarning: \n",
      "The is_first_col function was deprecated in Matplotlib 3.4 and will be removed two minor releases later. Use ax.get_subplotspec().is_first_col() instead.\n",
      "  if ax.is_first_col():\n"
     ]
    },
    {
     "data": {
      "text/plain": [
       "array([[<AxesSubplot:title={'center':'age'}>,\n",
       "        <AxesSubplot:title={'center':'sex'}>],\n",
       "       [<AxesSubplot:title={'center':'bmi'}>,\n",
       "        <AxesSubplot:title={'center':'children'}>],\n",
       "       [<AxesSubplot:title={'center':'smoker'}>,\n",
       "        <AxesSubplot:title={'center':'charges'}>]], dtype=object)"
      ]
     },
     "execution_count": 38,
     "metadata": {},
     "output_type": "execute_result"
    },
    {
     "data": {
      "image/png": "[encoded data removed]",
      "text/plain": [
       "<Figure size 1440x1440 with 6 Axes>"
      ]
     },
     "metadata": {
      "needs_background": "light"
     },
     "output_type": "display_data"
    }
   ],
   "source": [
    "insurance_df[['age', 'sex', 'bmi', 'children', 'smoker', 'charges']].hist(bins = 30, figsize = (20,20), color = 'r')\n"
   ]
  },
  {
   "cell_type": "code",
   "execution_count": 39,
   "metadata": {
    "colab": {
     "base_uri": "https://localhost:8080/",
     "height": 1000
    },
    "colab_type": "code",
    "id": "Ka9uFRXSkWHw",
    "outputId": "f42a681e-93d4-4b1f-a29c-f58fc8a6f974"
   },
   "outputs": [
    {
     "data": {
      "text/plain": [
       "<seaborn.axisgrid.PairGrid at 0x7f4c45314ad0>"
      ]
     },
     "execution_count": 39,
     "metadata": {},
     "output_type": "execute_result"
    },
    {
     "data": {
      "image/png": "[encoded data removed]",
      "text/plain": [
       "<Figure size 1620x1620 with 90 Axes>"
      ]
     },
     "metadata": {
      "needs_background": "light"
     },
     "output_type": "display_data"
    }
   ],
   "source": [
    "# plot pairplot\n",
    "\n",
    "sns.pairplot(insurance_df)"
   ]
  },
  {
   "cell_type": "code",
   "execution_count": 283,
   "metadata": {
    "colab": {
     "base_uri": "https://localhost:8080/",
     "height": 1000
    },
    "colab_type": "code",
    "id": "1OiGun0tvU7W",
    "outputId": "22204cf6-1a4d-46c7-af61-a27511873584"
   },
   "outputs": [
    {
     "data": {
      "image/png": "[encoded data removed]",
      "text/plain": [
       "<Figure size 432x288 with 1 Axes>"
      ]
     },
     "metadata": {
      "needs_background": "light"
     },
     "output_type": "display_data"
    }
   ],
   "source": [
    "sns.regplot(x = 'age', y = 'charges', data = insurance_df)\n",
    "plt.show()\n",
    "  "
   ]
  },
  {
   "cell_type": "markdown",
   "metadata": {},
   "source": [
    "MINI CHALLENGE\n",
    "- Obtain the regplot between bmi and charges\n"
   ]
  },
  {
   "cell_type": "code",
   "execution_count": 41,
   "metadata": {},
   "outputs": [
    {
     "data": {
      "image/png": "[encoded data removed]",
      "text/plain": [
       "<Figure size 432x288 with 1 Axes>"
      ]
     },
     "metadata": {
      "needs_background": "light"
     },
     "output_type": "display_data"
    }
   ],
   "source": [
    "sns.regplot(x = 'bmi', y = 'charges', data = insurance_df)\n",
    "plt.show()"
   ]
  },
  {
   "cell_type": "markdown",
   "metadata": {},
   "source": [
    "MINI CHALLENGE\n",
    " - Calculate and plot the correlation matrix\n",
    " - Which feature has the most positive correlation with charges?"
   ]
  },
  {
   "cell_type": "code",
   "execution_count": null,
   "metadata": {
    "colab": {
     "base_uri": "https://localhost:8080/",
     "height": 297
    },
    "colab_type": "code",
    "id": "9q-tFxvskWDa",
    "outputId": "8834e9ec-7676-4e86-c5e7-20f4e9eccbcb"
   },
   "outputs": [],
   "source": [
    "sns.regplot(x = 'bmi', y = 'charges', data = insurance_df)\n"
   ]
  },
  {
   "cell_type": "code",
   "execution_count": 51,
   "metadata": {},
   "outputs": [
    {
     "data": {
      "text/plain": [
       "<AxesSubplot:>"
      ]
     },
     "execution_count": 51,
     "metadata": {},
     "output_type": "execute_result"
    },
    {
     "data": {
      "image/png": "[encoded data removed]",
      "text/plain": [
       "<Figure size 720x720 with 2 Axes>"
      ]
     },
     "metadata": {
      "needs_background": "light"
     },
     "output_type": "display_data"
    }
   ],
   "source": [
    "corr = insurance_df.corr()\n",
    "plt.figure(figsize =(10,10))\n",
    "\n",
    "sns.heatmap(corr, cmap=\"YlGnBu\", annot=True)\n"
   ]
  },
  {
   "cell_type": "code",
   "execution_count": 52,
   "metadata": {
    "colab": {
     "base_uri": "https://localhost:8080/",
     "height": 932
    },
    "colab_type": "code",
    "id": "clmblKfur8rm",
    "outputId": "760b0882-8993-4aed-9c38-866ef8a7c6cd"
   },
   "outputs": [],
   "source": [
    "# smoker and age have positive correlations with charges"
   ]
  },
  {
   "cell_type": "markdown",
   "metadata": {
    "colab_type": "text",
    "id": "53qDZFRn3-S1"
   },
   "source": [
    "# TASK #5: CREATE TRAINING AND TESTING DATASET"
   ]
  },
  {
   "cell_type": "code",
   "execution_count": 151,
   "metadata": {
    "colab": {
     "base_uri": "https://localhost:8080/",
     "height": 68
    },
    "colab_type": "code",
    "id": "8QQTkOBL1yUR",
    "outputId": "e79771c7-a34d-430f-db8a-fa4c1253af78"
   },
   "outputs": [
    {
     "data": {
      "text/plain": [
       "Index(['age', 'sex', 'bmi', 'children', 'smoker', 'charges', 'northwest',\n",
       "       'southeast', 'southwest'],\n",
       "      dtype='object')"
      ]
     },
     "execution_count": 151,
     "metadata": {},
     "output_type": "execute_result"
    }
   ],
   "source": [
    "insurance_df.columns"
   ]
  },
  {
   "cell_type": "code",
   "execution_count": 294,
   "metadata": {
    "colab": {},
    "colab_type": "code",
    "id": "4OXZB2F21e4H"
   },
   "outputs": [],
   "source": [
    "X = insurance_df.drop(columns =['charges'])  # do not need the independent vars\n",
    "y = insurance_df['charges']\n"
   ]
  },
  {
   "cell_type": "code",
   "execution_count": 295,
   "metadata": {
    "scrolled": true
   },
   "outputs": [
    {
     "data": {
      "text/html": [
       "<div>\n",
       "<style scoped>\n",
       "    .dataframe tbody tr th:only-of-type {\n",
       "        vertical-align: middle;\n",
       "    }\n",
       "\n",
       "    .dataframe tbody tr th {\n",
       "        vertical-align: top;\n",
       "    }\n",
       "\n",
       "    .dataframe thead th {\n",
       "        text-align: right;\n",
       "    }\n",
       "</style>\n",
       "<table border=\"1\" class=\"dataframe\">\n",
       "  <thead>\n",
       "    <tr style=\"text-align: right;\">\n",
       "      <th></th>\n",
       "      <th>age</th>\n",
       "      <th>sex</th>\n",
       "      <th>bmi</th>\n",
       "      <th>children</th>\n",
       "      <th>smoker</th>\n",
       "      <th>northwest</th>\n",
       "      <th>southeast</th>\n",
       "      <th>southwest</th>\n",
       "    </tr>\n",
       "  </thead>\n",
       "  <tbody>\n",
       "    <tr>\n",
       "      <th>0</th>\n",
       "      <td>19</td>\n",
       "      <td>0</td>\n",
       "      <td>27.900</td>\n",
       "      <td>0</td>\n",
       "      <td>1</td>\n",
       "      <td>0</td>\n",
       "      <td>0</td>\n",
       "      <td>1</td>\n",
       "    </tr>\n",
       "    <tr>\n",
       "      <th>1</th>\n",
       "      <td>18</td>\n",
       "      <td>1</td>\n",
       "      <td>33.770</td>\n",
       "      <td>1</td>\n",
       "      <td>0</td>\n",
       "      <td>0</td>\n",
       "      <td>1</td>\n",
       "      <td>0</td>\n",
       "    </tr>\n",
       "    <tr>\n",
       "      <th>2</th>\n",
       "      <td>28</td>\n",
       "      <td>1</td>\n",
       "      <td>33.000</td>\n",
       "      <td>3</td>\n",
       "      <td>0</td>\n",
       "      <td>0</td>\n",
       "      <td>1</td>\n",
       "      <td>0</td>\n",
       "    </tr>\n",
       "    <tr>\n",
       "      <th>3</th>\n",
       "      <td>33</td>\n",
       "      <td>1</td>\n",
       "      <td>22.705</td>\n",
       "      <td>0</td>\n",
       "      <td>0</td>\n",
       "      <td>1</td>\n",
       "      <td>0</td>\n",
       "      <td>0</td>\n",
       "    </tr>\n",
       "    <tr>\n",
       "      <th>4</th>\n",
       "      <td>32</td>\n",
       "      <td>1</td>\n",
       "      <td>28.880</td>\n",
       "      <td>0</td>\n",
       "      <td>0</td>\n",
       "      <td>1</td>\n",
       "      <td>0</td>\n",
       "      <td>0</td>\n",
       "    </tr>\n",
       "    <tr>\n",
       "      <th>...</th>\n",
       "      <td>...</td>\n",
       "      <td>...</td>\n",
       "      <td>...</td>\n",
       "      <td>...</td>\n",
       "      <td>...</td>\n",
       "      <td>...</td>\n",
       "      <td>...</td>\n",
       "      <td>...</td>\n",
       "    </tr>\n",
       "    <tr>\n",
       "      <th>1333</th>\n",
       "      <td>50</td>\n",
       "      <td>1</td>\n",
       "      <td>30.970</td>\n",
       "      <td>3</td>\n",
       "      <td>0</td>\n",
       "      <td>1</td>\n",
       "      <td>0</td>\n",
       "      <td>0</td>\n",
       "    </tr>\n",
       "    <tr>\n",
       "      <th>1334</th>\n",
       "      <td>18</td>\n",
       "      <td>0</td>\n",
       "      <td>31.920</td>\n",
       "      <td>0</td>\n",
       "      <td>0</td>\n",
       "      <td>0</td>\n",
       "      <td>0</td>\n",
       "      <td>0</td>\n",
       "    </tr>\n",
       "    <tr>\n",
       "      <th>1335</th>\n",
       "      <td>18</td>\n",
       "      <td>0</td>\n",
       "      <td>36.850</td>\n",
       "      <td>0</td>\n",
       "      <td>0</td>\n",
       "      <td>0</td>\n",
       "      <td>1</td>\n",
       "      <td>0</td>\n",
       "    </tr>\n",
       "    <tr>\n",
       "      <th>1336</th>\n",
       "      <td>21</td>\n",
       "      <td>0</td>\n",
       "      <td>25.800</td>\n",
       "      <td>0</td>\n",
       "      <td>0</td>\n",
       "      <td>0</td>\n",
       "      <td>0</td>\n",
       "      <td>1</td>\n",
       "    </tr>\n",
       "    <tr>\n",
       "      <th>1337</th>\n",
       "      <td>61</td>\n",
       "      <td>0</td>\n",
       "      <td>29.070</td>\n",
       "      <td>0</td>\n",
       "      <td>1</td>\n",
       "      <td>1</td>\n",
       "      <td>0</td>\n",
       "      <td>0</td>\n",
       "    </tr>\n",
       "  </tbody>\n",
       "</table>\n",
       "<p>1338 rows × 8 columns</p>\n",
       "</div>"
      ],
      "text/plain": [
       "      age  sex     bmi  children  smoker  northwest  southeast  southwest\n",
       "0      19    0  27.900         0       1          0          0          1\n",
       "1      18    1  33.770         1       0          0          1          0\n",
       "2      28    1  33.000         3       0          0          1          0\n",
       "3      33    1  22.705         0       0          1          0          0\n",
       "4      32    1  28.880         0       0          1          0          0\n",
       "...   ...  ...     ...       ...     ...        ...        ...        ...\n",
       "1333   50    1  30.970         3       0          1          0          0\n",
       "1334   18    0  31.920         0       0          0          0          0\n",
       "1335   18    0  36.850         0       0          0          1          0\n",
       "1336   21    0  25.800         0       0          0          0          1\n",
       "1337   61    0  29.070         0       1          1          0          0\n",
       "\n",
       "[1338 rows x 8 columns]"
      ]
     },
     "execution_count": 295,
     "metadata": {},
     "output_type": "execute_result"
    }
   ],
   "source": [
    "X"
   ]
  },
  {
   "cell_type": "code",
   "execution_count": 296,
   "metadata": {},
   "outputs": [
    {
     "data": {
      "text/plain": [
       "0       16884.92400\n",
       "1        1725.55230\n",
       "2        4449.46200\n",
       "3       21984.47061\n",
       "4        3866.85520\n",
       "           ...     \n",
       "1333    10600.54830\n",
       "1334     2205.98080\n",
       "1335     1629.83350\n",
       "1336     2007.94500\n",
       "1337    29141.36030\n",
       "Name: charges, Length: 1338, dtype: float64"
      ]
     },
     "execution_count": 296,
     "metadata": {},
     "output_type": "execute_result"
    }
   ],
   "source": [
    "y"
   ]
  },
  {
   "cell_type": "code",
   "execution_count": 297,
   "metadata": {
    "colab": {
     "base_uri": "https://localhost:8080/",
     "height": 34
    },
    "colab_type": "code",
    "id": "XpGU63Ne1e9P",
    "outputId": "e16c74ca-dc1c-416c-dc44-7f927bb99bc6"
   },
   "outputs": [
    {
     "data": {
      "text/plain": [
       "(1338, 8)"
      ]
     },
     "execution_count": 297,
     "metadata": {},
     "output_type": "execute_result"
    }
   ],
   "source": [
    "X.shape"
   ]
  },
  {
   "cell_type": "code",
   "execution_count": 298,
   "metadata": {
    "colab": {
     "base_uri": "https://localhost:8080/",
     "height": 34
    },
    "colab_type": "code",
    "id": "OjGj0RALA0qZ",
    "outputId": "26559a6c-880b-45b4-a1e8-3c4b92bea889"
   },
   "outputs": [
    {
     "data": {
      "text/plain": [
       "(1338,)"
      ]
     },
     "execution_count": 298,
     "metadata": {},
     "output_type": "execute_result"
    }
   ],
   "source": [
    "y.shape"
   ]
  },
  {
   "cell_type": "code",
   "execution_count": 299,
   "metadata": {},
   "outputs": [
    {
     "data": {
      "text/plain": [
       "0       16884.92400\n",
       "1        1725.55230\n",
       "2        4449.46200\n",
       "3       21984.47061\n",
       "4        3866.85520\n",
       "           ...     \n",
       "1333    10600.54830\n",
       "1334     2205.98080\n",
       "1335     1629.83350\n",
       "1336     2007.94500\n",
       "1337    29141.36030\n",
       "Name: charges, Length: 1338, dtype: float64"
      ]
     },
     "execution_count": 299,
     "metadata": {},
     "output_type": "execute_result"
    }
   ],
   "source": [
    "y"
   ]
  },
  {
   "cell_type": "markdown",
   "metadata": {},
   "source": [
    "# IMPORTANT TO MAKE IT INTO A FLOAT32 Types"
   ]
  },
  {
   "cell_type": "code",
   "execution_count": 300,
   "metadata": {
    "colab": {},
    "colab_type": "code",
    "id": "jIeiK1maA6mm"
   },
   "outputs": [],
   "source": [
    "X = np.array(X).astype('float32')\n",
    "y = np.array(y).astype('float32')"
   ]
  },
  {
   "cell_type": "code",
   "execution_count": 301,
   "metadata": {},
   "outputs": [],
   "source": [
    "y = y.reshape(-1,1)  # reformat to a column format"
   ]
  },
  {
   "cell_type": "code",
   "execution_count": 302,
   "metadata": {},
   "outputs": [
    {
     "data": {
      "text/plain": [
       "array([[16884.924 ],\n",
       "       [ 1725.5522],\n",
       "       [ 4449.462 ],\n",
       "       ...,\n",
       "       [ 1629.8335],\n",
       "       [ 2007.945 ],\n",
       "       [29141.36  ]], dtype=float32)"
      ]
     },
     "execution_count": 302,
     "metadata": {},
     "output_type": "execute_result"
    }
   ],
   "source": [
    "y"
   ]
  },
  {
   "cell_type": "code",
   "execution_count": 226,
   "metadata": {},
   "outputs": [
    {
     "data": {
      "text/plain": [
       "array([[19.  ,  1.  , 27.9 , ...,  0.  ,  0.  ,  1.  ],\n",
       "       [18.  ,  1.  , 33.77, ...,  0.  ,  1.  ,  0.  ],\n",
       "       [28.  ,  1.  , 33.  , ...,  0.  ,  1.  ,  0.  ],\n",
       "       ...,\n",
       "       [18.  ,  1.  , 36.85, ...,  0.  ,  1.  ,  0.  ],\n",
       "       [21.  ,  1.  , 25.8 , ...,  0.  ,  0.  ,  1.  ],\n",
       "       [61.  ,  1.  , 29.07, ...,  1.  ,  0.  ,  0.  ]], dtype=float32)"
      ]
     },
     "execution_count": 226,
     "metadata": {},
     "output_type": "execute_result"
    }
   ],
   "source": [
    "# Only take the numerical variables and scale them\n",
    "X"
   ]
  },
  {
   "cell_type": "markdown",
   "metadata": {},
   "source": [
    "# Split data into train, test and call the train_test_split method"
   ]
  },
  {
   "cell_type": "code",
   "execution_count": 227,
   "metadata": {},
   "outputs": [
    {
     "data": {
      "text/plain": [
       "((1338, 1), (1338, 8))"
      ]
     },
     "execution_count": 227,
     "metadata": {},
     "output_type": "execute_result"
    }
   ],
   "source": [
    "y.shape, X.shape"
   ]
  },
  {
   "cell_type": "code",
   "execution_count": 228,
   "metadata": {},
   "outputs": [],
   "source": [
    "from sklearn.model_selection import train_test_split\n",
    "\n",
    "X_train, X_test, y_train, y_test = train_test_split( X, y, test_size=0.2, random_state=42)"
   ]
  },
  {
   "cell_type": "code",
   "execution_count": 303,
   "metadata": {
    "colab": {},
    "colab_type": "code",
    "id": "m6V7goNiA6xG"
   },
   "outputs": [],
   "source": [
    "\n",
    "#scaling the data before feeding the model\n",
    "from sklearn.preprocessing import StandardScaler, MinMaxScaler\n",
    "\n",
    "scaler_x = StandardScaler()\n",
    "X_train = scaler_x.fit_transform(X_train)\n",
    "X_test = scaler_x.transform(X_test)\n",
    "\n",
    "scaler_y = StandardScaler()\n",
    "y_train = scaler_y.fit_transform(y_train)\n",
    "y_test = scaler_y.transform(y_test)"
   ]
  },
  {
   "cell_type": "markdown",
   "metadata": {},
   "source": [
    "MINI CHALLENGE\n",
    "- Split the data into 20% Testing and 80% Training\n",
    "- Double check that the split was successful by getting the shape of both the training and testing datasets"
   ]
  },
  {
   "cell_type": "code",
   "execution_count": 230,
   "metadata": {},
   "outputs": [],
   "source": [
    "from sklearn.model_selection import train_test_split\n",
    "X_train, X_test, y_train, y_test = train_test_split( X, y, test_size=0.2, random_state=42)"
   ]
  },
  {
   "cell_type": "code",
   "execution_count": 231,
   "metadata": {},
   "outputs": [
    {
     "data": {
      "text/plain": [
       "((1070, 1), (1070, 8))"
      ]
     },
     "execution_count": 231,
     "metadata": {},
     "output_type": "execute_result"
    }
   ],
   "source": [
    "y_train.shape, X_train.shape"
   ]
  },
  {
   "cell_type": "markdown",
   "metadata": {
    "colab_type": "text",
    "id": "idWHLv5alF4C"
   },
   "source": [
    "# TASK #6: TRAIN AND TEST A LINEAR REGRESSION MODEL IN SK-LEARN (NOTE THAT SAGEMAKER BUILT-IN ALGORITHMS ARE NOT USED HERE)"
   ]
  },
  {
   "cell_type": "code",
   "execution_count": 232,
   "metadata": {
    "colab": {
     "base_uri": "https://localhost:8080/",
     "height": 34
    },
    "colab_type": "code",
    "id": "yHL-6mKwBURs",
    "outputId": "10d71b6d-9c2b-4bab-8b27-d3c5883e6a25"
   },
   "outputs": [
    {
     "data": {
      "text/plain": [
       "LinearRegression()"
      ]
     },
     "execution_count": 232,
     "metadata": {},
     "output_type": "execute_result"
    }
   ],
   "source": [
    "# using linear regression model\n",
    "from sklearn.linear_model import LinearRegression\n",
    "from sklearn.metrics import mean_squared_error, accuracy_score\n",
    "\n",
    "regresssion_model_sklearn = LinearRegression()\n",
    "regresssion_model_sklearn.fit(X_train, y_train)\n"
   ]
  },
  {
   "cell_type": "code",
   "execution_count": 233,
   "metadata": {
    "colab": {
     "base_uri": "https://localhost:8080/",
     "height": 34
    },
    "colab_type": "code",
    "id": "elD8m5N0BgEY",
    "outputId": "16a1813d-a0f1-4d1f-dc02-d7ad5a445417"
   },
   "outputs": [
    {
     "data": {
      "text/plain": [
       "0.7835569989544422"
      ]
     },
     "execution_count": 233,
     "metadata": {},
     "output_type": "execute_result"
    }
   ],
   "source": [
    "regresssion_model_sklearn_accuracy = regresssion_model_sklearn.score(X_test, y_test)\n",
    "regresssion_model_sklearn_accuracy"
   ]
  },
  {
   "cell_type": "code",
   "execution_count": 234,
   "metadata": {},
   "outputs": [],
   "source": [
    "y_predict = regresssion_model_sklearn.predict(X_test)"
   ]
  },
  {
   "cell_type": "code",
   "execution_count": 235,
   "metadata": {},
   "outputs": [],
   "source": [
    "y_predict_orig = scaler_y.inverse_transform(y_predict)  # need to scale it to inverse transform since it is normalized\n",
    "y_test_orig = scaler_y.inverse_transform(y_test)\n"
   ]
  },
  {
   "cell_type": "code",
   "execution_count": 236,
   "metadata": {},
   "outputs": [
    {
     "data": {
      "text/plain": [
       "268"
      ]
     },
     "execution_count": 236,
     "metadata": {},
     "output_type": "execute_result"
    }
   ],
   "source": [
    "k = X_test.shape[1]\n",
    "n = len(X_test)\n",
    "n"
   ]
  },
  {
   "cell_type": "code",
   "execution_count": 237,
   "metadata": {
    "scrolled": true
   },
   "outputs": [],
   "source": [
    "from sklearn.metrics import r2_score, mean_squared_error, mean_absolute_error\n",
    "from math import sqrt\n",
    "\n",
    "RMSE = float(format(np.sqrt(mean_squared_error(y_test_orig, y_predict_orig)),'.3f'))\n",
    "MSE = mean_squared_error(y_test_orig, y_predict_orig)\n"
   ]
  },
  {
   "cell_type": "markdown",
   "metadata": {},
   "source": [
    "MINI CHALLENGE\n",
    "- calculate the mean absolute error, R2 and adjusted R2"
   ]
  },
  {
   "cell_type": "code",
   "execution_count": 238,
   "metadata": {},
   "outputs": [],
   "source": [
    "MAE = mean_absolute_error(y_test_orig, y_predict_orig)\n",
    "r2 = r2_score(y_test_orig, y_predict_orig)\n",
    "adj_r2 = 1 - (1-r2) * (n-1) / (n-k-1) "
   ]
  },
  {
   "cell_type": "code",
   "execution_count": 239,
   "metadata": {},
   "outputs": [
    {
     "name": "stdout",
     "output_type": "stream",
     "text": [
      "RMSE = 69641736.0 \n",
      "MSE = 4849971600000000.0 \n",
      "MAE = 50242224.0 \n",
      "R2 = 0.7835569800929482 \n",
      "Adjusted R2 = 0.7768714814085604\n"
     ]
    }
   ],
   "source": [
    "print('RMSE =',RMSE, '\\nMSE =',MSE, '\\nMAE =',MAE, '\\nR2 =', r2, '\\nAdjusted R2 =', adj_r2) "
   ]
  },
  {
   "cell_type": "markdown",
   "metadata": {},
   "source": [
    "# TASK #7: TRAIN A LINEAR LEARNER MODEL USING SAGEMAKER"
   ]
  },
  {
   "cell_type": "code",
   "execution_count": 240,
   "metadata": {},
   "outputs": [
    {
     "name": "stderr",
     "output_type": "stream",
     "text": [
      "Couldn't call 'get_role' to get Role ARN from role name AmazonSageMaker-ExecutionRole-20211020T234897 to get Role path.\n",
      "Assuming role was created in SageMaker AWS console, as the name contains `AmazonSageMaker-ExecutionRole`. Defaulting to Role ARN with service-role in path. If this Role ARN is incorrect, please add IAM read permissions to your role or supply the Role Arn directly.\n"
     ]
    },
    {
     "name": "stdout",
     "output_type": "stream",
     "text": [
      "arn:aws:iam::570265874283:role/service-role/AmazonSageMaker-ExecutionRole-20211020T234897\n"
     ]
    }
   ],
   "source": [
    "# Boto3 is the Amazon Web Services (AWS) Software Development Kit (SDK) for Python\n",
    "# Boto3 allows Python developer to write software that makes use of services like Amazon S3 and Amazon EC2\n",
    "\n",
    "import sagemaker\n",
    "import boto3\n",
    "from sagemaker import Session\n",
    "\n",
    "# Let's create a Sagemaker session\n",
    "sagemaker_session = sagemaker.Session()\n",
    "bucket = Session().default_bucket() \n",
    "prefix = 'linear_learner' # prefix is the subfolder within the bucket.\n",
    "\n",
    "# Let's get the execution role for the notebook instance. \n",
    "# This is the IAM role that you created when you created your notebook instance. You pass the role to the training job.\n",
    "# Note that AWS Identity and Access Management (IAM) role that Amazon SageMaker can assume to perform tasks on your behalf (for example, reading training results, called model artifacts, from the S3 bucket and writing training results to Amazon S3). \n",
    "role = sagemaker.get_execution_role()\n",
    "print(role)"
   ]
  },
  {
   "cell_type": "code",
   "execution_count": 241,
   "metadata": {},
   "outputs": [
    {
     "data": {
      "text/plain": [
       "(1070, 8)"
      ]
     },
     "execution_count": 241,
     "metadata": {},
     "output_type": "execute_result"
    }
   ],
   "source": [
    "X_train.shape"
   ]
  },
  {
   "cell_type": "code",
   "execution_count": 242,
   "metadata": {},
   "outputs": [
    {
     "data": {
      "text/plain": [
       "(1070, 1)"
      ]
     },
     "execution_count": 242,
     "metadata": {},
     "output_type": "execute_result"
    }
   ],
   "source": [
    "y_train.shape"
   ]
  },
  {
   "cell_type": "code",
   "execution_count": 243,
   "metadata": {},
   "outputs": [],
   "source": [
    "#y_train = y_train[:,0]"
   ]
  },
  {
   "cell_type": "code",
   "execution_count": 244,
   "metadata": {},
   "outputs": [
    {
     "data": {
      "text/plain": [
       "(1070, 1)"
      ]
     },
     "execution_count": 244,
     "metadata": {},
     "output_type": "execute_result"
    }
   ],
   "source": [
    "y_train.shape"
   ]
  },
  {
   "cell_type": "code",
   "execution_count": 245,
   "metadata": {},
   "outputs": [
    {
     "data": {
      "text/plain": [
       "0"
      ]
     },
     "execution_count": 245,
     "metadata": {},
     "output_type": "execute_result"
    }
   ],
   "source": [
    "import io # The io module allows for dealing with various types of I/O (text I/O, binary I/O and raw I/O). \n",
    "import numpy as np\n",
    "import sagemaker.amazon.common as smac # sagemaker common libary\n",
    "\n",
    "# Code below converts the data in numpy array format to RecordIO format\n",
    "# This is the format required by Sagemaker Linear Learner \n",
    "\n",
    "buf = io.BytesIO() # create an in-memory byte array (buf is a buffer I will be writing to)\n",
    "smac.write_numpy_to_dense_tensor(buf, X_train, y_train.reshape(-1))\n",
    "buf.seek(0) \n",
    "# When you write to in-memory byte arrays, it increments 1 every time you write to it\n",
    "# Let's reset that back to zero \n"
   ]
  },
  {
   "cell_type": "code",
   "execution_count": 246,
   "metadata": {},
   "outputs": [
    {
     "name": "stdout",
     "output_type": "stream",
     "text": [
      "uploaded training data location: s3://sagemaker-ap-southeast-1-570265874283/linear_learner/train/linear-train-data\n"
     ]
    }
   ],
   "source": [
    "import os\n",
    "\n",
    "# Code to upload RecordIO data to S3\n",
    " \n",
    "# Key refers to the name of the file    \n",
    "key = 'linear-train-data'\n",
    "\n",
    "# The following code uploads the data in record-io format to S3 bucket to be accessed later for training\n",
    "boto3.resource('s3').Bucket(bucket).Object(os.path.join(prefix, 'train', key)).upload_fileobj(buf)\n",
    "\n",
    "# Let's print out the training data location in s3\n",
    "s3_train_data = 's3://{}/{}/train/{}'.format(bucket, prefix, key)\n",
    "print('uploaded training data location: {}'.format(s3_train_data))"
   ]
  },
  {
   "cell_type": "code",
   "execution_count": 247,
   "metadata": {},
   "outputs": [
    {
     "name": "stdout",
     "output_type": "stream",
     "text": [
      "Training artifacts will be uploaded to: s3://sagemaker-ap-southeast-1-570265874283/linear_learner/output\n"
     ]
    }
   ],
   "source": [
    "# create an output placeholder in S3 bucket to store the linear learner output\n",
    "\n",
    "output_location = 's3://{}/{}/output'.format(bucket, prefix)\n",
    "print('Training artifacts will be uploaded to: {}'.format(output_location))"
   ]
  },
  {
   "cell_type": "code",
   "execution_count": 250,
   "metadata": {},
   "outputs": [
    {
     "name": "stderr",
     "output_type": "stream",
     "text": [
      "The method get_image_uri has been renamed in sagemaker>=2.\n",
      "See: https://sagemaker.readthedocs.io/en/stable/v2.html for details.\n",
      "Defaulting to the only supported framework/algorithm version: 1. Ignoring framework/algorithm version: 1.\n"
     ]
    }
   ],
   "source": [
    "# This code is used to get the training container of sagemaker built-in algorithms\n",
    "# all we have to do is to specify the name of the algorithm, that we want to use\n",
    "\n",
    "# Let's obtain a reference to the linearLearner container image\n",
    "# Note that all regression models are named estimators\n",
    "# You don't have to specify (hardcode) the region, get_image_uri will get the current region name using boto3.Session\n",
    "\n",
    "from sagemaker.amazon.amazon_estimator import get_image_uri\n",
    "\n",
    "# all regression methods in sagemake is names as amazon_estimator\n",
    "\n",
    "container = get_image_uri(boto3.Session().region_name, 'linear-learner') \n",
    "\n",
    "# boto3.Session().region_name automatically gets from our session"
   ]
  },
  {
   "cell_type": "code",
   "execution_count": 249,
   "metadata": {},
   "outputs": [
    {
     "name": "stderr",
     "output_type": "stream",
     "text": [
      "train_instance_count has been renamed in sagemaker>=2.\n",
      "See: https://sagemaker.readthedocs.io/en/stable/v2.html for details.\n",
      "train_instance_type has been renamed in sagemaker>=2.\n",
      "See: https://sagemaker.readthedocs.io/en/stable/v2.html for details.\n"
     ]
    },
    {
     "name": "stdout",
     "output_type": "stream",
     "text": [
      "2021-10-22 14:37:22 Starting - Starting the training job...\n",
      "2021-10-22 14:37:45 Starting - Launching requested ML instancesProfilerReport-1634913442: InProgress\n",
      "...\n",
      "2021-10-22 14:38:18 Starting - Preparing the instances for training............\n",
      "2021-10-22 14:40:16 Downloading - Downloading input data...\n",
      "2021-10-22 14:40:49 Training - Training image download completed. Training in progress..\u001b[34mDocker entrypoint called with argument(s): train\u001b[0m\n",
      "\u001b[34mRunning default environment configuration script\u001b[0m\n",
      "\u001b[34m[10/22/2021 14:40:53 INFO 139817024649024] Reading default configuration from /opt/amazon/lib/python3.7/site-packages/algorithm/resources/default-input.json: {'mini_batch_size': '1000', 'epochs': '15', 'feature_dim': 'auto', 'use_bias': 'true', 'binary_classifier_model_selection_criteria': 'accuracy', 'f_beta': '1.0', 'target_recall': '0.8', 'target_precision': '0.8', 'num_models': 'auto', 'num_calibration_samples': '10000000', 'init_method': 'uniform', 'init_scale': '0.07', 'init_sigma': '0.01', 'init_bias': '0.0', 'optimizer': 'auto', 'loss': 'auto', 'margin': '1.0', 'quantile': '0.5', 'loss_insensitivity': '0.01', 'huber_delta': '1.0', 'num_classes': '1', 'accuracy_top_k': '3', 'wd': 'auto', 'l1': 'auto', 'momentum': 'auto', 'learning_rate': 'auto', 'beta_1': 'auto', 'beta_2': 'auto', 'bias_lr_mult': 'auto', 'bias_wd_mult': 'auto', 'use_lr_scheduler': 'true', 'lr_scheduler_step': 'auto', 'lr_scheduler_factor': 'auto', 'lr_scheduler_minimum_lr': 'auto', 'positive_example_weight_mult': '1.0', 'balance_multiclass_weights': 'false', 'normalize_data': 'true', 'normalize_label': 'auto', 'unbias_data': 'auto', 'unbias_label': 'auto', 'num_point_for_scaler': '10000', '_kvstore': 'auto', '_num_gpus': 'auto', '_num_kv_servers': 'auto', '_log_level': 'info', '_tuning_objective_metric': '', 'early_stopping_patience': '3', 'early_stopping_tolerance': '0.001', '_enable_profiler': 'false'}\u001b[0m\n",
      "\u001b[34m[10/22/2021 14:40:53 INFO 139817024649024] Merging with provided configuration from /opt/ml/input/config/hyperparameters.json: {'loss': 'absolute_loss', 'feature_dim': '8', 'num_models': '32', 'predictor_type': 'regressor', 'epochs': '100', 'mini_batch_size': '100'}\u001b[0m\n",
      "\u001b[34m[10/22/2021 14:40:53 INFO 139817024649024] Final configuration: {'mini_batch_size': '100', 'epochs': '100', 'feature_dim': '8', 'use_bias': 'true', 'binary_classifier_model_selection_criteria': 'accuracy', 'f_beta': '1.0', 'target_recall': '0.8', 'target_precision': '0.8', 'num_models': '32', 'num_calibration_samples': '10000000', 'init_method': 'uniform', 'init_scale': '0.07', 'init_sigma': '0.01', 'init_bias': '0.0', 'optimizer': 'auto', 'loss': 'absolute_loss', 'margin': '1.0', 'quantile': '0.5', 'loss_insensitivity': '0.01', 'huber_delta': '1.0', 'num_classes': '1', 'accuracy_top_k': '3', 'wd': 'auto', 'l1': 'auto', 'momentum': 'auto', 'learning_rate': 'auto', 'beta_1': 'auto', 'beta_2': 'auto', 'bias_lr_mult': 'auto', 'bias_wd_mult': 'auto', 'use_lr_scheduler': 'true', 'lr_scheduler_step': 'auto', 'lr_scheduler_factor': 'auto', 'lr_scheduler_minimum_lr': 'auto', 'positive_example_weight_mult': '1.0', 'balance_multiclass_weights': 'false', 'normalize_data': 'true', 'normalize_label': 'auto', 'unbias_data': 'auto', 'unbias_label': 'auto', 'num_point_for_scaler': '10000', '_kvstore': 'auto', '_num_gpus': 'auto', '_num_kv_servers': 'auto', '_log_level': 'info', '_tuning_objective_metric': '', 'early_stopping_patience': '3', 'early_stopping_tolerance': '0.001', '_enable_profiler': 'false', 'predictor_type': 'regressor'}\u001b[0m\n",
      "\u001b[34m[10/22/2021 14:40:53 WARNING 139817024649024] Loggers have already been setup.\u001b[0m\n",
      "\u001b[34mProcess 1 is a worker.\u001b[0m\n",
      "\u001b[34m[10/22/2021 14:40:53 INFO 139817024649024] Using default worker.\u001b[0m\n",
      "\u001b[34m[10/22/2021 14:40:54 INFO 139817024649024] Checkpoint loading and saving are disabled.\u001b[0m\n",
      "\u001b[34m[2021-10-22 14:40:54.156] [tensorio] [info] epoch_stats={\"data_pipeline\": \"/opt/ml/input/data/train\", \"epoch\": 0, \"duration\": 14, \"num_examples\": 1, \"num_bytes\": 7600}\u001b[0m\n",
      "\u001b[34m[10/22/2021 14:40:54 INFO 139817024649024] Create Store: local\u001b[0m\n",
      "\u001b[34m[2021-10-22 14:40:54.249] [tensorio] [info] epoch_stats={\"data_pipeline\": \"/opt/ml/input/data/train\", \"epoch\": 1, \"duration\": 93, \"num_examples\": 11, \"num_bytes\": 81320}\u001b[0m\n",
      "\u001b[34m[10/22/2021 14:40:54 INFO 139817024649024] Scaler algorithm parameters\n",
      " <algorithm.scaler.ScalerAlgorithmStable object at 0x7f294f410b90>\u001b[0m\n",
      "\u001b[34m[10/22/2021 14:40:54 INFO 139817024649024] Scaling model computed with parameters:\n",
      " {'stdev_label': \u001b[0m\n",
      "\u001b[34m[11994.045]\u001b[0m\n",
      "\u001b[34m<NDArray 1 @cpu(0)>, 'stdev_weight': \u001b[0m\n",
      "\u001b[34m[14.040126    1.          6.019951    1.2089648   0.40587685  0.42769033\n",
      "  0.44133317  0.4330127 ]\u001b[0m\n",
      "\u001b[34m<NDArray 8 @cpu(0)>, 'mean_label': \u001b[0m\n",
      "\u001b[34m[13398.273]\u001b[0m\n",
      "\u001b[34m<NDArray 1 @cpu(0)>, 'mean_weight': \u001b[0m\n",
      "\u001b[34m[39.528996    1.         30.550215    1.102       0.20799999  0.24099998\n",
      "  0.265       0.25      ]\u001b[0m\n",
      "\u001b[34m<NDArray 8 @cpu(0)>}\u001b[0m\n",
      "\u001b[34m[10/22/2021 14:40:54 INFO 139817024649024] nvidia-smi: took 0.030 seconds to run.\u001b[0m\n",
      "\u001b[34m[10/22/2021 14:40:54 INFO 139817024649024] nvidia-smi identified 0 GPUs.\u001b[0m\n",
      "\u001b[34m[10/22/2021 14:40:54 INFO 139817024649024] Number of GPUs being used: 0\u001b[0m\n",
      "\u001b[34m#metrics {\"StartTime\": 1634913654.3609576, \"EndTime\": 1634913654.3609927, \"Dimensions\": {\"Algorithm\": \"Linear Learner\", \"Host\": \"algo-1\", \"Operation\": \"training\", \"Meta\": \"init_train_data_iter\"}, \"Metrics\": {\"Total Records Seen\": {\"sum\": 1170.0, \"count\": 1, \"min\": 1170, \"max\": 1170}, \"Total Batches Seen\": {\"sum\": 12.0, \"count\": 1, \"min\": 12, \"max\": 12}, \"Max Records Seen Between Resets\": {\"sum\": 1070.0, \"count\": 1, \"min\": 1070, \"max\": 1070}, \"Max Batches Seen Between Resets\": {\"sum\": 11.0, \"count\": 1, \"min\": 11, \"max\": 11}, \"Reset Count\": {\"sum\": 2.0, \"count\": 1, \"min\": 2, \"max\": 2}, \"Number of Records Since Last Reset\": {\"sum\": 0.0, \"count\": 1, \"min\": 0, \"max\": 0}, \"Number of Batches Since Last Reset\": {\"sum\": 0.0, \"count\": 1, \"min\": 0, \"max\": 0}}}\n",
      "\u001b[0m\n",
      "\u001b[34m[2021-10-22 14:40:54.643] [tensorio] [info] epoch_stats={\"data_pipeline\": \"/opt/ml/input/data/train\", \"epoch\": 4, \"duration\": 282, \"num_examples\": 11, \"num_bytes\": 81320}\u001b[0m\n",
      "\u001b[34m#metrics {\"StartTime\": 1634913654.6437829, \"EndTime\": 1634913654.6440532, \"Dimensions\": {\"Algorithm\": \"Linear Learner\", \"Host\": \"algo-1\", \"Operation\": \"training\", \"epoch\": 0, \"model\": 0}, \"Metrics\": {\"train_absolute_loss_objective\": {\"sum\": 0.6825323715209961, \"count\": 1, \"min\": 0.6825323715209961, \"max\": 0.6825323715209961}}}\n",
      "\u001b[0m\n",
      "\u001b[34m#metrics {\"StartTime\": 1634913654.6441424, \"EndTime\": 1634913654.6442077, \"Dimensions\": {\"Algorithm\": \"Linear Learner\", \"Host\": \"algo-1\", \"Operation\": \"training\", \"epoch\": 0, \"model\": 1}, \"Metrics\": {\"train_absolute_loss_objective\": {\"sum\": 0.711302562713623, \"count\": 1, \"min\": 0.711302562713623, \"max\": 0.711302562713623}}}\n",
      "\u001b[0m\n",
      "\u001b[34m#metrics {\"StartTime\": 1634913654.6442676, \"EndTime\": 1634913654.6442845, \"Dimensions\": {\"Algorithm\": \"Linear Learner\", \"Host\": \"algo-1\", \"Operation\": \"training\", \"epoch\": 0, \"model\": 2}, \"Metrics\": {\"train_absolute_loss_objective\": {\"sum\": 0.7079666900634766, \"count\": 1, \"min\": 0.7079666900634766, \"max\": 0.7079666900634766}}}\n",
      "\u001b[0m\n",
      "\u001b[34m#metrics {\"StartTime\": 1634913654.6443362, \"EndTime\": 1634913654.6443522, \"Dimensions\": {\"Algorithm\": \"Linear Learner\", \"Host\": \"algo-1\", \"Operation\": \"training\", \"epoch\": 0, \"model\": 3}, \"Metrics\": {\"train_absolute_loss_objective\": {\"sum\": 0.6598907508850098, \"count\": 1, \"min\": 0.6598907508850098, \"max\": 0.6598907508850098}}}\n",
      "\u001b[0m\n",
      "\u001b[34m#metrics {\"StartTime\": 1634913654.6444032, \"EndTime\": 1634913654.6444204, \"Dimensions\": {\"Algorithm\": \"Linear Learner\", \"Host\": \"algo-1\", \"Operation\": \"training\", \"epoch\": 0, \"model\": 4}, \"Metrics\": {\"train_absolute_loss_objective\": {\"sum\": 0.6465513038635254, \"count\": 1, \"min\": 0.6465513038635254, \"max\": 0.6465513038635254}}}\n",
      "\u001b[0m\n",
      "\u001b[34m#metrics {\"StartTime\": 1634913654.6444767, \"EndTime\": 1634913654.6445422, \"Dimensions\": {\"Algorithm\": \"Linear Learner\", \"Host\": \"algo-1\", \"Operation\": \"training\", \"epoch\": 0, \"model\": 5}, \"Metrics\": {\"train_absolute_loss_objective\": {\"sum\": 0.6179146957397461, \"count\": 1, \"min\": 0.6179146957397461, \"max\": 0.6179146957397461}}}\n",
      "\u001b[0m\n",
      "\u001b[34m#metrics {\"StartTime\": 1634913654.6445873, \"EndTime\": 1634913654.644604, \"Dimensions\": {\"Algorithm\": \"Linear Learner\", \"Host\": \"algo-1\", \"Operation\": \"training\", \"epoch\": 0, \"model\": 6}, \"Metrics\": {\"train_absolute_loss_objective\": {\"sum\": 0.6501674499511719, \"count\": 1, \"min\": 0.6501674499511719, \"max\": 0.6501674499511719}}}\n",
      "\u001b[0m\n",
      "\u001b[34m#metrics {\"StartTime\": 1634913654.6446533, \"EndTime\": 1634913654.6446702, \"Dimensions\": {\"Algorithm\": \"Linear Learner\", \"Host\": \"algo-1\", \"Operation\": \"training\", \"epoch\": 0, \"model\": 7}, \"Metrics\": {\"train_absolute_loss_objective\": {\"sum\": 0.618099292755127, \"count\": 1, \"min\": 0.618099292755127, \"max\": 0.618099292755127}}}\n",
      "\u001b[0m\n",
      "\u001b[34m#metrics {\"StartTime\": 1634913654.644718, \"EndTime\": 1634913654.6447322, \"Dimensions\": {\"Algorithm\": \"Linear Learner\", \"Host\": \"algo-1\", \"Operation\": \"training\", \"epoch\": 0, \"model\": 8}, \"Metrics\": {\"train_absolute_loss_objective\": {\"sum\": 0.6403962440490722, \"count\": 1, \"min\": 0.6403962440490722, \"max\": 0.6403962440490722}}}\n",
      "\u001b[0m\n",
      "\u001b[34m#metrics {\"StartTime\": 1634913654.644778, \"EndTime\": 1634913654.6447914, \"Dimensions\": {\"Algorithm\": \"Linear Learner\", \"Host\": \"algo-1\", \"Operation\": \"training\", \"epoch\": 0, \"model\": 9}, \"Metrics\": {\"train_absolute_loss_objective\": {\"sum\": 0.7303421897888184, \"count\": 1, \"min\": 0.7303421897888184, \"max\": 0.7303421897888184}}}\n",
      "\u001b[0m\n",
      "\u001b[34m#metrics {\"StartTime\": 1634913654.6448383, \"EndTime\": 1634913654.6448538, \"Dimensions\": {\"Algorithm\": \"Linear Learner\", \"Host\": \"algo-1\", \"Operation\": \"training\", \"epoch\": 0, \"model\": 10}, \"Metrics\": {\"train_absolute_loss_objective\": {\"sum\": 0.6932545013427734, \"count\": 1, \"min\": 0.6932545013427734, \"max\": 0.6932545013427734}}}\n",
      "\u001b[0m\n",
      "\u001b[34m#metrics {\"StartTime\": 1634913654.6449058, \"EndTime\": 1634913654.644921, \"Dimensions\": {\"Algorithm\": \"Linear Learner\", \"Host\": \"algo-1\", \"Operation\": \"training\", \"epoch\": 0, \"model\": 11}, \"Metrics\": {\"train_absolute_loss_objective\": {\"sum\": 0.649231517791748, \"count\": 1, \"min\": 0.649231517791748, \"max\": 0.649231517791748}}}\n",
      "\u001b[0m\n",
      "\u001b[34m#metrics {\"StartTime\": 1634913654.6449723, \"EndTime\": 1634913654.6449888, \"Dimensions\": {\"Algorithm\": \"Linear Learner\", \"Host\": \"algo-1\", \"Operation\": \"training\", \"epoch\": 0, \"model\": 12}, \"Metrics\": {\"train_absolute_loss_objective\": {\"sum\": 0.6345195503234863, \"count\": 1, \"min\": 0.6345195503234863, \"max\": 0.6345195503234863}}}\n",
      "\u001b[0m\n",
      "\u001b[34m#metrics {\"StartTime\": 1634913654.6450386, \"EndTime\": 1634913654.6450539, \"Dimensions\": {\"Algorithm\": \"Linear Learner\", \"Host\": \"algo-1\", \"Operation\": \"training\", \"epoch\": 0, \"model\": 13}, \"Metrics\": {\"train_absolute_loss_objective\": {\"sum\": 0.6096298294067383, \"count\": 1, \"min\": 0.6096298294067383, \"max\": 0.6096298294067383}}}\n",
      "\u001b[0m\n",
      "\u001b[34m#metrics {\"StartTime\": 1634913654.6451025, \"EndTime\": 1634913654.6451192, \"Dimensions\": {\"Algorithm\": \"Linear Learner\", \"Host\": \"algo-1\", \"Operation\": \"training\", \"epoch\": 0, \"model\": 14}, \"Metrics\": {\"train_absolute_loss_objective\": {\"sum\": 0.6317841911315918, \"count\": 1, \"min\": 0.6317841911315918, \"max\": 0.6317841911315918}}}\n",
      "\u001b[0m\n",
      "\u001b[34m#metrics {\"StartTime\": 1634913654.6451666, \"EndTime\": 1634913654.645181, \"Dimensions\": {\"Algorithm\": \"Linear Learner\", \"Host\": \"algo-1\", \"Operation\": \"training\", \"epoch\": 0, \"model\": 15}, \"Metrics\": {\"train_absolute_loss_objective\": {\"sum\": 0.6353740119934081, \"count\": 1, \"min\": 0.6353740119934081, \"max\": 0.6353740119934081}}}\n",
      "\u001b[0m\n",
      "\u001b[34m#metrics {\"StartTime\": 1634913654.6452258, \"EndTime\": 1634913654.6452389, \"Dimensions\": {\"Algorithm\": \"Linear Learner\", \"Host\": \"algo-1\", \"Operation\": \"training\", \"epoch\": 0, \"model\": 16}, \"Metrics\": {\"train_absolute_loss_objective\": {\"sum\": 0.7059950065612793, \"count\": 1, \"min\": 0.7059950065612793, \"max\": 0.7059950065612793}}}\n",
      "\u001b[0m\n",
      "\u001b[34m#metrics {\"StartTime\": 1634913654.6452813, \"EndTime\": 1634913654.6452956, \"Dimensions\": {\"Algorithm\": \"Linear Learner\", \"Host\": \"algo-1\", \"Operation\": \"training\", \"epoch\": 0, \"model\": 17}, \"Metrics\": {\"train_absolute_loss_objective\": {\"sum\": 0.7253131294250488, \"count\": 1, \"min\": 0.7253131294250488, \"max\": 0.7253131294250488}}}\n",
      "\u001b[0m\n",
      "\u001b[34m#metrics {\"StartTime\": 1634913654.6453464, \"EndTime\": 1634913654.6453624, \"Dimensions\": {\"Algorithm\": \"Linear Learner\", \"Host\": \"algo-1\", \"Operation\": \"training\", \"epoch\": 0, \"model\": 18}, \"Metrics\": {\"train_absolute_loss_objective\": {\"sum\": 0.6472269325256348, \"count\": 1, \"min\": 0.6472269325256348, \"max\": 0.6472269325256348}}}\n",
      "\u001b[0m\n",
      "\u001b[34m#metrics {\"StartTime\": 1634913654.6454105, \"EndTime\": 1634913654.645425, \"Dimensions\": {\"Algorithm\": \"Linear Learner\", \"Host\": \"algo-1\", \"Operation\": \"training\", \"epoch\": 0, \"model\": 19}, \"Metrics\": {\"train_absolute_loss_objective\": {\"sum\": 0.6859553108215332, \"count\": 1, \"min\": 0.6859553108215332, \"max\": 0.6859553108215332}}}\n",
      "\u001b[0m\n",
      "\u001b[34m#metrics {\"StartTime\": 1634913654.6454723, \"EndTime\": 1634913654.6454878, \"Dimensions\": {\"Algorithm\": \"Linear Learner\", \"Host\": \"algo-1\", \"Operation\": \"training\", \"epoch\": 0, \"model\": 20}, \"Metrics\": {\"train_absolute_loss_objective\": {\"sum\": 0.6534733428955078, \"count\": 1, \"min\": 0.6534733428955078, \"max\": 0.6534733428955078}}}\n",
      "\u001b[0m\n",
      "\u001b[34m#metrics {\"StartTime\": 1634913654.6455386, \"EndTime\": 1634913654.6455529, \"Dimensions\": {\"Algorithm\": \"Linear Learner\", \"Host\": \"algo-1\", \"Operation\": \"training\", \"epoch\": 0, \"model\": 21}, \"Metrics\": {\"train_absolute_loss_objective\": {\"sum\": 0.6192728691101074, \"count\": 1, \"min\": 0.6192728691101074, \"max\": 0.6192728691101074}}}\n",
      "\u001b[0m\n",
      "\u001b[34m#metrics {\"StartTime\": 1634913654.6455996, \"EndTime\": 1634913654.6456144, \"Dimensions\": {\"Algorithm\": \"Linear Learner\", \"Host\": \"algo-1\", \"Operation\": \"training\", \"epoch\": 0, \"model\": 22}, \"Metrics\": {\"train_absolute_loss_objective\": {\"sum\": 0.6202082252502441, \"count\": 1, \"min\": 0.6202082252502441, \"max\": 0.6202082252502441}}}\n",
      "\u001b[0m\n",
      "\u001b[34m#metrics {\"StartTime\": 1634913654.6456633, \"EndTime\": 1634913654.645678, \"Dimensions\": {\"Algorithm\": \"Linear Learner\", \"Host\": \"algo-1\", \"Operation\": \"training\", \"epoch\": 0, \"model\": 23}, \"Metrics\": {\"train_absolute_loss_objective\": {\"sum\": 0.6157757034301757, \"count\": 1, \"min\": 0.6157757034301757, \"max\": 0.6157757034301757}}}\n",
      "\u001b[0m\n",
      "\u001b[34m#metrics {\"StartTime\": 1634913654.6457274, \"EndTime\": 1634913654.645743, \"Dimensions\": {\"Algorithm\": \"Linear Learner\", \"Host\": \"algo-1\", \"Operation\": \"training\", \"epoch\": 0, \"model\": 24}, \"Metrics\": {\"train_absolute_loss_objective\": {\"sum\": 0.7018219871520996, \"count\": 1, \"min\": 0.7018219871520996, \"max\": 0.7018219871520996}}}\n",
      "\u001b[0m\n",
      "\u001b[34m#metrics {\"StartTime\": 1634913654.6457984, \"EndTime\": 1634913654.6458142, \"Dimensions\": {\"Algorithm\": \"Linear Learner\", \"Host\": \"algo-1\", \"Operation\": \"training\", \"epoch\": 0, \"model\": 25}, \"Metrics\": {\"train_absolute_loss_objective\": {\"sum\": 0.6774722480773926, \"count\": 1, \"min\": 0.6774722480773926, \"max\": 0.6774722480773926}}}\n",
      "\u001b[0m\n",
      "\u001b[34m#metrics {\"StartTime\": 1634913654.6458647, \"EndTime\": 1634913654.6458805, \"Dimensions\": {\"Algorithm\": \"Linear Learner\", \"Host\": \"algo-1\", \"Operation\": \"training\", \"epoch\": 0, \"model\": 26}, \"Metrics\": {\"train_absolute_loss_objective\": {\"sum\": 0.687868995666504, \"count\": 1, \"min\": 0.687868995666504, \"max\": 0.687868995666504}}}\n",
      "\u001b[0m\n",
      "\u001b[34m#metrics {\"StartTime\": 1634913654.6459284, \"EndTime\": 1634913654.645944, \"Dimensions\": {\"Algorithm\": \"Linear Learner\", \"Host\": \"algo-1\", \"Operation\": \"training\", \"epoch\": 0, \"model\": 27}, \"Metrics\": {\"train_absolute_loss_objective\": {\"sum\": 0.7181942939758301, \"count\": 1, \"min\": 0.7181942939758301, \"max\": 0.7181942939758301}}}\n",
      "\u001b[0m\n",
      "\u001b[34m#metrics {\"StartTime\": 1634913654.6459935, \"EndTime\": 1634913654.6460083, \"Dimensions\": {\"Algorithm\": \"Linear Learner\", \"Host\": \"algo-1\", \"Operation\": \"training\", \"epoch\": 0, \"model\": 28}, \"Metrics\": {\"train_absolute_loss_objective\": {\"sum\": 0.800755916595459, \"count\": 1, \"min\": 0.800755916595459, \"max\": 0.800755916595459}}}\n",
      "\u001b[0m\n",
      "\u001b[34m#metrics {\"StartTime\": 1634913654.6460643, \"EndTime\": 1634913654.646081, \"Dimensions\": {\"Algorithm\": \"Linear Learner\", \"Host\": \"algo-1\", \"Operation\": \"training\", \"epoch\": 0, \"model\": 29}, \"Metrics\": {\"train_absolute_loss_objective\": {\"sum\": 0.8245462875366211, \"count\": 1, \"min\": 0.8245462875366211, \"max\": 0.8245462875366211}}}\n",
      "\u001b[0m\n",
      "\u001b[34m#metrics {\"StartTime\": 1634913654.64613, \"EndTime\": 1634913654.646146, \"Dimensions\": {\"Algorithm\": \"Linear Learner\", \"Host\": \"algo-1\", \"Operation\": \"training\", \"epoch\": 0, \"model\": 30}, \"Metrics\": {\"train_absolute_loss_objective\": {\"sum\": 0.8089824600219726, \"count\": 1, \"min\": 0.8089824600219726, \"max\": 0.8089824600219726}}}\n",
      "\u001b[0m\n",
      "\u001b[34m#metrics {\"StartTime\": 1634913654.6461961, \"EndTime\": 1634913654.6462128, \"Dimensions\": {\"Algorithm\": \"Linear Learner\", \"Host\": \"algo-1\", \"Operation\": \"training\", \"epoch\": 0, \"model\": 31}, \"Metrics\": {\"train_absolute_loss_objective\": {\"sum\": 0.7748938369750976, \"count\": 1, \"min\": 0.7748938369750976, \"max\": 0.7748938369750976}}}\n",
      "\u001b[0m\n",
      "\u001b[34m[10/22/2021 14:40:54 INFO 139817024649024] #quality_metric: host=algo-1, epoch=0, train absolute_loss_objective <loss>=0.6825323715209961\u001b[0m\n",
      "\u001b[34m[10/22/2021 14:40:54 INFO 139817024649024] #early_stopping_criteria_metric: host=algo-1, epoch=0, criteria=absolute_loss_objective, value=0.6096298294067383\u001b[0m\n",
      "\u001b[34m[10/22/2021 14:40:54 INFO 139817024649024] Epoch 0: Loss improved. Updating best model\u001b[0m\n",
      "\u001b[34m[10/22/2021 14:40:54 INFO 139817024649024] Saving model for epoch: 0\u001b[0m\n",
      "\u001b[34m[10/22/2021 14:40:54 INFO 139817024649024] Saved checkpoint to \"/tmp/tmp0b2z1cp7/mx-mod-0000.params\"\u001b[0m\n",
      "\u001b[34m[10/22/2021 14:40:54 INFO 139817024649024] #progress_metric: host=algo-1, completed 1.0 % of epochs\u001b[0m\n",
      "\u001b[34m#metrics {\"StartTime\": 1634913654.3612769, \"EndTime\": 1634913654.6605754, \"Dimensions\": {\"Algorithm\": \"Linear Learner\", \"Host\": \"algo-1\", \"Operation\": \"training\", \"epoch\": 0, \"Meta\": \"training_data_iter\"}, \"Metrics\": {\"Total Records Seen\": {\"sum\": 2240.0, \"count\": 1, \"min\": 2240, \"max\": 2240}, \"Total Batches Seen\": {\"sum\": 23.0, \"count\": 1, \"min\": 23, \"max\": 23}, \"Max Records Seen Between Resets\": {\"sum\": 1070.0, \"count\": 1, \"min\": 1070, \"max\": 1070}, \"Max Batches Seen Between Resets\": {\"sum\": 11.0, \"count\": 1, \"min\": 11, \"max\": 11}, \"Reset Count\": {\"sum\": 3.0, \"count\": 1, \"min\": 3, \"max\": 3}, \"Number of Records Since Last Reset\": {\"sum\": 1070.0, \"count\": 1, \"min\": 1070, \"max\": 1070}, \"Number of Batches Since Last Reset\": {\"sum\": 11.0, \"count\": 1, \"min\": 11, \"max\": 11}}}\n",
      "\u001b[0m\n",
      "\u001b[34m[10/22/2021 14:40:54 INFO 139817024649024] #throughput_metric: host=algo-1, train throughput=3573.687991661219 records/second\u001b[0m\n",
      "\u001b[34m[2021-10-22 14:40:54.880] [tensorio] [info] epoch_stats={\"data_pipeline\": \"/opt/ml/input/data/train\", \"epoch\": 6, \"duration\": 219, \"num_examples\": 11, \"num_bytes\": 81320}\u001b[0m\n",
      "\u001b[34m#metrics {\"StartTime\": 1634913654.8806634, \"EndTime\": 1634913654.880737, \"Dimensions\": {\"Algorithm\": \"Linear Learner\", \"Host\": \"algo-1\", \"Operation\": \"training\", \"epoch\": 1, \"model\": 0}, \"Metrics\": {\"train_absolute_loss_objective\": {\"sum\": 0.6235857391357422, \"count\": 1, \"min\": 0.6235857391357422, \"max\": 0.6235857391357422}}}\n",
      "\u001b[0m\n",
      "\u001b[34m#metrics {\"StartTime\": 1634913654.8808084, \"EndTime\": 1634913654.8808248, \"Dimensions\": {\"Algorithm\": \"Linear Learner\", \"Host\": \"algo-1\", \"Operation\": \"training\", \"epoch\": 1, \"model\": 1}, \"Metrics\": {\"train_absolute_loss_objective\": {\"sum\": 0.6434805335998535, \"count\": 1, \"min\": 0.6434805335998535, \"max\": 0.6434805335998535}}}\n",
      "\u001b[0m\n",
      "\u001b[34m#metrics {\"StartTime\": 1634913654.880873, \"EndTime\": 1634913654.880887, \"Dimensions\": {\"Algorithm\": \"Linear Learner\", \"Host\": \"algo-1\", \"Operation\": \"training\", \"epoch\": 1, \"model\": 2}, \"Metrics\": {\"train_absolute_loss_objective\": {\"sum\": 0.6417321815490723, \"count\": 1, \"min\": 0.6417321815490723, \"max\": 0.6417321815490723}}}\n",
      "\u001b[0m\n",
      "\u001b[34m#metrics {\"StartTime\": 1634913654.8809295, \"EndTime\": 1634913654.8809428, \"Dimensions\": {\"Algorithm\": \"Linear Learner\", \"Host\": \"algo-1\", \"Operation\": \"training\", \"epoch\": 1, \"model\": 3}, \"Metrics\": {\"train_absolute_loss_objective\": {\"sum\": 0.5989622611999512, \"count\": 1, \"min\": 0.5989622611999512, \"max\": 0.5989622611999512}}}\n",
      "\u001b[0m\n",
      "\u001b[34m#metrics {\"StartTime\": 1634913654.880989, \"EndTime\": 1634913654.8810046, \"Dimensions\": {\"Algorithm\": \"Linear Learner\", \"Host\": \"algo-1\", \"Operation\": \"training\", \"epoch\": 1, \"model\": 4}, \"Metrics\": {\"train_absolute_loss_objective\": {\"sum\": 0.4184097137451172, \"count\": 1, \"min\": 0.4184097137451172, \"max\": 0.4184097137451172}}}\n",
      "\u001b[0m\n",
      "\u001b[34m#metrics {\"StartTime\": 1634913654.8810468, \"EndTime\": 1634913654.8810613, \"Dimensions\": {\"Algorithm\": \"Linear Learner\", \"Host\": \"algo-1\", \"Operation\": \"training\", \"epoch\": 1, \"model\": 5}, \"Metrics\": {\"train_absolute_loss_objective\": {\"sum\": 0.40420983695983886, \"count\": 1, \"min\": 0.40420983695983886, \"max\": 0.40420983695983886}}}\n",
      "\u001b[0m\n",
      "\u001b[34m#metrics {\"StartTime\": 1634913654.8811097, \"EndTime\": 1634913654.881125, \"Dimensions\": {\"Algorithm\": \"Linear Learner\", \"Host\": \"algo-1\", \"Operation\": \"training\", \"epoch\": 1, \"model\": 6}, \"Metrics\": {\"train_absolute_loss_objective\": {\"sum\": 0.4036288833618164, \"count\": 1, \"min\": 0.4036288833618164, \"max\": 0.4036288833618164}}}\n",
      "\u001b[0m\n",
      "\u001b[34m#metrics {\"StartTime\": 1634913654.8811798, \"EndTime\": 1634913654.8811963, \"Dimensions\": {\"Algorithm\": \"Linear Learner\", \"Host\": \"algo-1\", \"Operation\": \"training\", \"epoch\": 1, \"model\": 7}, \"Metrics\": {\"train_absolute_loss_objective\": {\"sum\": 0.40927065086364744, \"count\": 1, \"min\": 0.40927065086364744, \"max\": 0.40927065086364744}}}\n",
      "\u001b[0m\n",
      "\u001b[34m#metrics {\"StartTime\": 1634913654.8812559, \"EndTime\": 1634913654.8812726, \"Dimensions\": {\"Algorithm\": \"Linear Learner\", \"Host\": \"algo-1\", \"Operation\": \"training\", \"epoch\": 1, \"model\": 8}, \"Metrics\": {\"train_absolute_loss_objective\": {\"sum\": 0.582896282196045, \"count\": 1, \"min\": 0.582896282196045, \"max\": 0.582896282196045}}}\n",
      "\u001b[0m\n",
      "\u001b[34m#metrics {\"StartTime\": 1634913654.8813334, \"EndTime\": 1634913654.8813488, \"Dimensions\": {\"Algorithm\": \"Linear Learner\", \"Host\": \"algo-1\", \"Operation\": \"training\", \"epoch\": 1, \"model\": 9}, \"Metrics\": {\"train_absolute_loss_objective\": {\"sum\": 0.6648432960510254, \"count\": 1, \"min\": 0.6648432960510254, \"max\": 0.6648432960510254}}}\n",
      "\u001b[0m\n",
      "\u001b[34m#metrics {\"StartTime\": 1634913654.8814073, \"EndTime\": 1634913654.881424, \"Dimensions\": {\"Algorithm\": \"Linear Learner\", \"Host\": \"algo-1\", \"Operation\": \"training\", \"epoch\": 1, \"model\": 10}, \"Metrics\": {\"train_absolute_loss_objective\": {\"sum\": 0.6349635543823242, \"count\": 1, \"min\": 0.6349635543823242, \"max\": 0.6349635543823242}}}\n",
      "\u001b[0m\n",
      "\u001b[34m#metrics {\"StartTime\": 1634913654.8814836, \"EndTime\": 1634913654.8815, \"Dimensions\": {\"Algorithm\": \"Linear Learner\", \"Host\": \"algo-1\", \"Operation\": \"training\", \"epoch\": 1, \"model\": 11}, \"Metrics\": {\"train_absolute_loss_objective\": {\"sum\": 0.5876275177001953, \"count\": 1, \"min\": 0.5876275177001953, \"max\": 0.5876275177001953}}}\n",
      "\u001b[0m\n",
      "\u001b[34m#metrics {\"StartTime\": 1634913654.8815584, \"EndTime\": 1634913654.881575, \"Dimensions\": {\"Algorithm\": \"Linear Learner\", \"Host\": \"algo-1\", \"Operation\": \"training\", \"epoch\": 1, \"model\": 12}, \"Metrics\": {\"train_absolute_loss_objective\": {\"sum\": 0.39126042556762697, \"count\": 1, \"min\": 0.39126042556762697, \"max\": 0.39126042556762697}}}\n",
      "\u001b[0m\n",
      "\u001b[34m#metrics {\"StartTime\": 1634913654.881622, \"EndTime\": 1634913654.881636, \"Dimensions\": {\"Algorithm\": \"Linear Learner\", \"Host\": \"algo-1\", \"Operation\": \"training\", \"epoch\": 1, \"model\": 13}, \"Metrics\": {\"train_absolute_loss_objective\": {\"sum\": 0.38863660049438475, \"count\": 1, \"min\": 0.38863660049438475, \"max\": 0.38863660049438475}}}\n",
      "\u001b[0m\n",
      "\u001b[34m#metrics {\"StartTime\": 1634913654.8816829, \"EndTime\": 1634913654.8816967, \"Dimensions\": {\"Algorithm\": \"Linear Learner\", \"Host\": \"algo-1\", \"Operation\": \"training\", \"epoch\": 1, \"model\": 14}, \"Metrics\": {\"train_absolute_loss_objective\": {\"sum\": 0.394697135925293, \"count\": 1, \"min\": 0.394697135925293, \"max\": 0.394697135925293}}}\n",
      "\u001b[0m\n",
      "\u001b[34m#metrics {\"StartTime\": 1634913654.881741, \"EndTime\": 1634913654.8817544, \"Dimensions\": {\"Algorithm\": \"Linear Learner\", \"Host\": \"algo-1\", \"Operation\": \"training\", \"epoch\": 1, \"model\": 15}, \"Metrics\": {\"train_absolute_loss_objective\": {\"sum\": 0.4084600067138672, \"count\": 1, \"min\": 0.4084600067138672, \"max\": 0.4084600067138672}}}\n",
      "\u001b[0m\n",
      "\u001b[34m#metrics {\"StartTime\": 1634913654.8817968, \"EndTime\": 1634913654.8818102, \"Dimensions\": {\"Algorithm\": \"Linear Learner\", \"Host\": \"algo-1\", \"Operation\": \"training\", \"epoch\": 1, \"model\": 16}, \"Metrics\": {\"train_absolute_loss_objective\": {\"sum\": 0.6412694778442383, \"count\": 1, \"min\": 0.6412694778442383, \"max\": 0.6412694778442383}}}\n",
      "\u001b[0m\n",
      "\u001b[34m#metrics {\"StartTime\": 1634913654.881854, \"EndTime\": 1634913654.8818693, \"Dimensions\": {\"Algorithm\": \"Linear Learner\", \"Host\": \"algo-1\", \"Operation\": \"training\", \"epoch\": 1, \"model\": 17}, \"Metrics\": {\"train_absolute_loss_objective\": {\"sum\": 0.6633409080505371, \"count\": 1, \"min\": 0.6633409080505371, \"max\": 0.6633409080505371}}}\n",
      "\u001b[0m\n",
      "\u001b[34m#metrics {\"StartTime\": 1634913654.881917, \"EndTime\": 1634913654.8819313, \"Dimensions\": {\"Algorithm\": \"Linear Learner\", \"Host\": \"algo-1\", \"Operation\": \"training\", \"epoch\": 1, \"model\": 18}, \"Metrics\": {\"train_absolute_loss_objective\": {\"sum\": 0.5918807640075684, \"count\": 1, \"min\": 0.5918807640075684, \"max\": 0.5918807640075684}}}\n",
      "\u001b[0m\n",
      "\u001b[34m#metrics {\"StartTime\": 1634913654.8819785, \"EndTime\": 1634913654.8819938, \"Dimensions\": {\"Algorithm\": \"Linear Learner\", \"Host\": \"algo-1\", \"Operation\": \"training\", \"epoch\": 1, \"model\": 19}, \"Metrics\": {\"train_absolute_loss_objective\": {\"sum\": 0.6196530685424805, \"count\": 1, \"min\": 0.6196530685424805, \"max\": 0.6196530685424805}}}\n",
      "\u001b[0m\n",
      "\u001b[34m#metrics {\"StartTime\": 1634913654.882043, \"EndTime\": 1634913654.8820589, \"Dimensions\": {\"Algorithm\": \"Linear Learner\", \"Host\": \"algo-1\", \"Operation\": \"training\", \"epoch\": 1, \"model\": 20}, \"Metrics\": {\"train_absolute_loss_objective\": {\"sum\": 0.48520288467407224, \"count\": 1, \"min\": 0.48520288467407224, \"max\": 0.48520288467407224}}}\n",
      "\u001b[0m\n",
      "\u001b[34m#metrics {\"StartTime\": 1634913654.8821077, \"EndTime\": 1634913654.8821228, \"Dimensions\": {\"Algorithm\": \"Linear Learner\", \"Host\": \"algo-1\", \"Operation\": \"training\", \"epoch\": 1, \"model\": 21}, \"Metrics\": {\"train_absolute_loss_objective\": {\"sum\": 0.40830939102172853, \"count\": 1, \"min\": 0.40830939102172853, \"max\": 0.40830939102172853}}}\n",
      "\u001b[0m\n",
      "\u001b[34m#metrics {\"StartTime\": 1634913654.8821692, \"EndTime\": 1634913654.882185, \"Dimensions\": {\"Algorithm\": \"Linear Learner\", \"Host\": \"algo-1\", \"Operation\": \"training\", \"epoch\": 1, \"model\": 22}, \"Metrics\": {\"train_absolute_loss_objective\": {\"sum\": 0.43045361328125, \"count\": 1, \"min\": 0.43045361328125, \"max\": 0.43045361328125}}}\n",
      "\u001b[0m\n",
      "\u001b[34m#metrics {\"StartTime\": 1634913654.8822312, \"EndTime\": 1634913654.8822458, \"Dimensions\": {\"Algorithm\": \"Linear Learner\", \"Host\": \"algo-1\", \"Operation\": \"training\", \"epoch\": 1, \"model\": 23}, \"Metrics\": {\"train_absolute_loss_objective\": {\"sum\": 0.4663111724853516, \"count\": 1, \"min\": 0.4663111724853516, \"max\": 0.4663111724853516}}}\n",
      "\u001b[0m\n",
      "\u001b[34m#metrics {\"StartTime\": 1634913654.8822892, \"EndTime\": 1634913654.8823047, \"Dimensions\": {\"Algorithm\": \"Linear Learner\", \"Host\": \"algo-1\", \"Operation\": \"training\", \"epoch\": 1, \"model\": 24}, \"Metrics\": {\"train_absolute_loss_objective\": {\"sum\": 0.6925874214172363, \"count\": 1, \"min\": 0.6925874214172363, \"max\": 0.6925874214172363}}}\n",
      "\u001b[0m\n",
      "\u001b[34m#metrics {\"StartTime\": 1634913654.882354, \"EndTime\": 1634913654.8823695, \"Dimensions\": {\"Algorithm\": \"Linear Learner\", \"Host\": \"algo-1\", \"Operation\": \"training\", \"epoch\": 1, \"model\": 25}, \"Metrics\": {\"train_absolute_loss_objective\": {\"sum\": 0.696901138305664, \"count\": 1, \"min\": 0.696901138305664, \"max\": 0.696901138305664}}}\n",
      "\u001b[0m\n",
      "\u001b[34m#metrics {\"StartTime\": 1634913654.8824165, \"EndTime\": 1634913654.8824308, \"Dimensions\": {\"Algorithm\": \"Linear Learner\", \"Host\": \"algo-1\", \"Operation\": \"training\", \"epoch\": 1, \"model\": 26}, \"Metrics\": {\"train_absolute_loss_objective\": {\"sum\": 0.6994454078674316, \"count\": 1, \"min\": 0.6994454078674316, \"max\": 0.6994454078674316}}}\n",
      "\u001b[0m\n",
      "\u001b[34m#metrics {\"StartTime\": 1634913654.8824852, \"EndTime\": 1634913654.882501, \"Dimensions\": {\"Algorithm\": \"Linear Learner\", \"Host\": \"algo-1\", \"Operation\": \"training\", \"epoch\": 1, \"model\": 27}, \"Metrics\": {\"train_absolute_loss_objective\": {\"sum\": 0.6810625343322754, \"count\": 1, \"min\": 0.6810625343322754, \"max\": 0.6810625343322754}}}\n",
      "\u001b[0m\n",
      "\u001b[34m#metrics {\"StartTime\": 1634913654.882544, \"EndTime\": 1634913654.882554, \"Dimensions\": {\"Algorithm\": \"Linear Learner\", \"Host\": \"algo-1\", \"Operation\": \"training\", \"epoch\": 1, \"model\": 28}, \"Metrics\": {\"train_absolute_loss_objective\": {\"sum\": 0.7361578559875488, \"count\": 1, \"min\": 0.7361578559875488, \"max\": 0.7361578559875488}}}\n",
      "\u001b[0m\n",
      "\u001b[34m#metrics {\"StartTime\": 1634913654.88258, \"EndTime\": 1634913654.8825874, \"Dimensions\": {\"Algorithm\": \"Linear Learner\", \"Host\": \"algo-1\", \"Operation\": \"training\", \"epoch\": 1, \"model\": 29}, \"Metrics\": {\"train_absolute_loss_objective\": {\"sum\": 0.7426605567932129, \"count\": 1, \"min\": 0.7426605567932129, \"max\": 0.7426605567932129}}}\n",
      "\u001b[0m\n",
      "\u001b[34m#metrics {\"StartTime\": 1634913654.8826108, \"EndTime\": 1634913654.8826177, \"Dimensions\": {\"Algorithm\": \"Linear Learner\", \"Host\": \"algo-1\", \"Operation\": \"training\", \"epoch\": 1, \"model\": 30}, \"Metrics\": {\"train_absolute_loss_objective\": {\"sum\": 0.7241041259765625, \"count\": 1, \"min\": 0.7241041259765625, \"max\": 0.7241041259765625}}}\n",
      "\u001b[0m\n",
      "\u001b[34m#metrics {\"StartTime\": 1634913654.8826427, \"EndTime\": 1634913654.8826551, \"Dimensions\": {\"Algorithm\": \"Linear Learner\", \"Host\": \"algo-1\", \"Operation\": \"training\", \"epoch\": 1, \"model\": 31}, \"Metrics\": {\"train_absolute_loss_objective\": {\"sum\": 0.7227701416015625, \"count\": 1, \"min\": 0.7227701416015625, \"max\": 0.7227701416015625}}}\n",
      "\u001b[0m\n",
      "\u001b[34m[10/22/2021 14:40:54 INFO 139817024649024] #quality_metric: host=algo-1, epoch=1, train absolute_loss_objective <loss>=0.6235857391357422\u001b[0m\n",
      "\u001b[34m[10/22/2021 14:40:54 INFO 139817024649024] #early_stopping_criteria_metric: host=algo-1, epoch=1, criteria=absolute_loss_objective, value=0.38863660049438475\u001b[0m\n",
      "\u001b[34m[10/22/2021 14:40:54 INFO 139817024649024] Epoch 1: Loss improved. Updating best model\u001b[0m\n",
      "\u001b[34m[10/22/2021 14:40:54 INFO 139817024649024] Saving model for epoch: 1\u001b[0m\n",
      "\u001b[34m[10/22/2021 14:40:54 INFO 139817024649024] Saved checkpoint to \"/tmp/tmp68pxe53n/mx-mod-0000.params\"\u001b[0m\n",
      "\u001b[34m[10/22/2021 14:40:54 INFO 139817024649024] #progress_metric: host=algo-1, completed 2.0 % of epochs\u001b[0m\n",
      "\u001b[34m#metrics {\"StartTime\": 1634913654.660858, \"EndTime\": 1634913654.891586, \"Dimensions\": {\"Algorithm\": \"Linear Learner\", \"Host\": \"algo-1\", \"Operation\": \"training\", \"epoch\": 1, \"Meta\": \"training_data_iter\"}, \"Metrics\": {\"Total Records Seen\": {\"sum\": 3310.0, \"count\": 1, \"min\": 3310, \"max\": 3310}, \"Total Batches Seen\": {\"sum\": 34.0, \"count\": 1, \"min\": 34, \"max\": 34}, \"Max Records Seen Between Resets\": {\"sum\": 1070.0, \"count\": 1, \"min\": 1070, \"max\": 1070}, \"Max Batches Seen Between Resets\": {\"sum\": 11.0, \"count\": 1, \"min\": 11, \"max\": 11}, \"Reset Count\": {\"sum\": 4.0, \"count\": 1, \"min\": 4, \"max\": 4}, \"Number of Records Since Last Reset\": {\"sum\": 1070.0, \"count\": 1, \"min\": 1070, \"max\": 1070}, \"Number of Batches Since Last Reset\": {\"sum\": 11.0, \"count\": 1, \"min\": 11, \"max\": 11}}}\n",
      "\u001b[0m\n",
      "\u001b[34m[10/22/2021 14:40:54 INFO 139817024649024] #throughput_metric: host=algo-1, train throughput=4635.135731371277 records/second\u001b[0m\n",
      "\u001b[34m[2021-10-22 14:40:55.118] [tensorio] [info] epoch_stats={\"data_pipeline\": \"/opt/ml/input/data/train\", \"epoch\": 8, \"duration\": 226, \"num_examples\": 11, \"num_bytes\": 81320}\u001b[0m\n",
      "\u001b[34m#metrics {\"StartTime\": 1634913655.1187124, \"EndTime\": 1634913655.1187923, \"Dimensions\": {\"Algorithm\": \"Linear Learner\", \"Host\": \"algo-1\", \"Operation\": \"training\", \"epoch\": 2, \"model\": 0}, \"Metrics\": {\"train_absolute_loss_objective\": {\"sum\": 0.5703916320800781, \"count\": 1, \"min\": 0.5703916320800781, \"max\": 0.5703916320800781}}}\n",
      "\u001b[0m\n",
      "\u001b[34m#metrics {\"StartTime\": 1634913655.118873, \"EndTime\": 1634913655.118887, \"Dimensions\": {\"Algorithm\": \"Linear Learner\", \"Host\": \"algo-1\", \"Operation\": \"training\", \"epoch\": 2, \"model\": 1}, \"Metrics\": {\"train_absolute_loss_objective\": {\"sum\": 0.5895459785461425, \"count\": 1, \"min\": 0.5895459785461425, \"max\": 0.5895459785461425}}}\n",
      "\u001b[0m\n",
      "\u001b[34m#metrics {\"StartTime\": 1634913655.1189249, \"EndTime\": 1634913655.118935, \"Dimensions\": {\"Algorithm\": \"Linear Learner\", \"Host\": \"algo-1\", \"Operation\": \"training\", \"epoch\": 2, \"model\": 2}, \"Metrics\": {\"train_absolute_loss_objective\": {\"sum\": 0.5882786521911622, \"count\": 1, \"min\": 0.5882786521911622, \"max\": 0.5882786521911622}}}\n",
      "\u001b[0m\n",
      "\u001b[34m#metrics {\"StartTime\": 1634913655.1189692, \"EndTime\": 1634913655.1189787, \"Dimensions\": {\"Algorithm\": \"Linear Learner\", \"Host\": \"algo-1\", \"Operation\": \"training\", \"epoch\": 2, \"model\": 3}, \"Metrics\": {\"train_absolute_loss_objective\": {\"sum\": 0.5446505126953125, \"count\": 1, \"min\": 0.5446505126953125, \"max\": 0.5446505126953125}}}\n",
      "\u001b[0m\n",
      "\u001b[34m#metrics {\"StartTime\": 1634913655.1190116, \"EndTime\": 1634913655.1190207, \"Dimensions\": {\"Algorithm\": \"Linear Learner\", \"Host\": \"algo-1\", \"Operation\": \"training\", \"epoch\": 2, \"model\": 4}, \"Metrics\": {\"train_absolute_loss_objective\": {\"sum\": 0.35520532035827634, \"count\": 1, \"min\": 0.35520532035827634, \"max\": 0.35520532035827634}}}\n",
      "\u001b[0m\n",
      "\u001b[34m#metrics {\"StartTime\": 1634913655.1190536, \"EndTime\": 1634913655.119063, \"Dimensions\": {\"Algorithm\": \"Linear Learner\", \"Host\": \"algo-1\", \"Operation\": \"training\", \"epoch\": 2, \"model\": 5}, \"Metrics\": {\"train_absolute_loss_objective\": {\"sum\": 0.3386475315093994, \"count\": 1, \"min\": 0.3386475315093994, \"max\": 0.3386475315093994}}}\n",
      "\u001b[0m\n",
      "\u001b[34m#metrics {\"StartTime\": 1634913655.1190946, \"EndTime\": 1634913655.1191037, \"Dimensions\": {\"Algorithm\": \"Linear Learner\", \"Host\": \"algo-1\", \"Operation\": \"training\", \"epoch\": 2, \"model\": 6}, \"Metrics\": {\"train_absolute_loss_objective\": {\"sum\": 0.3677948303222656, \"count\": 1, \"min\": 0.3677948303222656, \"max\": 0.3677948303222656}}}\n",
      "\u001b[0m\n",
      "\u001b[34m#metrics {\"StartTime\": 1634913655.1191351, \"EndTime\": 1634913655.1191444, \"Dimensions\": {\"Algorithm\": \"Linear Learner\", \"Host\": \"algo-1\", \"Operation\": \"training\", \"epoch\": 2, \"model\": 7}, \"Metrics\": {\"train_absolute_loss_objective\": {\"sum\": 0.3699906997680664, \"count\": 1, \"min\": 0.3699906997680664, \"max\": 0.3699906997680664}}}\n",
      "\u001b[0m\n",
      "\u001b[34m#metrics {\"StartTime\": 1634913655.119176, \"EndTime\": 1634913655.119185, \"Dimensions\": {\"Algorithm\": \"Linear Learner\", \"Host\": \"algo-1\", \"Operation\": \"training\", \"epoch\": 2, \"model\": 8}, \"Metrics\": {\"train_absolute_loss_objective\": {\"sum\": 0.5311051368713379, \"count\": 1, \"min\": 0.5311051368713379, \"max\": 0.5311051368713379}}}\n",
      "\u001b[0m\n",
      "\u001b[34m#metrics {\"StartTime\": 1634913655.1192167, \"EndTime\": 1634913655.1192255, \"Dimensions\": {\"Algorithm\": \"Linear Learner\", \"Host\": \"algo-1\", \"Operation\": \"training\", \"epoch\": 2, \"model\": 9}, \"Metrics\": {\"train_absolute_loss_objective\": {\"sum\": 0.6120965042114258, \"count\": 1, \"min\": 0.6120965042114258, \"max\": 0.6120965042114258}}}\n",
      "\u001b[0m\n",
      "\u001b[34m#metrics {\"StartTime\": 1634913655.119375, \"EndTime\": 1634913655.1193888, \"Dimensions\": {\"Algorithm\": \"Linear Learner\", \"Host\": \"algo-1\", \"Operation\": \"training\", \"epoch\": 2, \"model\": 10}, \"Metrics\": {\"train_absolute_loss_objective\": {\"sum\": 0.5817931747436523, \"count\": 1, \"min\": 0.5817931747436523, \"max\": 0.5817931747436523}}}\n",
      "\u001b[0m\n",
      "\u001b[34m#metrics {\"StartTime\": 1634913655.119425, \"EndTime\": 1634913655.1194348, \"Dimensions\": {\"Algorithm\": \"Linear Learner\", \"Host\": \"algo-1\", \"Operation\": \"training\", \"epoch\": 2, \"model\": 11}, \"Metrics\": {\"train_absolute_loss_objective\": {\"sum\": 0.5348123817443847, \"count\": 1, \"min\": 0.5348123817443847, \"max\": 0.5348123817443847}}}\n",
      "\u001b[0m\n",
      "\u001b[34m#metrics {\"StartTime\": 1634913655.119467, \"EndTime\": 1634913655.1194763, \"Dimensions\": {\"Algorithm\": \"Linear Learner\", \"Host\": \"algo-1\", \"Operation\": \"training\", \"epoch\": 2, \"model\": 12}, \"Metrics\": {\"train_absolute_loss_objective\": {\"sum\": 0.34414392471313476, \"count\": 1, \"min\": 0.34414392471313476, \"max\": 0.34414392471313476}}}\n",
      "\u001b[0m\n",
      "\u001b[34m#metrics {\"StartTime\": 1634913655.1195083, \"EndTime\": 1634913655.119517, \"Dimensions\": {\"Algorithm\": \"Linear Learner\", \"Host\": \"algo-1\", \"Operation\": \"training\", \"epoch\": 2, \"model\": 13}, \"Metrics\": {\"train_absolute_loss_objective\": {\"sum\": 0.3328140468597412, \"count\": 1, \"min\": 0.3328140468597412, \"max\": 0.3328140468597412}}}\n",
      "\u001b[0m\n",
      "\u001b[34m#metrics {\"StartTime\": 1634913655.1195495, \"EndTime\": 1634913655.1195586, \"Dimensions\": {\"Algorithm\": \"Linear Learner\", \"Host\": \"algo-1\", \"Operation\": \"training\", \"epoch\": 2, \"model\": 14}, \"Metrics\": {\"train_absolute_loss_objective\": {\"sum\": 0.339499906539917, \"count\": 1, \"min\": 0.339499906539917, \"max\": 0.339499906539917}}}\n",
      "\u001b[0m\n",
      "\u001b[34m#metrics {\"StartTime\": 1634913655.1195903, \"EndTime\": 1634913655.1195993, \"Dimensions\": {\"Algorithm\": \"Linear Learner\", \"Host\": \"algo-1\", \"Operation\": \"training\", \"epoch\": 2, \"model\": 15}, \"Metrics\": {\"train_absolute_loss_objective\": {\"sum\": 0.3587813930511475, \"count\": 1, \"min\": 0.3587813930511475, \"max\": 0.3587813930511475}}}\n",
      "\u001b[0m\n",
      "\u001b[34m#metrics {\"StartTime\": 1634913655.119631, \"EndTime\": 1634913655.11964, \"Dimensions\": {\"Algorithm\": \"Linear Learner\", \"Host\": \"algo-1\", \"Operation\": \"training\", \"epoch\": 2, \"model\": 16}, \"Metrics\": {\"train_absolute_loss_objective\": {\"sum\": 0.5908164367675781, \"count\": 1, \"min\": 0.5908164367675781, \"max\": 0.5908164367675781}}}\n",
      "\u001b[0m\n",
      "\u001b[34m#metrics {\"StartTime\": 1634913655.1196716, \"EndTime\": 1634913655.119681, \"Dimensions\": {\"Algorithm\": \"Linear Learner\", \"Host\": \"algo-1\", \"Operation\": \"training\", \"epoch\": 2, \"model\": 17}, \"Metrics\": {\"train_absolute_loss_objective\": {\"sum\": 0.611069938659668, \"count\": 1, \"min\": 0.611069938659668, \"max\": 0.611069938659668}}}\n",
      "\u001b[0m\n",
      "\u001b[34m#metrics {\"StartTime\": 1634913655.1197124, \"EndTime\": 1634913655.1197212, \"Dimensions\": {\"Algorithm\": \"Linear Learner\", \"Host\": \"algo-1\", \"Operation\": \"training\", \"epoch\": 2, \"model\": 18}, \"Metrics\": {\"train_absolute_loss_objective\": {\"sum\": 0.5434215240478516, \"count\": 1, \"min\": 0.5434215240478516, \"max\": 0.5434215240478516}}}\n",
      "\u001b[0m\n",
      "\u001b[34m#metrics {\"StartTime\": 1634913655.1197603, \"EndTime\": 1634913655.1197705, \"Dimensions\": {\"Algorithm\": \"Linear Learner\", \"Host\": \"algo-1\", \"Operation\": \"training\", \"epoch\": 2, \"model\": 19}, \"Metrics\": {\"train_absolute_loss_objective\": {\"sum\": 0.5672556610107422, \"count\": 1, \"min\": 0.5672556610107422, \"max\": 0.5672556610107422}}}\n",
      "\u001b[0m\n",
      "\u001b[34m#metrics {\"StartTime\": 1634913655.119806, \"EndTime\": 1634913655.1198153, \"Dimensions\": {\"Algorithm\": \"Linear Learner\", \"Host\": \"algo-1\", \"Operation\": \"training\", \"epoch\": 2, \"model\": 20}, \"Metrics\": {\"train_absolute_loss_objective\": {\"sum\": 0.42709253692626953, \"count\": 1, \"min\": 0.42709253692626953, \"max\": 0.42709253692626953}}}\n",
      "\u001b[0m\n",
      "\u001b[34m#metrics {\"StartTime\": 1634913655.119854, \"EndTime\": 1634913655.119864, \"Dimensions\": {\"Algorithm\": \"Linear Learner\", \"Host\": \"algo-1\", \"Operation\": \"training\", \"epoch\": 2, \"model\": 21}, \"Metrics\": {\"train_absolute_loss_objective\": {\"sum\": 0.3991053123474121, \"count\": 1, \"min\": 0.3991053123474121, \"max\": 0.3991053123474121}}}\n",
      "\u001b[0m\n",
      "\u001b[34m#metrics {\"StartTime\": 1634913655.1199026, \"EndTime\": 1634913655.1199124, \"Dimensions\": {\"Algorithm\": \"Linear Learner\", \"Host\": \"algo-1\", \"Operation\": \"training\", \"epoch\": 2, \"model\": 22}, \"Metrics\": {\"train_absolute_loss_objective\": {\"sum\": 0.40001108932495116, \"count\": 1, \"min\": 0.40001108932495116, \"max\": 0.40001108932495116}}}\n",
      "\u001b[0m\n",
      "\u001b[34m#metrics {\"StartTime\": 1634913655.1199512, \"EndTime\": 1634913655.119961, \"Dimensions\": {\"Algorithm\": \"Linear Learner\", \"Host\": \"algo-1\", \"Operation\": \"training\", \"epoch\": 2, \"model\": 23}, \"Metrics\": {\"train_absolute_loss_objective\": {\"sum\": 0.42397585678100586, \"count\": 1, \"min\": 0.42397585678100586, \"max\": 0.42397585678100586}}}\n",
      "\u001b[0m\n",
      "\u001b[34m#metrics {\"StartTime\": 1634913655.1200025, \"EndTime\": 1634913655.1200135, \"Dimensions\": {\"Algorithm\": \"Linear Learner\", \"Host\": \"algo-1\", \"Operation\": \"training\", \"epoch\": 2, \"model\": 24}, \"Metrics\": {\"train_absolute_loss_objective\": {\"sum\": 0.6858668823242188, \"count\": 1, \"min\": 0.6858668823242188, \"max\": 0.6858668823242188}}}\n",
      "\u001b[0m\n",
      "\u001b[34m#metrics {\"StartTime\": 1634913655.1200564, \"EndTime\": 1634913655.12007, \"Dimensions\": {\"Algorithm\": \"Linear Learner\", \"Host\": \"algo-1\", \"Operation\": \"training\", \"epoch\": 2, \"model\": 25}, \"Metrics\": {\"train_absolute_loss_objective\": {\"sum\": 0.6966896286010742, \"count\": 1, \"min\": 0.6966896286010742, \"max\": 0.6966896286010742}}}\n",
      "\u001b[0m\n",
      "\u001b[34m#metrics {\"StartTime\": 1634913655.1201108, \"EndTime\": 1634913655.1201258, \"Dimensions\": {\"Algorithm\": \"Linear Learner\", \"Host\": \"algo-1\", \"Operation\": \"training\", \"epoch\": 2, \"model\": 26}, \"Metrics\": {\"train_absolute_loss_objective\": {\"sum\": 0.6935360336303711, \"count\": 1, \"min\": 0.6935360336303711, \"max\": 0.6935360336303711}}}\n",
      "\u001b[0m\n",
      "\u001b[34m#metrics {\"StartTime\": 1634913655.1201725, \"EndTime\": 1634913655.1201825, \"Dimensions\": {\"Algorithm\": \"Linear Learner\", \"Host\": \"algo-1\", \"Operation\": \"training\", \"epoch\": 2, \"model\": 27}, \"Metrics\": {\"train_absolute_loss_objective\": {\"sum\": 0.6885553283691406, \"count\": 1, \"min\": 0.6885553283691406, \"max\": 0.6885553283691406}}}\n",
      "\u001b[0m\n",
      "\u001b[34m#metrics {\"StartTime\": 1634913655.1202254, \"EndTime\": 1634913655.1202397, \"Dimensions\": {\"Algorithm\": \"Linear Learner\", \"Host\": \"algo-1\", \"Operation\": \"training\", \"epoch\": 2, \"model\": 28}, \"Metrics\": {\"train_absolute_loss_objective\": {\"sum\": 0.7109050979614258, \"count\": 1, \"min\": 0.7109050979614258, \"max\": 0.7109050979614258}}}\n",
      "\u001b[0m\n",
      "\u001b[34m#metrics {\"StartTime\": 1634913655.120282, \"EndTime\": 1634913655.1202915, \"Dimensions\": {\"Algorithm\": \"Linear Learner\", \"Host\": \"algo-1\", \"Operation\": \"training\", \"epoch\": 2, \"model\": 29}, \"Metrics\": {\"train_absolute_loss_objective\": {\"sum\": 0.7208399925231933, \"count\": 1, \"min\": 0.7208399925231933, \"max\": 0.7208399925231933}}}\n",
      "\u001b[0m\n",
      "\u001b[34m#metrics {\"StartTime\": 1634913655.1203325, \"EndTime\": 1634913655.120347, \"Dimensions\": {\"Algorithm\": \"Linear Learner\", \"Host\": \"algo-1\", \"Operation\": \"training\", \"epoch\": 2, \"model\": 30}, \"Metrics\": {\"train_absolute_loss_objective\": {\"sum\": 0.695730941772461, \"count\": 1, \"min\": 0.695730941772461, \"max\": 0.695730941772461}}}\n",
      "\u001b[0m\n",
      "\u001b[34m#metrics {\"StartTime\": 1634913655.1204038, \"EndTime\": 1634913655.1204195, \"Dimensions\": {\"Algorithm\": \"Linear Learner\", \"Host\": \"algo-1\", \"Operation\": \"training\", \"epoch\": 2, \"model\": 31}, \"Metrics\": {\"train_absolute_loss_objective\": {\"sum\": 0.7145865211486816, \"count\": 1, \"min\": 0.7145865211486816, \"max\": 0.7145865211486816}}}\n",
      "\u001b[0m\n",
      "\u001b[34m[10/22/2021 14:40:55 INFO 139817024649024] #quality_metric: host=algo-1, epoch=2, train absolute_loss_objective <loss>=0.5703916320800781\u001b[0m\n",
      "\u001b[34m[10/22/2021 14:40:55 INFO 139817024649024] #early_stopping_criteria_metric: host=algo-1, epoch=2, criteria=absolute_loss_objective, value=0.3328140468597412\u001b[0m\n",
      "\u001b[34m[10/22/2021 14:40:55 INFO 139817024649024] Epoch 2: Loss improved. Updating best model\u001b[0m\n",
      "\u001b[34m[10/22/2021 14:40:55 INFO 139817024649024] Saving model for epoch: 2\u001b[0m\n",
      "\u001b[34m[10/22/2021 14:40:55 INFO 139817024649024] Saved checkpoint to \"/tmp/tmpj5clqyxa/mx-mod-0000.params\"\u001b[0m\n",
      "\u001b[34m[10/22/2021 14:40:55 INFO 139817024649024] #progress_metric: host=algo-1, completed 3.0 % of epochs\u001b[0m\n",
      "\u001b[34m#metrics {\"StartTime\": 1634913654.8918467, \"EndTime\": 1634913655.1305902, \"Dimensions\": {\"Algorithm\": \"Linear Learner\", \"Host\": \"algo-1\", \"Operation\": \"training\", \"epoch\": 2, \"Meta\": \"training_data_iter\"}, \"Metrics\": {\"Total Records Seen\": {\"sum\": 4380.0, \"count\": 1, \"min\": 4380, \"max\": 4380}, \"Total Batches Seen\": {\"sum\": 45.0, \"count\": 1, \"min\": 45, \"max\": 45}, \"Max Records Seen Between Resets\": {\"sum\": 1070.0, \"count\": 1, \"min\": 1070, \"max\": 1070}, \"Max Batches Seen Between Resets\": {\"sum\": 11.0, \"count\": 1, \"min\": 11, \"max\": 11}, \"Reset Count\": {\"sum\": 5.0, \"count\": 1, \"min\": 5, \"max\": 5}, \"Number of Records Since Last Reset\": {\"sum\": 1070.0, \"count\": 1, \"min\": 1070, \"max\": 1070}, \"Number of Batches Since Last Reset\": {\"sum\": 11.0, \"count\": 1, \"min\": 11, \"max\": 11}}}\n",
      "\u001b[0m\n",
      "\u001b[34m[10/22/2021 14:40:55 INFO 139817024649024] #throughput_metric: host=algo-1, train throughput=4479.1932491304415 records/second\u001b[0m\n",
      "\u001b[34m[2021-10-22 14:40:55.351] [tensorio] [info] epoch_stats={\"data_pipeline\": \"/opt/ml/input/data/train\", \"epoch\": 10, \"duration\": 220, \"num_examples\": 11, \"num_bytes\": 81320}\u001b[0m\n",
      "\u001b[34m#metrics {\"StartTime\": 1634913655.3515882, \"EndTime\": 1634913655.351666, \"Dimensions\": {\"Algorithm\": \"Linear Learner\", \"Host\": \"algo-1\", \"Operation\": \"training\", \"epoch\": 3, \"model\": 0}, \"Metrics\": {\"train_absolute_loss_objective\": {\"sum\": 0.5219668998718262, \"count\": 1, \"min\": 0.5219668998718262, \"max\": 0.5219668998718262}}}\n",
      "\u001b[0m\n",
      "\u001b[34m#metrics {\"StartTime\": 1634913655.3517427, \"EndTime\": 1634913655.3517563, \"Dimensions\": {\"Algorithm\": \"Linear Learner\", \"Host\": \"algo-1\", \"Operation\": \"training\", \"epoch\": 3, \"model\": 1}, \"Metrics\": {\"train_absolute_loss_objective\": {\"sum\": 0.5403843688964843, \"count\": 1, \"min\": 0.5403843688964843, \"max\": 0.5403843688964843}}}\n",
      "\u001b[0m\n",
      "\u001b[34m#metrics {\"StartTime\": 1634913655.351793, \"EndTime\": 1634913655.351803, \"Dimensions\": {\"Algorithm\": \"Linear Learner\", \"Host\": \"algo-1\", \"Operation\": \"training\", \"epoch\": 3, \"model\": 2}, \"Metrics\": {\"train_absolute_loss_objective\": {\"sum\": 0.5398060264587402, \"count\": 1, \"min\": 0.5398060264587402, \"max\": 0.5398060264587402}}}\n",
      "\u001b[0m\n",
      "\u001b[34m#metrics {\"StartTime\": 1634913655.351837, \"EndTime\": 1634913655.3518462, \"Dimensions\": {\"Algorithm\": \"Linear Learner\", \"Host\": \"algo-1\", \"Operation\": \"training\", \"epoch\": 3, \"model\": 3}, \"Metrics\": {\"train_absolute_loss_objective\": {\"sum\": 0.4948759155273437, \"count\": 1, \"min\": 0.4948759155273437, \"max\": 0.4948759155273437}}}\n",
      "\u001b[0m\n",
      "\u001b[34m#metrics {\"StartTime\": 1634913655.3518815, \"EndTime\": 1634913655.351891, \"Dimensions\": {\"Algorithm\": \"Linear Learner\", \"Host\": \"algo-1\", \"Operation\": \"training\", \"epoch\": 3, \"model\": 4}, \"Metrics\": {\"train_absolute_loss_objective\": {\"sum\": 0.32267874336242675, \"count\": 1, \"min\": 0.32267874336242675, \"max\": 0.32267874336242675}}}\n",
      "\u001b[0m\n",
      "\u001b[34m#metrics {\"StartTime\": 1634913655.351924, \"EndTime\": 1634913655.3519335, \"Dimensions\": {\"Algorithm\": \"Linear Learner\", \"Host\": \"algo-1\", \"Operation\": \"training\", \"epoch\": 3, \"model\": 5}, \"Metrics\": {\"train_absolute_loss_objective\": {\"sum\": 0.3230605125427246, \"count\": 1, \"min\": 0.3230605125427246, \"max\": 0.3230605125427246}}}\n",
      "\u001b[0m\n",
      "\u001b[34m#metrics {\"StartTime\": 1634913655.3519654, \"EndTime\": 1634913655.3519745, \"Dimensions\": {\"Algorithm\": \"Linear Learner\", \"Host\": \"algo-1\", \"Operation\": \"training\", \"epoch\": 3, \"model\": 6}, \"Metrics\": {\"train_absolute_loss_objective\": {\"sum\": 0.32639370918273924, \"count\": 1, \"min\": 0.32639370918273924, \"max\": 0.32639370918273924}}}\n",
      "\u001b[0m\n",
      "\u001b[34m#metrics {\"StartTime\": 1634913655.352007, \"EndTime\": 1634913655.352016, \"Dimensions\": {\"Algorithm\": \"Linear Learner\", \"Host\": \"algo-1\", \"Operation\": \"training\", \"epoch\": 3, \"model\": 7}, \"Metrics\": {\"train_absolute_loss_objective\": {\"sum\": 0.3384775352478027, \"count\": 1, \"min\": 0.3384775352478027, \"max\": 0.3384775352478027}}}\n",
      "\u001b[0m\n",
      "\u001b[34m#metrics {\"StartTime\": 1634913655.3520477, \"EndTime\": 1634913655.3520565, \"Dimensions\": {\"Algorithm\": \"Linear Learner\", \"Host\": \"algo-1\", \"Operation\": \"training\", \"epoch\": 3, \"model\": 8}, \"Metrics\": {\"train_absolute_loss_objective\": {\"sum\": 0.4832222213745117, \"count\": 1, \"min\": 0.4832222213745117, \"max\": 0.4832222213745117}}}\n",
      "\u001b[0m\n",
      "\u001b[34m#metrics {\"StartTime\": 1634913655.3520882, \"EndTime\": 1634913655.3520975, \"Dimensions\": {\"Algorithm\": \"Linear Learner\", \"Host\": \"algo-1\", \"Operation\": \"training\", \"epoch\": 3, \"model\": 9}, \"Metrics\": {\"train_absolute_loss_objective\": {\"sum\": 0.562879825592041, \"count\": 1, \"min\": 0.562879825592041, \"max\": 0.562879825592041}}}\n",
      "\u001b[0m\n",
      "\u001b[34m#metrics {\"StartTime\": 1634913655.352129, \"EndTime\": 1634913655.3521378, \"Dimensions\": {\"Algorithm\": \"Linear Learner\", \"Host\": \"algo-1\", \"Operation\": \"training\", \"epoch\": 3, \"model\": 10}, \"Metrics\": {\"train_absolute_loss_objective\": {\"sum\": 0.533493465423584, \"count\": 1, \"min\": 0.533493465423584, \"max\": 0.533493465423584}}}\n",
      "\u001b[0m\n",
      "\u001b[34m#metrics {\"StartTime\": 1634913655.3521695, \"EndTime\": 1634913655.3521783, \"Dimensions\": {\"Algorithm\": \"Linear Learner\", \"Host\": \"algo-1\", \"Operation\": \"training\", \"epoch\": 3, \"model\": 11}, \"Metrics\": {\"train_absolute_loss_objective\": {\"sum\": 0.48538334274291994, \"count\": 1, \"min\": 0.48538334274291994, \"max\": 0.48538334274291994}}}\n",
      "\u001b[0m\n",
      "\u001b[34m#metrics {\"StartTime\": 1634913655.3522105, \"EndTime\": 1634913655.3522196, \"Dimensions\": {\"Algorithm\": \"Linear Learner\", \"Host\": \"algo-1\", \"Operation\": \"training\", \"epoch\": 3, \"model\": 12}, \"Metrics\": {\"train_absolute_loss_objective\": {\"sum\": 0.3153657913208008, \"count\": 1, \"min\": 0.3153657913208008, \"max\": 0.3153657913208008}}}\n",
      "\u001b[0m\n",
      "\u001b[34m#metrics {\"StartTime\": 1634913655.3522515, \"EndTime\": 1634913655.3522608, \"Dimensions\": {\"Algorithm\": \"Linear Learner\", \"Host\": \"algo-1\", \"Operation\": \"training\", \"epoch\": 3, \"model\": 13}, \"Metrics\": {\"train_absolute_loss_objective\": {\"sum\": 0.32478167724609375, \"count\": 1, \"min\": 0.32478167724609375, \"max\": 0.32478167724609375}}}\n",
      "\u001b[0m\n",
      "\u001b[34m#metrics {\"StartTime\": 1634913655.3522928, \"EndTime\": 1634913655.3523016, \"Dimensions\": {\"Algorithm\": \"Linear Learner\", \"Host\": \"algo-1\", \"Operation\": \"training\", \"epoch\": 3, \"model\": 14}, \"Metrics\": {\"train_absolute_loss_objective\": {\"sum\": 0.3151421661376953, \"count\": 1, \"min\": 0.3151421661376953, \"max\": 0.3151421661376953}}}\n",
      "\u001b[0m\n",
      "\u001b[34m#metrics {\"StartTime\": 1634913655.3523333, \"EndTime\": 1634913655.3523426, \"Dimensions\": {\"Algorithm\": \"Linear Learner\", \"Host\": \"algo-1\", \"Operation\": \"training\", \"epoch\": 3, \"model\": 15}, \"Metrics\": {\"train_absolute_loss_objective\": {\"sum\": 0.32466523933410646, \"count\": 1, \"min\": 0.32466523933410646, \"max\": 0.32466523933410646}}}\n",
      "\u001b[0m\n",
      "\u001b[34m#metrics {\"StartTime\": 1634913655.3523743, \"EndTime\": 1634913655.3523831, \"Dimensions\": {\"Algorithm\": \"Linear Learner\", \"Host\": \"algo-1\", \"Operation\": \"training\", \"epoch\": 3, \"model\": 16}, \"Metrics\": {\"train_absolute_loss_objective\": {\"sum\": 0.5463881721496582, \"count\": 1, \"min\": 0.5463881721496582, \"max\": 0.5463881721496582}}}\n",
      "\u001b[0m\n",
      "\u001b[34m#metrics {\"StartTime\": 1634913655.3524146, \"EndTime\": 1634913655.3524237, \"Dimensions\": {\"Algorithm\": \"Linear Learner\", \"Host\": \"algo-1\", \"Operation\": \"training\", \"epoch\": 3, \"model\": 17}, \"Metrics\": {\"train_absolute_loss_objective\": {\"sum\": 0.5649770202636719, \"count\": 1, \"min\": 0.5649770202636719, \"max\": 0.5649770202636719}}}\n",
      "\u001b[0m\n",
      "\u001b[34m#metrics {\"StartTime\": 1634913655.352455, \"EndTime\": 1634913655.352464, \"Dimensions\": {\"Algorithm\": \"Linear Learner\", \"Host\": \"algo-1\", \"Operation\": \"training\", \"epoch\": 3, \"model\": 18}, \"Metrics\": {\"train_absolute_loss_objective\": {\"sum\": 0.49937384033203125, \"count\": 1, \"min\": 0.49937384033203125, \"max\": 0.49937384033203125}}}\n",
      "\u001b[0m\n",
      "\u001b[34m#metrics {\"StartTime\": 1634913655.3525236, \"EndTime\": 1634913655.3525355, \"Dimensions\": {\"Algorithm\": \"Linear Learner\", \"Host\": \"algo-1\", \"Operation\": \"training\", \"epoch\": 3, \"model\": 19}, \"Metrics\": {\"train_absolute_loss_objective\": {\"sum\": 0.5223958320617675, \"count\": 1, \"min\": 0.5223958320617675, \"max\": 0.5223958320617675}}}\n",
      "\u001b[0m\n",
      "\u001b[34m#metrics {\"StartTime\": 1634913655.3525705, \"EndTime\": 1634913655.35258, \"Dimensions\": {\"Algorithm\": \"Linear Learner\", \"Host\": \"algo-1\", \"Operation\": \"training\", \"epoch\": 3, \"model\": 20}, \"Metrics\": {\"train_absolute_loss_objective\": {\"sum\": 0.3714258995056152, \"count\": 1, \"min\": 0.3714258995056152, \"max\": 0.3714258995056152}}}\n",
      "\u001b[0m\n",
      "\u001b[34m#metrics {\"StartTime\": 1634913655.3526118, \"EndTime\": 1634913655.352621, \"Dimensions\": {\"Algorithm\": \"Linear Learner\", \"Host\": \"algo-1\", \"Operation\": \"training\", \"epoch\": 3, \"model\": 21}, \"Metrics\": {\"train_absolute_loss_objective\": {\"sum\": 0.36172042083740236, \"count\": 1, \"min\": 0.36172042083740236, \"max\": 0.36172042083740236}}}\n",
      "\u001b[0m\n",
      "\u001b[34m#metrics {\"StartTime\": 1634913655.3526554, \"EndTime\": 1634913655.352665, \"Dimensions\": {\"Algorithm\": \"Linear Learner\", \"Host\": \"algo-1\", \"Operation\": \"training\", \"epoch\": 3, \"model\": 22}, \"Metrics\": {\"train_absolute_loss_objective\": {\"sum\": 0.35806065559387207, \"count\": 1, \"min\": 0.35806065559387207, \"max\": 0.35806065559387207}}}\n",
      "\u001b[0m\n",
      "\u001b[34m#metrics {\"StartTime\": 1634913655.3526976, \"EndTime\": 1634913655.3527067, \"Dimensions\": {\"Algorithm\": \"Linear Learner\", \"Host\": \"algo-1\", \"Operation\": \"training\", \"epoch\": 3, \"model\": 23}, \"Metrics\": {\"train_absolute_loss_objective\": {\"sum\": 0.3660127601623535, \"count\": 1, \"min\": 0.3660127601623535, \"max\": 0.3660127601623535}}}\n",
      "\u001b[0m\n",
      "\u001b[34m#metrics {\"StartTime\": 1634913655.3527384, \"EndTime\": 1634913655.3527472, \"Dimensions\": {\"Algorithm\": \"Linear Learner\", \"Host\": \"algo-1\", \"Operation\": \"training\", \"epoch\": 3, \"model\": 24}, \"Metrics\": {\"train_absolute_loss_objective\": {\"sum\": 0.6859561653137207, \"count\": 1, \"min\": 0.6859561653137207, \"max\": 0.6859561653137207}}}\n",
      "\u001b[0m\n",
      "\u001b[34m#metrics {\"StartTime\": 1634913655.3527787, \"EndTime\": 1634913655.3527877, \"Dimensions\": {\"Algorithm\": \"Linear Learner\", \"Host\": \"algo-1\", \"Operation\": \"training\", \"epoch\": 3, \"model\": 25}, \"Metrics\": {\"train_absolute_loss_objective\": {\"sum\": 0.6865794372558593, \"count\": 1, \"min\": 0.6865794372558593, \"max\": 0.6865794372558593}}}\n",
      "\u001b[0m\n",
      "\u001b[34m#metrics {\"StartTime\": 1634913655.352819, \"EndTime\": 1634913655.3528278, \"Dimensions\": {\"Algorithm\": \"Linear Learner\", \"Host\": \"algo-1\", \"Operation\": \"training\", \"epoch\": 3, \"model\": 26}, \"Metrics\": {\"train_absolute_loss_objective\": {\"sum\": 0.6895767974853516, \"count\": 1, \"min\": 0.6895767974853516, \"max\": 0.6895767974853516}}}\n",
      "\u001b[0m\n",
      "\u001b[34m#metrics {\"StartTime\": 1634913655.352859, \"EndTime\": 1634913655.352868, \"Dimensions\": {\"Algorithm\": \"Linear Learner\", \"Host\": \"algo-1\", \"Operation\": \"training\", \"epoch\": 3, \"model\": 27}, \"Metrics\": {\"train_absolute_loss_objective\": {\"sum\": 0.6892484703063965, \"count\": 1, \"min\": 0.6892484703063965, \"max\": 0.6892484703063965}}}\n",
      "\u001b[0m\n",
      "\u001b[34m#metrics {\"StartTime\": 1634913655.352899, \"EndTime\": 1634913655.3529084, \"Dimensions\": {\"Algorithm\": \"Linear Learner\", \"Host\": \"algo-1\", \"Operation\": \"training\", \"epoch\": 3, \"model\": 28}, \"Metrics\": {\"train_absolute_loss_objective\": {\"sum\": 0.6952632484436035, \"count\": 1, \"min\": 0.6952632484436035, \"max\": 0.6952632484436035}}}\n",
      "\u001b[0m\n",
      "\u001b[34m#metrics {\"StartTime\": 1634913655.3529415, \"EndTime\": 1634913655.3529527, \"Dimensions\": {\"Algorithm\": \"Linear Learner\", \"Host\": \"algo-1\", \"Operation\": \"training\", \"epoch\": 3, \"model\": 29}, \"Metrics\": {\"train_absolute_loss_objective\": {\"sum\": 0.7055200119018554, \"count\": 1, \"min\": 0.7055200119018554, \"max\": 0.7055200119018554}}}\n",
      "\u001b[0m\n",
      "\u001b[34m#metrics {\"StartTime\": 1634913655.3529778, \"EndTime\": 1634913655.352985, \"Dimensions\": {\"Algorithm\": \"Linear Learner\", \"Host\": \"algo-1\", \"Operation\": \"training\", \"epoch\": 3, \"model\": 30}, \"Metrics\": {\"train_absolute_loss_objective\": {\"sum\": 0.6896689910888671, \"count\": 1, \"min\": 0.6896689910888671, \"max\": 0.6896689910888671}}}\n",
      "\u001b[0m\n",
      "\u001b[34m#metrics {\"StartTime\": 1634913655.353023, \"EndTime\": 1634913655.3530369, \"Dimensions\": {\"Algorithm\": \"Linear Learner\", \"Host\": \"algo-1\", \"Operation\": \"training\", \"epoch\": 3, \"model\": 31}, \"Metrics\": {\"train_absolute_loss_objective\": {\"sum\": 0.7102917747497559, \"count\": 1, \"min\": 0.7102917747497559, \"max\": 0.7102917747497559}}}\n",
      "\u001b[0m\n",
      "\u001b[34m[10/22/2021 14:40:55 INFO 139817024649024] #quality_metric: host=algo-1, epoch=3, train absolute_loss_objective <loss>=0.5219668998718262\u001b[0m\n",
      "\u001b[34m[10/22/2021 14:40:55 INFO 139817024649024] #early_stopping_criteria_metric: host=algo-1, epoch=3, criteria=absolute_loss_objective, value=0.3151421661376953\u001b[0m\n",
      "\u001b[34m[10/22/2021 14:40:55 INFO 139817024649024] Epoch 3: Loss improved. Updating best model\u001b[0m\n",
      "\u001b[34m[10/22/2021 14:40:55 INFO 139817024649024] Saving model for epoch: 3\u001b[0m\n",
      "\u001b[34m[10/22/2021 14:40:55 INFO 139817024649024] Saved checkpoint to \"/tmp/tmpeoda74xy/mx-mod-0000.params\"\u001b[0m\n",
      "\u001b[34m[10/22/2021 14:40:55 INFO 139817024649024] #progress_metric: host=algo-1, completed 4.0 % of epochs\u001b[0m\n",
      "\u001b[34m#metrics {\"StartTime\": 1634913655.1309376, \"EndTime\": 1634913655.3625302, \"Dimensions\": {\"Algorithm\": \"Linear Learner\", \"Host\": \"algo-1\", \"Operation\": \"training\", \"epoch\": 3, \"Meta\": \"training_data_iter\"}, \"Metrics\": {\"Total Records Seen\": {\"sum\": 5450.0, \"count\": 1, \"min\": 5450, \"max\": 5450}, \"Total Batches Seen\": {\"sum\": 56.0, \"count\": 1, \"min\": 56, \"max\": 56}, \"Max Records Seen Between Resets\": {\"sum\": 1070.0, \"count\": 1, \"min\": 1070, \"max\": 1070}, \"Max Batches Seen Between Resets\": {\"sum\": 11.0, \"count\": 1, \"min\": 11, \"max\": 11}, \"Reset Count\": {\"sum\": 6.0, \"count\": 1, \"min\": 6, \"max\": 6}, \"Number of Records Since Last Reset\": {\"sum\": 1070.0, \"count\": 1, \"min\": 1070, \"max\": 1070}, \"Number of Batches Since Last Reset\": {\"sum\": 11.0, \"count\": 1, \"min\": 11, \"max\": 11}}}\n",
      "\u001b[0m\n",
      "\u001b[34m[10/22/2021 14:40:55 INFO 139817024649024] #throughput_metric: host=algo-1, train throughput=4616.611800382874 records/second\u001b[0m\n",
      "\u001b[34m[2021-10-22 14:40:55.614] [tensorio] [info] epoch_stats={\"data_pipeline\": \"/opt/ml/input/data/train\", \"epoch\": 12, \"duration\": 251, \"num_examples\": 11, \"num_bytes\": 81320}\u001b[0m\n",
      "\u001b[34m#metrics {\"StartTime\": 1634913655.6147623, \"EndTime\": 1634913655.6148322, \"Dimensions\": {\"Algorithm\": \"Linear Learner\", \"Host\": \"algo-1\", \"Operation\": \"training\", \"epoch\": 4, \"model\": 0}, \"Metrics\": {\"train_absolute_loss_objective\": {\"sum\": 0.47550760650634766, \"count\": 1, \"min\": 0.47550760650634766, \"max\": 0.47550760650634766}}}\n",
      "\u001b[0m\n",
      "\u001b[34m#metrics {\"StartTime\": 1634913655.6149132, \"EndTime\": 1634913655.6149266, \"Dimensions\": {\"Algorithm\": \"Linear Learner\", \"Host\": \"algo-1\", \"Operation\": \"training\", \"epoch\": 4, \"model\": 1}, \"Metrics\": {\"train_absolute_loss_objective\": {\"sum\": 0.4928871994018555, \"count\": 1, \"min\": 0.4928871994018555, \"max\": 0.4928871994018555}}}\n",
      "\u001b[0m\n",
      "\u001b[34m#metrics {\"StartTime\": 1634913655.6149712, \"EndTime\": 1634913655.614985, \"Dimensions\": {\"Algorithm\": \"Linear Learner\", \"Host\": \"algo-1\", \"Operation\": \"training\", \"epoch\": 4, \"model\": 2}, \"Metrics\": {\"train_absolute_loss_objective\": {\"sum\": 0.49316414260864255, \"count\": 1, \"min\": 0.49316414260864255, \"max\": 0.49316414260864255}}}\n",
      "\u001b[0m\n",
      "\u001b[34m#metrics {\"StartTime\": 1634913655.6150146, \"EndTime\": 1634913655.6150231, \"Dimensions\": {\"Algorithm\": \"Linear Learner\", \"Host\": \"algo-1\", \"Operation\": \"training\", \"epoch\": 4, \"model\": 3}, \"Metrics\": {\"train_absolute_loss_objective\": {\"sum\": 0.44696889114379884, \"count\": 1, \"min\": 0.44696889114379884, \"max\": 0.44696889114379884}}}\n",
      "\u001b[0m\n",
      "\u001b[34m#metrics {\"StartTime\": 1634913655.6150596, \"EndTime\": 1634913655.615072, \"Dimensions\": {\"Algorithm\": \"Linear Learner\", \"Host\": \"algo-1\", \"Operation\": \"training\", \"epoch\": 4, \"model\": 4}, \"Metrics\": {\"train_absolute_loss_objective\": {\"sum\": 0.31732537841796876, \"count\": 1, \"min\": 0.31732537841796876, \"max\": 0.31732537841796876}}}\n",
      "\u001b[0m\n",
      "\u001b[34m#metrics {\"StartTime\": 1634913655.6151223, \"EndTime\": 1634913655.6151369, \"Dimensions\": {\"Algorithm\": \"Linear Learner\", \"Host\": \"algo-1\", \"Operation\": \"training\", \"epoch\": 4, \"model\": 5}, \"Metrics\": {\"train_absolute_loss_objective\": {\"sum\": 0.3130400905609131, \"count\": 1, \"min\": 0.3130400905609131, \"max\": 0.3130400905609131}}}\n",
      "\u001b[0m\n",
      "\u001b[34m#metrics {\"StartTime\": 1634913655.61519, \"EndTime\": 1634913655.6152065, \"Dimensions\": {\"Algorithm\": \"Linear Learner\", \"Host\": \"algo-1\", \"Operation\": \"training\", \"epoch\": 4, \"model\": 6}, \"Metrics\": {\"train_absolute_loss_objective\": {\"sum\": 0.31891909217834474, \"count\": 1, \"min\": 0.31891909217834474, \"max\": 0.31891909217834474}}}\n",
      "\u001b[0m\n",
      "\u001b[34m#metrics {\"StartTime\": 1634913655.6152556, \"EndTime\": 1634913655.6152716, \"Dimensions\": {\"Algorithm\": \"Linear Learner\", \"Host\": \"algo-1\", \"Operation\": \"training\", \"epoch\": 4, \"model\": 7}, \"Metrics\": {\"train_absolute_loss_objective\": {\"sum\": 0.3339218006134033, \"count\": 1, \"min\": 0.3339218006134033, \"max\": 0.3339218006134033}}}\n",
      "\u001b[0m\n",
      "\u001b[34m#metrics {\"StartTime\": 1634913655.615321, \"EndTime\": 1634913655.6153357, \"Dimensions\": {\"Algorithm\": \"Linear Learner\", \"Host\": \"algo-1\", \"Operation\": \"training\", \"epoch\": 4, \"model\": 8}, \"Metrics\": {\"train_absolute_loss_objective\": {\"sum\": 0.436830997467041, \"count\": 1, \"min\": 0.436830997467041, \"max\": 0.436830997467041}}}\n",
      "\u001b[0m\n",
      "\u001b[34m#metrics {\"StartTime\": 1634913655.6153836, \"EndTime\": 1634913655.615398, \"Dimensions\": {\"Algorithm\": \"Linear Learner\", \"Host\": \"algo-1\", \"Operation\": \"training\", \"epoch\": 4, \"model\": 9}, \"Metrics\": {\"train_absolute_loss_objective\": {\"sum\": 0.515365909576416, \"count\": 1, \"min\": 0.515365909576416, \"max\": 0.515365909576416}}}\n",
      "\u001b[0m\n",
      "\u001b[34m#metrics {\"StartTime\": 1634913655.6154463, \"EndTime\": 1634913655.6154616, \"Dimensions\": {\"Algorithm\": \"Linear Learner\", \"Host\": \"algo-1\", \"Operation\": \"training\", \"epoch\": 4, \"model\": 10}, \"Metrics\": {\"train_absolute_loss_objective\": {\"sum\": 0.4869764747619629, \"count\": 1, \"min\": 0.4869764747619629, \"max\": 0.4869764747619629}}}\n",
      "\u001b[0m\n",
      "\u001b[34m#metrics {\"StartTime\": 1634913655.6155102, \"EndTime\": 1634913655.6155248, \"Dimensions\": {\"Algorithm\": \"Linear Learner\", \"Host\": \"algo-1\", \"Operation\": \"training\", \"epoch\": 4, \"model\": 11}, \"Metrics\": {\"train_absolute_loss_objective\": {\"sum\": 0.4387670974731445, \"count\": 1, \"min\": 0.4387670974731445, \"max\": 0.4387670974731445}}}\n",
      "\u001b[0m\n",
      "\u001b[34m#metrics {\"StartTime\": 1634913655.6155725, \"EndTime\": 1634913655.6155887, \"Dimensions\": {\"Algorithm\": \"Linear Learner\", \"Host\": \"algo-1\", \"Operation\": \"training\", \"epoch\": 4, \"model\": 12}, \"Metrics\": {\"train_absolute_loss_objective\": {\"sum\": 0.30545638847351075, \"count\": 1, \"min\": 0.30545638847351075, \"max\": 0.30545638847351075}}}\n",
      "\u001b[0m\n",
      "\u001b[34m#metrics {\"StartTime\": 1634913655.615636, \"EndTime\": 1634913655.615651, \"Dimensions\": {\"Algorithm\": \"Linear Learner\", \"Host\": \"algo-1\", \"Operation\": \"training\", \"epoch\": 4, \"model\": 13}, \"Metrics\": {\"train_absolute_loss_objective\": {\"sum\": 0.3089210166931152, \"count\": 1, \"min\": 0.3089210166931152, \"max\": 0.3089210166931152}}}\n",
      "\u001b[0m\n",
      "\u001b[34m#metrics {\"StartTime\": 1634913655.615693, \"EndTime\": 1634913655.6157076, \"Dimensions\": {\"Algorithm\": \"Linear Learner\", \"Host\": \"algo-1\", \"Operation\": \"training\", \"epoch\": 4, \"model\": 14}, \"Metrics\": {\"train_absolute_loss_objective\": {\"sum\": 0.3204328937530518, \"count\": 1, \"min\": 0.3204328937530518, \"max\": 0.3204328937530518}}}\n",
      "\u001b[0m\n",
      "\u001b[34m#metrics {\"StartTime\": 1634913655.6157546, \"EndTime\": 1634913655.6157699, \"Dimensions\": {\"Algorithm\": \"Linear Learner\", \"Host\": \"algo-1\", \"Operation\": \"training\", \"epoch\": 4, \"model\": 15}, \"Metrics\": {\"train_absolute_loss_objective\": {\"sum\": 0.31638942909240725, \"count\": 1, \"min\": 0.31638942909240725, \"max\": 0.31638942909240725}}}\n",
      "\u001b[0m\n",
      "\u001b[34m#metrics {\"StartTime\": 1634913655.61582, \"EndTime\": 1634913655.615836, \"Dimensions\": {\"Algorithm\": \"Linear Learner\", \"Host\": \"algo-1\", \"Operation\": \"training\", \"epoch\": 4, \"model\": 16}, \"Metrics\": {\"train_absolute_loss_objective\": {\"sum\": 0.5067668495178222, \"count\": 1, \"min\": 0.5067668495178222, \"max\": 0.5067668495178222}}}\n",
      "\u001b[0m\n",
      "\u001b[34m#metrics {\"StartTime\": 1634913655.615885, \"EndTime\": 1634913655.6159008, \"Dimensions\": {\"Algorithm\": \"Linear Learner\", \"Host\": \"algo-1\", \"Operation\": \"training\", \"epoch\": 4, \"model\": 17}, \"Metrics\": {\"train_absolute_loss_objective\": {\"sum\": 0.522950553894043, \"count\": 1, \"min\": 0.522950553894043, \"max\": 0.522950553894043}}}\n",
      "\u001b[0m\n",
      "\u001b[34m#metrics {\"StartTime\": 1634913655.61595, \"EndTime\": 1634913655.6159642, \"Dimensions\": {\"Algorithm\": \"Linear Learner\", \"Host\": \"algo-1\", \"Operation\": \"training\", \"epoch\": 4, \"model\": 18}, \"Metrics\": {\"train_absolute_loss_objective\": {\"sum\": 0.46030915451049803, \"count\": 1, \"min\": 0.46030915451049803, \"max\": 0.46030915451049803}}}\n",
      "\u001b[0m\n",
      "\u001b[34m#metrics {\"StartTime\": 1634913655.6160133, \"EndTime\": 1634913655.6160283, \"Dimensions\": {\"Algorithm\": \"Linear Learner\", \"Host\": \"algo-1\", \"Operation\": \"training\", \"epoch\": 4, \"model\": 19}, \"Metrics\": {\"train_absolute_loss_objective\": {\"sum\": 0.4809928550720215, \"count\": 1, \"min\": 0.4809928550720215, \"max\": 0.4809928550720215}}}\n",
      "\u001b[0m\n",
      "\u001b[34m#metrics {\"StartTime\": 1634913655.6160762, \"EndTime\": 1634913655.616092, \"Dimensions\": {\"Algorithm\": \"Linear Learner\", \"Host\": \"algo-1\", \"Operation\": \"training\", \"epoch\": 4, \"model\": 20}, \"Metrics\": {\"train_absolute_loss_objective\": {\"sum\": 0.37421401596069337, \"count\": 1, \"min\": 0.37421401596069337, \"max\": 0.37421401596069337}}}\n",
      "\u001b[0m\n",
      "\u001b[34m#metrics {\"StartTime\": 1634913655.6161382, \"EndTime\": 1634913655.6161537, \"Dimensions\": {\"Algorithm\": \"Linear Learner\", \"Host\": \"algo-1\", \"Operation\": \"training\", \"epoch\": 4, \"model\": 21}, \"Metrics\": {\"train_absolute_loss_objective\": {\"sum\": 0.36956559371948244, \"count\": 1, \"min\": 0.36956559371948244, \"max\": 0.36956559371948244}}}\n",
      "\u001b[0m\n",
      "\u001b[34m#metrics {\"StartTime\": 1634913655.6162028, \"EndTime\": 1634913655.6162171, \"Dimensions\": {\"Algorithm\": \"Linear Learner\", \"Host\": \"algo-1\", \"Operation\": \"training\", \"epoch\": 4, \"model\": 22}, \"Metrics\": {\"train_absolute_loss_objective\": {\"sum\": 0.37120211791992186, \"count\": 1, \"min\": 0.37120211791992186, \"max\": 0.37120211791992186}}}\n",
      "\u001b[0m\n",
      "\u001b[34m#metrics {\"StartTime\": 1634913655.6162624, \"EndTime\": 1634913655.6162753, \"Dimensions\": {\"Algorithm\": \"Linear Learner\", \"Host\": \"algo-1\", \"Operation\": \"training\", \"epoch\": 4, \"model\": 23}, \"Metrics\": {\"train_absolute_loss_objective\": {\"sum\": 0.3643208999633789, \"count\": 1, \"min\": 0.3643208999633789, \"max\": 0.3643208999633789}}}\n",
      "\u001b[0m\n",
      "\u001b[34m#metrics {\"StartTime\": 1634913655.6163173, \"EndTime\": 1634913655.616331, \"Dimensions\": {\"Algorithm\": \"Linear Learner\", \"Host\": \"algo-1\", \"Operation\": \"training\", \"epoch\": 4, \"model\": 24}, \"Metrics\": {\"train_absolute_loss_objective\": {\"sum\": 0.6882444915771484, \"count\": 1, \"min\": 0.6882444915771484, \"max\": 0.6882444915771484}}}\n",
      "\u001b[0m\n",
      "\u001b[34m#metrics {\"StartTime\": 1634913655.6163828, \"EndTime\": 1634913655.6163993, \"Dimensions\": {\"Algorithm\": \"Linear Learner\", \"Host\": \"algo-1\", \"Operation\": \"training\", \"epoch\": 4, \"model\": 25}, \"Metrics\": {\"train_absolute_loss_objective\": {\"sum\": 0.6846493644714355, \"count\": 1, \"min\": 0.6846493644714355, \"max\": 0.6846493644714355}}}\n",
      "\u001b[0m\n",
      "\u001b[34m#metrics {\"StartTime\": 1634913655.6164489, \"EndTime\": 1634913655.6164646, \"Dimensions\": {\"Algorithm\": \"Linear Learner\", \"Host\": \"algo-1\", \"Operation\": \"training\", \"epoch\": 4, \"model\": 26}, \"Metrics\": {\"train_absolute_loss_objective\": {\"sum\": 0.6852380409240723, \"count\": 1, \"min\": 0.6852380409240723, \"max\": 0.6852380409240723}}}\n",
      "\u001b[0m\n",
      "\u001b[34m#metrics {\"StartTime\": 1634913655.6165414, \"EndTime\": 1634913655.6165593, \"Dimensions\": {\"Algorithm\": \"Linear Learner\", \"Host\": \"algo-1\", \"Operation\": \"training\", \"epoch\": 4, \"model\": 27}, \"Metrics\": {\"train_absolute_loss_objective\": {\"sum\": 0.6851445121765136, \"count\": 1, \"min\": 0.6851445121765136, \"max\": 0.6851445121765136}}}\n",
      "\u001b[0m\n",
      "\u001b[34m#metrics {\"StartTime\": 1634913655.616612, \"EndTime\": 1634913655.6166282, \"Dimensions\": {\"Algorithm\": \"Linear Learner\", \"Host\": \"algo-1\", \"Operation\": \"training\", \"epoch\": 4, \"model\": 28}, \"Metrics\": {\"train_absolute_loss_objective\": {\"sum\": 0.6911180191040039, \"count\": 1, \"min\": 0.6911180191040039, \"max\": 0.6911180191040039}}}\n",
      "\u001b[0m\n",
      "\u001b[34m#metrics {\"StartTime\": 1634913655.6166759, \"EndTime\": 1634913655.616691, \"Dimensions\": {\"Algorithm\": \"Linear Learner\", \"Host\": \"algo-1\", \"Operation\": \"training\", \"epoch\": 4, \"model\": 29}, \"Metrics\": {\"train_absolute_loss_objective\": {\"sum\": 0.6931429138183594, \"count\": 1, \"min\": 0.6931429138183594, \"max\": 0.6931429138183594}}}\n",
      "\u001b[0m\n",
      "\u001b[34m#metrics {\"StartTime\": 1634913655.616739, \"EndTime\": 1634913655.6167543, \"Dimensions\": {\"Algorithm\": \"Linear Learner\", \"Host\": \"algo-1\", \"Operation\": \"training\", \"epoch\": 4, \"model\": 30}, \"Metrics\": {\"train_absolute_loss_objective\": {\"sum\": 0.6888595504760742, \"count\": 1, \"min\": 0.6888595504760742, \"max\": 0.6888595504760742}}}\n",
      "\u001b[0m\n",
      "\u001b[34m#metrics {\"StartTime\": 1634913655.616802, \"EndTime\": 1634913655.6168175, \"Dimensions\": {\"Algorithm\": \"Linear Learner\", \"Host\": \"algo-1\", \"Operation\": \"training\", \"epoch\": 4, \"model\": 31}, \"Metrics\": {\"train_absolute_loss_objective\": {\"sum\": 0.7024401473999023, \"count\": 1, \"min\": 0.7024401473999023, \"max\": 0.7024401473999023}}}\n",
      "\u001b[0m\n",
      "\u001b[34m[10/22/2021 14:40:55 INFO 139817024649024] #quality_metric: host=algo-1, epoch=4, train absolute_loss_objective <loss>=0.47550760650634766\u001b[0m\n",
      "\u001b[34m[10/22/2021 14:40:55 INFO 139817024649024] #early_stopping_criteria_metric: host=algo-1, epoch=4, criteria=absolute_loss_objective, value=0.30545638847351075\u001b[0m\n",
      "\u001b[34m[10/22/2021 14:40:55 INFO 139817024649024] Epoch 4: Loss improved. Updating best model\u001b[0m\n",
      "\u001b[34m[10/22/2021 14:40:55 INFO 139817024649024] Saving model for epoch: 4\u001b[0m\n",
      "\u001b[34m[10/22/2021 14:40:55 INFO 139817024649024] Saved checkpoint to \"/tmp/tmptrzh95ih/mx-mod-0000.params\"\u001b[0m\n",
      "\u001b[34m[10/22/2021 14:40:55 INFO 139817024649024] #progress_metric: host=algo-1, completed 5.0 % of epochs\u001b[0m\n",
      "\u001b[34m#metrics {\"StartTime\": 1634913655.362812, \"EndTime\": 1634913655.626574, \"Dimensions\": {\"Algorithm\": \"Linear Learner\", \"Host\": \"algo-1\", \"Operation\": \"training\", \"epoch\": 4, \"Meta\": \"training_data_iter\"}, \"Metrics\": {\"Total Records Seen\": {\"sum\": 6520.0, \"count\": 1, \"min\": 6520, \"max\": 6520}, \"Total Batches Seen\": {\"sum\": 67.0, \"count\": 1, \"min\": 67, \"max\": 67}, \"Max Records Seen Between Resets\": {\"sum\": 1070.0, \"count\": 1, \"min\": 1070, \"max\": 1070}, \"Max Batches Seen Between Resets\": {\"sum\": 11.0, \"count\": 1, \"min\": 11, \"max\": 11}, \"Reset Count\": {\"sum\": 7.0, \"count\": 1, \"min\": 7, \"max\": 7}, \"Number of Records Since Last Reset\": {\"sum\": 1070.0, \"count\": 1, \"min\": 1070, \"max\": 1070}, \"Number of Batches Since Last Reset\": {\"sum\": 11.0, \"count\": 1, \"min\": 11, \"max\": 11}}}\n",
      "\u001b[0m\n",
      "\u001b[34m[10/22/2021 14:40:55 INFO 139817024649024] #throughput_metric: host=algo-1, train throughput=4054.6021157013442 records/second\u001b[0m\n",
      "\u001b[34m[2021-10-22 14:40:55.897] [tensorio] [info] epoch_stats={\"data_pipeline\": \"/opt/ml/input/data/train\", \"epoch\": 14, \"duration\": 270, \"num_examples\": 11, \"num_bytes\": 81320}\u001b[0m\n",
      "\u001b[34m#metrics {\"StartTime\": 1634913655.8971407, \"EndTime\": 1634913655.8972244, \"Dimensions\": {\"Algorithm\": \"Linear Learner\", \"Host\": \"algo-1\", \"Operation\": \"training\", \"epoch\": 5, \"model\": 0}, \"Metrics\": {\"train_absolute_loss_objective\": {\"sum\": 0.4299149284362793, \"count\": 1, \"min\": 0.4299149284362793, \"max\": 0.4299149284362793}}}\n",
      "\u001b[0m\n",
      "\u001b[34m#metrics {\"StartTime\": 1634913655.8973193, \"EndTime\": 1634913655.8973396, \"Dimensions\": {\"Algorithm\": \"Linear Learner\", \"Host\": \"algo-1\", \"Operation\": \"training\", \"epoch\": 5, \"model\": 1}, \"Metrics\": {\"train_absolute_loss_objective\": {\"sum\": 0.44840470123291015, \"count\": 1, \"min\": 0.44840470123291015, \"max\": 0.44840470123291015}}}\n",
      "\u001b[0m\n",
      "\u001b[34m#metrics {\"StartTime\": 1634913655.8973908, \"EndTime\": 1634913655.8974068, \"Dimensions\": {\"Algorithm\": \"Linear Learner\", \"Host\": \"algo-1\", \"Operation\": \"training\", \"epoch\": 5, \"model\": 2}, \"Metrics\": {\"train_absolute_loss_objective\": {\"sum\": 0.4481114616394043, \"count\": 1, \"min\": 0.4481114616394043, \"max\": 0.4481114616394043}}}\n",
      "\u001b[0m\n",
      "\u001b[34m#metrics {\"StartTime\": 1634913655.897459, \"EndTime\": 1634913655.8974748, \"Dimensions\": {\"Algorithm\": \"Linear Learner\", \"Host\": \"algo-1\", \"Operation\": \"training\", \"epoch\": 5, \"model\": 3}, \"Metrics\": {\"train_absolute_loss_objective\": {\"sum\": 0.40643625259399413, \"count\": 1, \"min\": 0.40643625259399413, \"max\": 0.40643625259399413}}}\n",
      "\u001b[0m\n",
      "\u001b[34m#metrics {\"StartTime\": 1634913655.8975265, \"EndTime\": 1634913655.8975427, \"Dimensions\": {\"Algorithm\": \"Linear Learner\", \"Host\": \"algo-1\", \"Operation\": \"training\", \"epoch\": 5, \"model\": 4}, \"Metrics\": {\"train_absolute_loss_objective\": {\"sum\": 0.3066923732757568, \"count\": 1, \"min\": 0.3066923732757568, \"max\": 0.3066923732757568}}}\n",
      "\u001b[0m\n",
      "\u001b[34m#metrics {\"StartTime\": 1634913655.8976023, \"EndTime\": 1634913655.8976185, \"Dimensions\": {\"Algorithm\": \"Linear Learner\", \"Host\": \"algo-1\", \"Operation\": \"training\", \"epoch\": 5, \"model\": 5}, \"Metrics\": {\"train_absolute_loss_objective\": {\"sum\": 0.3143255062103271, \"count\": 1, \"min\": 0.3143255062103271, \"max\": 0.3143255062103271}}}\n",
      "\u001b[0m\n",
      "\u001b[34m#metrics {\"StartTime\": 1634913655.8976738, \"EndTime\": 1634913655.8976896, \"Dimensions\": {\"Algorithm\": \"Linear Learner\", \"Host\": \"algo-1\", \"Operation\": \"training\", \"epoch\": 5, \"model\": 6}, \"Metrics\": {\"train_absolute_loss_objective\": {\"sum\": 0.31431066131591795, \"count\": 1, \"min\": 0.31431066131591795, \"max\": 0.31431066131591795}}}\n",
      "\u001b[0m\n",
      "\u001b[34m#metrics {\"StartTime\": 1634913655.897739, \"EndTime\": 1634913655.8977544, \"Dimensions\": {\"Algorithm\": \"Linear Learner\", \"Host\": \"algo-1\", \"Operation\": \"training\", \"epoch\": 5, \"model\": 7}, \"Metrics\": {\"train_absolute_loss_objective\": {\"sum\": 0.32698482131958007, \"count\": 1, \"min\": 0.32698482131958007, \"max\": 0.32698482131958007}}}\n",
      "\u001b[0m\n",
      "\u001b[34m#metrics {\"StartTime\": 1634913655.8978124, \"EndTime\": 1634913655.897829, \"Dimensions\": {\"Algorithm\": \"Linear Learner\", \"Host\": \"algo-1\", \"Operation\": \"training\", \"epoch\": 5, \"model\": 8}, \"Metrics\": {\"train_absolute_loss_objective\": {\"sum\": 0.39576642990112304, \"count\": 1, \"min\": 0.39576642990112304, \"max\": 0.39576642990112304}}}\n",
      "\u001b[0m\n",
      "\u001b[34m#metrics {\"StartTime\": 1634913655.897888, \"EndTime\": 1634913655.8979049, \"Dimensions\": {\"Algorithm\": \"Linear Learner\", \"Host\": \"algo-1\", \"Operation\": \"training\", \"epoch\": 5, \"model\": 9}, \"Metrics\": {\"train_absolute_loss_objective\": {\"sum\": 0.4684353942871094, \"count\": 1, \"min\": 0.4684353942871094, \"max\": 0.4684353942871094}}}\n",
      "\u001b[0m\n",
      "\u001b[34m#metrics {\"StartTime\": 1634913655.897964, \"EndTime\": 1634913655.8979805, \"Dimensions\": {\"Algorithm\": \"Linear Learner\", \"Host\": \"algo-1\", \"Operation\": \"training\", \"epoch\": 5, \"model\": 10}, \"Metrics\": {\"train_absolute_loss_objective\": {\"sum\": 0.4420310173034668, \"count\": 1, \"min\": 0.4420310173034668, \"max\": 0.4420310173034668}}}\n",
      "\u001b[0m\n",
      "\u001b[34m#metrics {\"StartTime\": 1634913655.8980267, \"EndTime\": 1634913655.8980432, \"Dimensions\": {\"Algorithm\": \"Linear Learner\", \"Host\": \"algo-1\", \"Operation\": \"training\", \"epoch\": 5, \"model\": 11}, \"Metrics\": {\"train_absolute_loss_objective\": {\"sum\": 0.40262411880493165, \"count\": 1, \"min\": 0.40262411880493165, \"max\": 0.40262411880493165}}}\n",
      "\u001b[0m\n",
      "\u001b[34m#metrics {\"StartTime\": 1634913655.8980925, \"EndTime\": 1634913655.8981085, \"Dimensions\": {\"Algorithm\": \"Linear Learner\", \"Host\": \"algo-1\", \"Operation\": \"training\", \"epoch\": 5, \"model\": 12}, \"Metrics\": {\"train_absolute_loss_objective\": {\"sum\": 0.31657937622070315, \"count\": 1, \"min\": 0.31657937622070315, \"max\": 0.31657937622070315}}}\n",
      "\u001b[0m\n",
      "\u001b[34m#metrics {\"StartTime\": 1634913655.8981578, \"EndTime\": 1634913655.8981738, \"Dimensions\": {\"Algorithm\": \"Linear Learner\", \"Host\": \"algo-1\", \"Operation\": \"training\", \"epoch\": 5, \"model\": 13}, \"Metrics\": {\"train_absolute_loss_objective\": {\"sum\": 0.3130359058380127, \"count\": 1, \"min\": 0.3130359058380127, \"max\": 0.3130359058380127}}}\n",
      "\u001b[0m\n",
      "\u001b[34m#metrics {\"StartTime\": 1634913655.898234, \"EndTime\": 1634913655.8982506, \"Dimensions\": {\"Algorithm\": \"Linear Learner\", \"Host\": \"algo-1\", \"Operation\": \"training\", \"epoch\": 5, \"model\": 14}, \"Metrics\": {\"train_absolute_loss_objective\": {\"sum\": 0.32449906158447267, \"count\": 1, \"min\": 0.32449906158447267, \"max\": 0.32449906158447267}}}\n",
      "\u001b[0m\n",
      "\u001b[34m#metrics {\"StartTime\": 1634913655.8983076, \"EndTime\": 1634913655.8983238, \"Dimensions\": {\"Algorithm\": \"Linear Learner\", \"Host\": \"algo-1\", \"Operation\": \"training\", \"epoch\": 5, \"model\": 15}, \"Metrics\": {\"train_absolute_loss_objective\": {\"sum\": 0.31156913757324217, \"count\": 1, \"min\": 0.31156913757324217, \"max\": 0.31156913757324217}}}\n",
      "\u001b[0m\n",
      "\u001b[34m#metrics {\"StartTime\": 1634913655.898383, \"EndTime\": 1634913655.8983998, \"Dimensions\": {\"Algorithm\": \"Linear Learner\", \"Host\": \"algo-1\", \"Operation\": \"training\", \"epoch\": 5, \"model\": 16}, \"Metrics\": {\"train_absolute_loss_objective\": {\"sum\": 0.4694517059326172, \"count\": 1, \"min\": 0.4694517059326172, \"max\": 0.4694517059326172}}}\n",
      "\u001b[0m\n",
      "\u001b[34m#metrics {\"StartTime\": 1634913655.8984585, \"EndTime\": 1634913655.898475, \"Dimensions\": {\"Algorithm\": \"Linear Learner\", \"Host\": \"algo-1\", \"Operation\": \"training\", \"epoch\": 5, \"model\": 17}, \"Metrics\": {\"train_absolute_loss_objective\": {\"sum\": 0.4840282440185547, \"count\": 1, \"min\": 0.4840282440185547, \"max\": 0.4840282440185547}}}\n",
      "\u001b[0m\n",
      "\u001b[34m#metrics {\"StartTime\": 1634913655.8985245, \"EndTime\": 1634913655.8985393, \"Dimensions\": {\"Algorithm\": \"Linear Learner\", \"Host\": \"algo-1\", \"Operation\": \"training\", \"epoch\": 5, \"model\": 18}, \"Metrics\": {\"train_absolute_loss_objective\": {\"sum\": 0.424679256439209, \"count\": 1, \"min\": 0.424679256439209, \"max\": 0.424679256439209}}}\n",
      "\u001b[0m\n",
      "\u001b[34m#metrics {\"StartTime\": 1634913655.8985841, \"EndTime\": 1634913655.898598, \"Dimensions\": {\"Algorithm\": \"Linear Learner\", \"Host\": \"algo-1\", \"Operation\": \"training\", \"epoch\": 5, \"model\": 19}, \"Metrics\": {\"train_absolute_loss_objective\": {\"sum\": 0.44253007888793944, \"count\": 1, \"min\": 0.44253007888793944, \"max\": 0.44253007888793944}}}\n",
      "\u001b[0m\n",
      "\u001b[34m#metrics {\"StartTime\": 1634913655.8986444, \"EndTime\": 1634913655.8986578, \"Dimensions\": {\"Algorithm\": \"Linear Learner\", \"Host\": \"algo-1\", \"Operation\": \"training\", \"epoch\": 5, \"model\": 20}, \"Metrics\": {\"train_absolute_loss_objective\": {\"sum\": 0.3807087554931641, \"count\": 1, \"min\": 0.3807087554931641, \"max\": 0.3807087554931641}}}\n",
      "\u001b[0m\n",
      "\u001b[34m#metrics {\"StartTime\": 1634913655.898708, \"EndTime\": 1634913655.8987224, \"Dimensions\": {\"Algorithm\": \"Linear Learner\", \"Host\": \"algo-1\", \"Operation\": \"training\", \"epoch\": 5, \"model\": 21}, \"Metrics\": {\"train_absolute_loss_objective\": {\"sum\": 0.35547367095947263, \"count\": 1, \"min\": 0.35547367095947263, \"max\": 0.35547367095947263}}}\n",
      "\u001b[0m\n",
      "\u001b[34m#metrics {\"StartTime\": 1634913655.898777, \"EndTime\": 1634913655.8987937, \"Dimensions\": {\"Algorithm\": \"Linear Learner\", \"Host\": \"algo-1\", \"Operation\": \"training\", \"epoch\": 5, \"model\": 22}, \"Metrics\": {\"train_absolute_loss_objective\": {\"sum\": 0.3713779067993164, \"count\": 1, \"min\": 0.3713779067993164, \"max\": 0.3713779067993164}}}\n",
      "\u001b[0m\n",
      "\u001b[34m#metrics {\"StartTime\": 1634913655.8988478, \"EndTime\": 1634913655.8988638, \"Dimensions\": {\"Algorithm\": \"Linear Learner\", \"Host\": \"algo-1\", \"Operation\": \"training\", \"epoch\": 5, \"model\": 23}, \"Metrics\": {\"train_absolute_loss_objective\": {\"sum\": 0.3734324073791504, \"count\": 1, \"min\": 0.3734324073791504, \"max\": 0.3734324073791504}}}\n",
      "\u001b[0m\n",
      "\u001b[34m#metrics {\"StartTime\": 1634913655.8989203, \"EndTime\": 1634913655.8989365, \"Dimensions\": {\"Algorithm\": \"Linear Learner\", \"Host\": \"algo-1\", \"Operation\": \"training\", \"epoch\": 5, \"model\": 24}, \"Metrics\": {\"train_absolute_loss_objective\": {\"sum\": 0.6863045463562012, \"count\": 1, \"min\": 0.6863045463562012, \"max\": 0.6863045463562012}}}\n",
      "\u001b[0m\n",
      "\u001b[34m#metrics {\"StartTime\": 1634913655.8989856, \"EndTime\": 1634913655.8990016, \"Dimensions\": {\"Algorithm\": \"Linear Learner\", \"Host\": \"algo-1\", \"Operation\": \"training\", \"epoch\": 5, \"model\": 25}, \"Metrics\": {\"train_absolute_loss_objective\": {\"sum\": 0.686970027923584, \"count\": 1, \"min\": 0.686970027923584, \"max\": 0.686970027923584}}}\n",
      "\u001b[0m\n",
      "\u001b[34m#metrics {\"StartTime\": 1634913655.899055, \"EndTime\": 1634913655.8990712, \"Dimensions\": {\"Algorithm\": \"Linear Learner\", \"Host\": \"algo-1\", \"Operation\": \"training\", \"epoch\": 5, \"model\": 26}, \"Metrics\": {\"train_absolute_loss_objective\": {\"sum\": 0.6861982917785645, \"count\": 1, \"min\": 0.6861982917785645, \"max\": 0.6861982917785645}}}\n",
      "\u001b[0m\n",
      "\u001b[34m#metrics {\"StartTime\": 1634913655.8991275, \"EndTime\": 1634913655.8991432, \"Dimensions\": {\"Algorithm\": \"Linear Learner\", \"Host\": \"algo-1\", \"Operation\": \"training\", \"epoch\": 5, \"model\": 27}, \"Metrics\": {\"train_absolute_loss_objective\": {\"sum\": 0.6873984031677246, \"count\": 1, \"min\": 0.6873984031677246, \"max\": 0.6873984031677246}}}\n",
      "\u001b[0m\n",
      "\u001b[34m#metrics {\"StartTime\": 1634913655.8992, \"EndTime\": 1634913655.8992167, \"Dimensions\": {\"Algorithm\": \"Linear Learner\", \"Host\": \"algo-1\", \"Operation\": \"training\", \"epoch\": 5, \"model\": 28}, \"Metrics\": {\"train_absolute_loss_objective\": {\"sum\": 0.6905711631774902, \"count\": 1, \"min\": 0.6905711631774902, \"max\": 0.6905711631774902}}}\n",
      "\u001b[0m\n",
      "\u001b[34m#metrics {\"StartTime\": 1634913655.899275, \"EndTime\": 1634913655.8992906, \"Dimensions\": {\"Algorithm\": \"Linear Learner\", \"Host\": \"algo-1\", \"Operation\": \"training\", \"epoch\": 5, \"model\": 29}, \"Metrics\": {\"train_absolute_loss_objective\": {\"sum\": 0.6889861373901367, \"count\": 1, \"min\": 0.6889861373901367, \"max\": 0.6889861373901367}}}\n",
      "\u001b[0m\n",
      "\u001b[34m#metrics {\"StartTime\": 1634913655.8993483, \"EndTime\": 1634913655.8993638, \"Dimensions\": {\"Algorithm\": \"Linear Learner\", \"Host\": \"algo-1\", \"Operation\": \"training\", \"epoch\": 5, \"model\": 30}, \"Metrics\": {\"train_absolute_loss_objective\": {\"sum\": 0.689553092956543, \"count\": 1, \"min\": 0.689553092956543, \"max\": 0.689553092956543}}}\n",
      "\u001b[0m\n",
      "\u001b[34m#metrics {\"StartTime\": 1634913655.899421, \"EndTime\": 1634913655.899437, \"Dimensions\": {\"Algorithm\": \"Linear Learner\", \"Host\": \"algo-1\", \"Operation\": \"training\", \"epoch\": 5, \"model\": 31}, \"Metrics\": {\"train_absolute_loss_objective\": {\"sum\": 0.6925602111816406, \"count\": 1, \"min\": 0.6925602111816406, \"max\": 0.6925602111816406}}}\n",
      "\u001b[0m\n",
      "\u001b[34m[10/22/2021 14:40:55 INFO 139817024649024] #quality_metric: host=algo-1, epoch=5, train absolute_loss_objective <loss>=0.4299149284362793\u001b[0m\n",
      "\u001b[34m[10/22/2021 14:40:55 INFO 139817024649024] #early_stopping_criteria_metric: host=algo-1, epoch=5, criteria=absolute_loss_objective, value=0.3066923732757568\u001b[0m\n",
      "\u001b[34m[10/22/2021 14:40:55 INFO 139817024649024] Saving model for epoch: 5\u001b[0m\n",
      "\u001b[34m[10/22/2021 14:40:55 INFO 139817024649024] Saved checkpoint to \"/tmp/tmpxkulp18h/mx-mod-0000.params\"\u001b[0m\n",
      "\u001b[34m[10/22/2021 14:40:55 INFO 139817024649024] #progress_metric: host=algo-1, completed 6.0 % of epochs\u001b[0m\n",
      "\u001b[34m#metrics {\"StartTime\": 1634913655.6268754, \"EndTime\": 1634913655.9120748, \"Dimensions\": {\"Algorithm\": \"Linear Learner\", \"Host\": \"algo-1\", \"Operation\": \"training\", \"epoch\": 5, \"Meta\": \"training_data_iter\"}, \"Metrics\": {\"Total Records Seen\": {\"sum\": 7590.0, \"count\": 1, \"min\": 7590, \"max\": 7590}, \"Total Batches Seen\": {\"sum\": 78.0, \"count\": 1, \"min\": 78, \"max\": 78}, \"Max Records Seen Between Resets\": {\"sum\": 1070.0, \"count\": 1, \"min\": 1070, \"max\": 1070}, \"Max Batches Seen Between Resets\": {\"sum\": 11.0, \"count\": 1, \"min\": 11, \"max\": 11}, \"Reset Count\": {\"sum\": 8.0, \"count\": 1, \"min\": 8, \"max\": 8}, \"Number of Records Since Last Reset\": {\"sum\": 1070.0, \"count\": 1, \"min\": 1070, \"max\": 1070}, \"Number of Batches Since Last Reset\": {\"sum\": 11.0, \"count\": 1, \"min\": 11, \"max\": 11}}}\n",
      "\u001b[0m\n",
      "\u001b[34m[10/22/2021 14:40:55 INFO 139817024649024] #throughput_metric: host=algo-1, train throughput=3749.970988916964 records/second\u001b[0m\n",
      "\u001b[34m[2021-10-22 14:40:56.147] [tensorio] [info] epoch_stats={\"data_pipeline\": \"/opt/ml/input/data/train\", \"epoch\": 16, \"duration\": 235, \"num_examples\": 11, \"num_bytes\": 81320}\u001b[0m\n",
      "\u001b[34m#metrics {\"StartTime\": 1634913656.1480463, \"EndTime\": 1634913656.1481311, \"Dimensions\": {\"Algorithm\": \"Linear Learner\", \"Host\": \"algo-1\", \"Operation\": \"training\", \"epoch\": 6, \"model\": 0}, \"Metrics\": {\"train_absolute_loss_objective\": {\"sum\": 0.39466033172607423, \"count\": 1, \"min\": 0.39466033172607423, \"max\": 0.39466033172607423}}}\n",
      "\u001b[0m\n",
      "\u001b[34m#metrics {\"StartTime\": 1634913656.148223, \"EndTime\": 1634913656.1482427, \"Dimensions\": {\"Algorithm\": \"Linear Learner\", \"Host\": \"algo-1\", \"Operation\": \"training\", \"epoch\": 6, \"model\": 1}, \"Metrics\": {\"train_absolute_loss_objective\": {\"sum\": 0.41865943908691405, \"count\": 1, \"min\": 0.41865943908691405, \"max\": 0.41865943908691405}}}\n",
      "\u001b[0m\n",
      "\u001b[34m#metrics {\"StartTime\": 1634913656.1482882, \"EndTime\": 1634913656.1484652, \"Dimensions\": {\"Algorithm\": \"Linear Learner\", \"Host\": \"algo-1\", \"Operation\": \"training\", \"epoch\": 6, \"model\": 2}, \"Metrics\": {\"train_absolute_loss_objective\": {\"sum\": 0.41469516372680665, \"count\": 1, \"min\": 0.41469516372680665, \"max\": 0.41469516372680665}}}\n",
      "\u001b[0m\n",
      "\u001b[34m#metrics {\"StartTime\": 1634913656.1485488, \"EndTime\": 1634913656.148566, \"Dimensions\": {\"Algorithm\": \"Linear Learner\", \"Host\": \"algo-1\", \"Operation\": \"training\", \"epoch\": 6, \"model\": 3}, \"Metrics\": {\"train_absolute_loss_objective\": {\"sum\": 0.3801714782714844, \"count\": 1, \"min\": 0.3801714782714844, \"max\": 0.3801714782714844}}}\n",
      "\u001b[0m\n",
      "\u001b[34m#metrics {\"StartTime\": 1634913656.148612, \"EndTime\": 1634913656.1486242, \"Dimensions\": {\"Algorithm\": \"Linear Learner\", \"Host\": \"algo-1\", \"Operation\": \"training\", \"epoch\": 6, \"model\": 4}, \"Metrics\": {\"train_absolute_loss_objective\": {\"sum\": 0.3065586967468262, \"count\": 1, \"min\": 0.3065586967468262, \"max\": 0.3065586967468262}}}\n",
      "\u001b[0m\n",
      "\u001b[34m#metrics {\"StartTime\": 1634913656.1486712, \"EndTime\": 1634913656.148687, \"Dimensions\": {\"Algorithm\": \"Linear Learner\", \"Host\": \"algo-1\", \"Operation\": \"training\", \"epoch\": 6, \"model\": 5}, \"Metrics\": {\"train_absolute_loss_objective\": {\"sum\": 0.3148207683563232, \"count\": 1, \"min\": 0.3148207683563232, \"max\": 0.3148207683563232}}}\n",
      "\u001b[0m\n",
      "\u001b[34m#metrics {\"StartTime\": 1634913656.1487288, \"EndTime\": 1634913656.148743, \"Dimensions\": {\"Algorithm\": \"Linear Learner\", \"Host\": \"algo-1\", \"Operation\": \"training\", \"epoch\": 6, \"model\": 6}, \"Metrics\": {\"train_absolute_loss_objective\": {\"sum\": 0.3121191501617432, \"count\": 1, \"min\": 0.3121191501617432, \"max\": 0.3121191501617432}}}\n",
      "\u001b[0m\n",
      "\u001b[34m#metrics {\"StartTime\": 1634913656.1487887, \"EndTime\": 1634913656.1488042, \"Dimensions\": {\"Algorithm\": \"Linear Learner\", \"Host\": \"algo-1\", \"Operation\": \"training\", \"epoch\": 6, \"model\": 7}, \"Metrics\": {\"train_absolute_loss_objective\": {\"sum\": 0.32021662712097165, \"count\": 1, \"min\": 0.32021662712097165, \"max\": 0.32021662712097165}}}\n",
      "\u001b[0m\n",
      "\u001b[34m#metrics {\"StartTime\": 1634913656.1488502, \"EndTime\": 1634913656.1488664, \"Dimensions\": {\"Algorithm\": \"Linear Learner\", \"Host\": \"algo-1\", \"Operation\": \"training\", \"epoch\": 6, \"model\": 8}, \"Metrics\": {\"train_absolute_loss_objective\": {\"sum\": 0.3688663330078125, \"count\": 1, \"min\": 0.3688663330078125, \"max\": 0.3688663330078125}}}\n",
      "\u001b[0m\n",
      "\u001b[34m#metrics {\"StartTime\": 1634913656.148914, \"EndTime\": 1634913656.1489298, \"Dimensions\": {\"Algorithm\": \"Linear Learner\", \"Host\": \"algo-1\", \"Operation\": \"training\", \"epoch\": 6, \"model\": 9}, \"Metrics\": {\"train_absolute_loss_objective\": {\"sum\": 0.43290584182739256, \"count\": 1, \"min\": 0.43290584182739256, \"max\": 0.43290584182739256}}}\n",
      "\u001b[0m\n",
      "\u001b[34m#metrics {\"StartTime\": 1634913656.1489768, \"EndTime\": 1634913656.1489928, \"Dimensions\": {\"Algorithm\": \"Linear Learner\", \"Host\": \"algo-1\", \"Operation\": \"training\", \"epoch\": 6, \"model\": 10}, \"Metrics\": {\"train_absolute_loss_objective\": {\"sum\": 0.40656830978393554, \"count\": 1, \"min\": 0.40656830978393554, \"max\": 0.40656830978393554}}}\n",
      "\u001b[0m\n",
      "\u001b[34m#metrics {\"StartTime\": 1634913656.1490438, \"EndTime\": 1634913656.1490588, \"Dimensions\": {\"Algorithm\": \"Linear Learner\", \"Host\": \"algo-1\", \"Operation\": \"training\", \"epoch\": 6, \"model\": 11}, \"Metrics\": {\"train_absolute_loss_objective\": {\"sum\": 0.37816725540161134, \"count\": 1, \"min\": 0.37816725540161134, \"max\": 0.37816725540161134}}}\n",
      "\u001b[0m\n",
      "\u001b[34m#metrics {\"StartTime\": 1634913656.1491086, \"EndTime\": 1634913656.1491246, \"Dimensions\": {\"Algorithm\": \"Linear Learner\", \"Host\": \"algo-1\", \"Operation\": \"training\", \"epoch\": 6, \"model\": 12}, \"Metrics\": {\"train_absolute_loss_objective\": {\"sum\": 0.31940369606018065, \"count\": 1, \"min\": 0.31940369606018065, \"max\": 0.31940369606018065}}}\n",
      "\u001b[0m\n",
      "\u001b[34m#metrics {\"StartTime\": 1634913656.149174, \"EndTime\": 1634913656.1491897, \"Dimensions\": {\"Algorithm\": \"Linear Learner\", \"Host\": \"algo-1\", \"Operation\": \"training\", \"epoch\": 6, \"model\": 13}, \"Metrics\": {\"train_absolute_loss_objective\": {\"sum\": 0.30969426345825196, \"count\": 1, \"min\": 0.30969426345825196, \"max\": 0.30969426345825196}}}\n",
      "\u001b[0m\n",
      "\u001b[34m#metrics {\"StartTime\": 1634913656.1492317, \"EndTime\": 1634913656.1492462, \"Dimensions\": {\"Algorithm\": \"Linear Learner\", \"Host\": \"algo-1\", \"Operation\": \"training\", \"epoch\": 6, \"model\": 14}, \"Metrics\": {\"train_absolute_loss_objective\": {\"sum\": 0.3204916820526123, \"count\": 1, \"min\": 0.3204916820526123, \"max\": 0.3204916820526123}}}\n",
      "\u001b[0m\n",
      "\u001b[34m#metrics {\"StartTime\": 1634913656.1492944, \"EndTime\": 1634913656.1493094, \"Dimensions\": {\"Algorithm\": \"Linear Learner\", \"Host\": \"algo-1\", \"Operation\": \"training\", \"epoch\": 6, \"model\": 15}, \"Metrics\": {\"train_absolute_loss_objective\": {\"sum\": 0.3117652339935303, \"count\": 1, \"min\": 0.3117652339935303, \"max\": 0.3117652339935303}}}\n",
      "\u001b[0m\n",
      "\u001b[34m#metrics {\"StartTime\": 1634913656.1493576, \"EndTime\": 1634913656.1493726, \"Dimensions\": {\"Algorithm\": \"Linear Learner\", \"Host\": \"algo-1\", \"Operation\": \"training\", \"epoch\": 6, \"model\": 16}, \"Metrics\": {\"train_absolute_loss_objective\": {\"sum\": 0.43909186553955076, \"count\": 1, \"min\": 0.43909186553955076, \"max\": 0.43909186553955076}}}\n",
      "\u001b[0m\n",
      "\u001b[34m#metrics {\"StartTime\": 1634913656.149424, \"EndTime\": 1634913656.1494393, \"Dimensions\": {\"Algorithm\": \"Linear Learner\", \"Host\": \"algo-1\", \"Operation\": \"training\", \"epoch\": 6, \"model\": 17}, \"Metrics\": {\"train_absolute_loss_objective\": {\"sum\": 0.45141508865356444, \"count\": 1, \"min\": 0.45141508865356444, \"max\": 0.45141508865356444}}}\n",
      "\u001b[0m\n",
      "\u001b[34m#metrics {\"StartTime\": 1634913656.1494863, \"EndTime\": 1634913656.1495018, \"Dimensions\": {\"Algorithm\": \"Linear Learner\", \"Host\": \"algo-1\", \"Operation\": \"training\", \"epoch\": 6, \"model\": 18}, \"Metrics\": {\"train_absolute_loss_objective\": {\"sum\": 0.39567424774169924, \"count\": 1, \"min\": 0.39567424774169924, \"max\": 0.39567424774169924}}}\n",
      "\u001b[0m\n",
      "\u001b[34m#metrics {\"StartTime\": 1634913656.149545, \"EndTime\": 1634913656.1495578, \"Dimensions\": {\"Algorithm\": \"Linear Learner\", \"Host\": \"algo-1\", \"Operation\": \"training\", \"epoch\": 6, \"model\": 19}, \"Metrics\": {\"train_absolute_loss_objective\": {\"sum\": 0.40947837448120117, \"count\": 1, \"min\": 0.40947837448120117, \"max\": 0.40947837448120117}}}\n",
      "\u001b[0m\n",
      "\u001b[34m#metrics {\"StartTime\": 1634913656.1496043, \"EndTime\": 1634913656.1496198, \"Dimensions\": {\"Algorithm\": \"Linear Learner\", \"Host\": \"algo-1\", \"Operation\": \"training\", \"epoch\": 6, \"model\": 20}, \"Metrics\": {\"train_absolute_loss_objective\": {\"sum\": 0.37925738525390623, \"count\": 1, \"min\": 0.37925738525390623, \"max\": 0.37925738525390623}}}\n",
      "\u001b[0m\n",
      "\u001b[34m#metrics {\"StartTime\": 1634913656.1496654, \"EndTime\": 1634913656.14968, \"Dimensions\": {\"Algorithm\": \"Linear Learner\", \"Host\": \"algo-1\", \"Operation\": \"training\", \"epoch\": 6, \"model\": 21}, \"Metrics\": {\"train_absolute_loss_objective\": {\"sum\": 0.3788344421386719, \"count\": 1, \"min\": 0.3788344421386719, \"max\": 0.3788344421386719}}}\n",
      "\u001b[0m\n",
      "\u001b[34m#metrics {\"StartTime\": 1634913656.1497269, \"EndTime\": 1634913656.1497428, \"Dimensions\": {\"Algorithm\": \"Linear Learner\", \"Host\": \"algo-1\", \"Operation\": \"training\", \"epoch\": 6, \"model\": 22}, \"Metrics\": {\"train_absolute_loss_objective\": {\"sum\": 0.36827481079101565, \"count\": 1, \"min\": 0.36827481079101565, \"max\": 0.36827481079101565}}}\n",
      "\u001b[0m\n",
      "\u001b[34m#metrics {\"StartTime\": 1634913656.1497908, \"EndTime\": 1634913656.1498053, \"Dimensions\": {\"Algorithm\": \"Linear Learner\", \"Host\": \"algo-1\", \"Operation\": \"training\", \"epoch\": 6, \"model\": 23}, \"Metrics\": {\"train_absolute_loss_objective\": {\"sum\": 0.3742857475280762, \"count\": 1, \"min\": 0.3742857475280762, \"max\": 0.3742857475280762}}}\n",
      "\u001b[0m\n",
      "\u001b[34m#metrics {\"StartTime\": 1634913656.1498542, \"EndTime\": 1634913656.1498692, \"Dimensions\": {\"Algorithm\": \"Linear Learner\", \"Host\": \"algo-1\", \"Operation\": \"training\", \"epoch\": 6, \"model\": 24}, \"Metrics\": {\"train_absolute_loss_objective\": {\"sum\": 0.6861943626403808, \"count\": 1, \"min\": 0.6861943626403808, \"max\": 0.6861943626403808}}}\n",
      "\u001b[0m\n",
      "\u001b[34m#metrics {\"StartTime\": 1634913656.1499155, \"EndTime\": 1634913656.1499307, \"Dimensions\": {\"Algorithm\": \"Linear Learner\", \"Host\": \"algo-1\", \"Operation\": \"training\", \"epoch\": 6, \"model\": 25}, \"Metrics\": {\"train_absolute_loss_objective\": {\"sum\": 0.6870465469360352, \"count\": 1, \"min\": 0.6870465469360352, \"max\": 0.6870465469360352}}}\n",
      "\u001b[0m\n",
      "\u001b[34m#metrics {\"StartTime\": 1634913656.1499784, \"EndTime\": 1634913656.1499937, \"Dimensions\": {\"Algorithm\": \"Linear Learner\", \"Host\": \"algo-1\", \"Operation\": \"training\", \"epoch\": 6, \"model\": 26}, \"Metrics\": {\"train_absolute_loss_objective\": {\"sum\": 0.6873287696838379, \"count\": 1, \"min\": 0.6873287696838379, \"max\": 0.6873287696838379}}}\n",
      "\u001b[0m\n",
      "\u001b[34m#metrics {\"StartTime\": 1634913656.1500378, \"EndTime\": 1634913656.1500523, \"Dimensions\": {\"Algorithm\": \"Linear Learner\", \"Host\": \"algo-1\", \"Operation\": \"training\", \"epoch\": 6, \"model\": 27}, \"Metrics\": {\"train_absolute_loss_objective\": {\"sum\": 0.6865603218078613, \"count\": 1, \"min\": 0.6865603218078613, \"max\": 0.6865603218078613}}}\n",
      "\u001b[0m\n",
      "\u001b[34m#metrics {\"StartTime\": 1634913656.1500998, \"EndTime\": 1634913656.1501145, \"Dimensions\": {\"Algorithm\": \"Linear Learner\", \"Host\": \"algo-1\", \"Operation\": \"training\", \"epoch\": 6, \"model\": 28}, \"Metrics\": {\"train_absolute_loss_objective\": {\"sum\": 0.6896776123046875, \"count\": 1, \"min\": 0.6896776123046875, \"max\": 0.6896776123046875}}}\n",
      "\u001b[0m\n",
      "\u001b[34m#metrics {\"StartTime\": 1634913656.1501584, \"EndTime\": 1634913656.150174, \"Dimensions\": {\"Algorithm\": \"Linear Learner\", \"Host\": \"algo-1\", \"Operation\": \"training\", \"epoch\": 6, \"model\": 29}, \"Metrics\": {\"train_absolute_loss_objective\": {\"sum\": 0.6883523139953613, \"count\": 1, \"min\": 0.6883523139953613, \"max\": 0.6883523139953613}}}\n",
      "\u001b[0m\n",
      "\u001b[34m#metrics {\"StartTime\": 1634913656.1502206, \"EndTime\": 1634913656.1502354, \"Dimensions\": {\"Algorithm\": \"Linear Learner\", \"Host\": \"algo-1\", \"Operation\": \"training\", \"epoch\": 6, \"model\": 30}, \"Metrics\": {\"train_absolute_loss_objective\": {\"sum\": 0.6892311553955078, \"count\": 1, \"min\": 0.6892311553955078, \"max\": 0.6892311553955078}}}\n",
      "\u001b[0m\n",
      "\u001b[34m#metrics {\"StartTime\": 1634913656.1502848, \"EndTime\": 1634913656.1503007, \"Dimensions\": {\"Algorithm\": \"Linear Learner\", \"Host\": \"algo-1\", \"Operation\": \"training\", \"epoch\": 6, \"model\": 31}, \"Metrics\": {\"train_absolute_loss_objective\": {\"sum\": 0.6864138259887695, \"count\": 1, \"min\": 0.6864138259887695, \"max\": 0.6864138259887695}}}\n",
      "\u001b[0m\n",
      "\u001b[34m[10/22/2021 14:40:56 INFO 139817024649024] #quality_metric: host=algo-1, epoch=6, train absolute_loss_objective <loss>=0.39466033172607423\u001b[0m\n",
      "\u001b[34m[10/22/2021 14:40:56 INFO 139817024649024] #early_stopping_criteria_metric: host=algo-1, epoch=6, criteria=absolute_loss_objective, value=0.3065586967468262\u001b[0m\n",
      "\u001b[34m[10/22/2021 14:40:56 INFO 139817024649024] Saving model for epoch: 6\u001b[0m\n",
      "\u001b[34m[10/22/2021 14:40:56 INFO 139817024649024] Saved checkpoint to \"/tmp/tmpd4764ovn/mx-mod-0000.params\"\u001b[0m\n",
      "\u001b[34m[10/22/2021 14:40:56 INFO 139817024649024] #progress_metric: host=algo-1, completed 7.0 % of epochs\u001b[0m\n",
      "\u001b[34m#metrics {\"StartTime\": 1634913655.9123602, \"EndTime\": 1634913656.1613798, \"Dimensions\": {\"Algorithm\": \"Linear Learner\", \"Host\": \"algo-1\", \"Operation\": \"training\", \"epoch\": 6, \"Meta\": \"training_data_iter\"}, \"Metrics\": {\"Total Records Seen\": {\"sum\": 8660.0, \"count\": 1, \"min\": 8660, \"max\": 8660}, \"Total Batches Seen\": {\"sum\": 89.0, \"count\": 1, \"min\": 89, \"max\": 89}, \"Max Records Seen Between Resets\": {\"sum\": 1070.0, \"count\": 1, \"min\": 1070, \"max\": 1070}, \"Max Batches Seen Between Resets\": {\"sum\": 11.0, \"count\": 1, \"min\": 11, \"max\": 11}, \"Reset Count\": {\"sum\": 9.0, \"count\": 1, \"min\": 9, \"max\": 9}, \"Number of Records Since Last Reset\": {\"sum\": 1070.0, \"count\": 1, \"min\": 1070, \"max\": 1070}, \"Number of Batches Since Last Reset\": {\"sum\": 11.0, \"count\": 1, \"min\": 11, \"max\": 11}}}\n",
      "\u001b[0m\n",
      "\u001b[34m[10/22/2021 14:40:56 INFO 139817024649024] #throughput_metric: host=algo-1, train throughput=4294.428397411423 records/second\u001b[0m\n",
      "\u001b[34m[2021-10-22 14:40:56.459] [tensorio] [info] epoch_stats={\"data_pipeline\": \"/opt/ml/input/data/train\", \"epoch\": 18, \"duration\": 297, \"num_examples\": 11, \"num_bytes\": 81320}\u001b[0m\n",
      "\u001b[34m#metrics {\"StartTime\": 1634913656.4595418, \"EndTime\": 1634913656.4596803, \"Dimensions\": {\"Algorithm\": \"Linear Learner\", \"Host\": \"algo-1\", \"Operation\": \"training\", \"epoch\": 7, \"model\": 0}, \"Metrics\": {\"train_absolute_loss_objective\": {\"sum\": 0.37193084716796876, \"count\": 1, \"min\": 0.37193084716796876, \"max\": 0.37193084716796876}}}\n",
      "\u001b[0m\n",
      "\u001b[34m#metrics {\"StartTime\": 1634913656.4600375, \"EndTime\": 1634913656.4600592, \"Dimensions\": {\"Algorithm\": \"Linear Learner\", \"Host\": \"algo-1\", \"Operation\": \"training\", \"epoch\": 7, \"model\": 1}, \"Metrics\": {\"train_absolute_loss_objective\": {\"sum\": 0.3948917274475098, \"count\": 1, \"min\": 0.3948917274475098, \"max\": 0.3948917274475098}}}\n",
      "\u001b[0m\n",
      "\u001b[34m#metrics {\"StartTime\": 1634913656.4603195, \"EndTime\": 1634913656.4603398, \"Dimensions\": {\"Algorithm\": \"Linear Learner\", \"Host\": \"algo-1\", \"Operation\": \"training\", \"epoch\": 7, \"model\": 2}, \"Metrics\": {\"train_absolute_loss_objective\": {\"sum\": 0.3919929885864258, \"count\": 1, \"min\": 0.3919929885864258, \"max\": 0.3919929885864258}}}\n",
      "\u001b[0m\n",
      "\u001b[34m#metrics {\"StartTime\": 1634913656.4605422, \"EndTime\": 1634913656.4605615, \"Dimensions\": {\"Algorithm\": \"Linear Learner\", \"Host\": \"algo-1\", \"Operation\": \"training\", \"epoch\": 7, \"model\": 3}, \"Metrics\": {\"train_absolute_loss_objective\": {\"sum\": 0.357945032119751, \"count\": 1, \"min\": 0.357945032119751, \"max\": 0.357945032119751}}}\n",
      "\u001b[0m\n",
      "\u001b[34m#metrics {\"StartTime\": 1634913656.4606545, \"EndTime\": 1634913656.4606721, \"Dimensions\": {\"Algorithm\": \"Linear Learner\", \"Host\": \"algo-1\", \"Operation\": \"training\", \"epoch\": 7, \"model\": 4}, \"Metrics\": {\"train_absolute_loss_objective\": {\"sum\": 0.3075297946929932, \"count\": 1, \"min\": 0.3075297946929932, \"max\": 0.3075297946929932}}}\n",
      "\u001b[0m\n",
      "\u001b[34m#metrics {\"StartTime\": 1634913656.4607196, \"EndTime\": 1634913656.4607322, \"Dimensions\": {\"Algorithm\": \"Linear Learner\", \"Host\": \"algo-1\", \"Operation\": \"training\", \"epoch\": 7, \"model\": 5}, \"Metrics\": {\"train_absolute_loss_objective\": {\"sum\": 0.3188885192871094, \"count\": 1, \"min\": 0.3188885192871094, \"max\": 0.3188885192871094}}}\n",
      "\u001b[0m\n",
      "\u001b[34m#metrics {\"StartTime\": 1634913656.4607742, \"EndTime\": 1634913656.4607873, \"Dimensions\": {\"Algorithm\": \"Linear Learner\", \"Host\": \"algo-1\", \"Operation\": \"training\", \"epoch\": 7, \"model\": 6}, \"Metrics\": {\"train_absolute_loss_objective\": {\"sum\": 0.30777433586120606, \"count\": 1, \"min\": 0.30777433586120606, \"max\": 0.30777433586120606}}}\n",
      "\u001b[0m\n",
      "\u001b[34m#metrics {\"StartTime\": 1634913656.460858, \"EndTime\": 1634913656.460872, \"Dimensions\": {\"Algorithm\": \"Linear Learner\", \"Host\": \"algo-1\", \"Operation\": \"training\", \"epoch\": 7, \"model\": 7}, \"Metrics\": {\"train_absolute_loss_objective\": {\"sum\": 0.3001954574584961, \"count\": 1, \"min\": 0.3001954574584961, \"max\": 0.3001954574584961}}}\n",
      "\u001b[0m\n",
      "\u001b[34m#metrics {\"StartTime\": 1634913656.460912, \"EndTime\": 1634913656.4609232, \"Dimensions\": {\"Algorithm\": \"Linear Learner\", \"Host\": \"algo-1\", \"Operation\": \"training\", \"epoch\": 7, \"model\": 8}, \"Metrics\": {\"train_absolute_loss_objective\": {\"sum\": 0.3496851806640625, \"count\": 1, \"min\": 0.3496851806640625, \"max\": 0.3496851806640625}}}\n",
      "\u001b[0m\n",
      "\u001b[34m#metrics {\"StartTime\": 1634913656.4609616, \"EndTime\": 1634913656.461, \"Dimensions\": {\"Algorithm\": \"Linear Learner\", \"Host\": \"algo-1\", \"Operation\": \"training\", \"epoch\": 7, \"model\": 9}, \"Metrics\": {\"train_absolute_loss_objective\": {\"sum\": 0.4085232276916504, \"count\": 1, \"min\": 0.4085232276916504, \"max\": 0.4085232276916504}}}\n",
      "\u001b[0m\n",
      "\u001b[34m#metrics {\"StartTime\": 1634913656.4610496, \"EndTime\": 1634913656.4610648, \"Dimensions\": {\"Algorithm\": \"Linear Learner\", \"Host\": \"algo-1\", \"Operation\": \"training\", \"epoch\": 7, \"model\": 10}, \"Metrics\": {\"train_absolute_loss_objective\": {\"sum\": 0.38253820419311524, \"count\": 1, \"min\": 0.38253820419311524, \"max\": 0.38253820419311524}}}\n",
      "\u001b[0m\n",
      "\u001b[34m#metrics {\"StartTime\": 1634913656.4611135, \"EndTime\": 1634913656.4611285, \"Dimensions\": {\"Algorithm\": \"Linear Learner\", \"Host\": \"algo-1\", \"Operation\": \"training\", \"epoch\": 7, \"model\": 11}, \"Metrics\": {\"train_absolute_loss_objective\": {\"sum\": 0.35578027534484863, \"count\": 1, \"min\": 0.35578027534484863, \"max\": 0.35578027534484863}}}\n",
      "\u001b[0m\n",
      "\u001b[34m#metrics {\"StartTime\": 1634913656.4612136, \"EndTime\": 1634913656.4612298, \"Dimensions\": {\"Algorithm\": \"Linear Learner\", \"Host\": \"algo-1\", \"Operation\": \"training\", \"epoch\": 7, \"model\": 12}, \"Metrics\": {\"train_absolute_loss_objective\": {\"sum\": 0.311901029586792, \"count\": 1, \"min\": 0.311901029586792, \"max\": 0.311901029586792}}}\n",
      "\u001b[0m\n",
      "\u001b[34m#metrics {\"StartTime\": 1634913656.4612775, \"EndTime\": 1634913656.4612908, \"Dimensions\": {\"Algorithm\": \"Linear Learner\", \"Host\": \"algo-1\", \"Operation\": \"training\", \"epoch\": 7, \"model\": 13}, \"Metrics\": {\"train_absolute_loss_objective\": {\"sum\": 0.30722149085998535, \"count\": 1, \"min\": 0.30722149085998535, \"max\": 0.30722149085998535}}}\n",
      "\u001b[0m\n",
      "\u001b[34m#metrics {\"StartTime\": 1634913656.4613662, \"EndTime\": 1634913656.4613807, \"Dimensions\": {\"Algorithm\": \"Linear Learner\", \"Host\": \"algo-1\", \"Operation\": \"training\", \"epoch\": 7, \"model\": 14}, \"Metrics\": {\"train_absolute_loss_objective\": {\"sum\": 0.322300163269043, \"count\": 1, \"min\": 0.322300163269043, \"max\": 0.322300163269043}}}\n",
      "\u001b[0m\n",
      "\u001b[34m#metrics {\"StartTime\": 1634913656.4614232, \"EndTime\": 1634913656.4614348, \"Dimensions\": {\"Algorithm\": \"Linear Learner\", \"Host\": \"algo-1\", \"Operation\": \"training\", \"epoch\": 7, \"model\": 15}, \"Metrics\": {\"train_absolute_loss_objective\": {\"sum\": 0.32057039833068846, \"count\": 1, \"min\": 0.32057039833068846, \"max\": 0.32057039833068846}}}\n",
      "\u001b[0m\n",
      "\u001b[34m#metrics {\"StartTime\": 1634913656.4615011, \"EndTime\": 1634913656.4615164, \"Dimensions\": {\"Algorithm\": \"Linear Learner\", \"Host\": \"algo-1\", \"Operation\": \"training\", \"epoch\": 7, \"model\": 16}, \"Metrics\": {\"train_absolute_loss_objective\": {\"sum\": 0.41875974655151366, \"count\": 1, \"min\": 0.41875974655151366, \"max\": 0.41875974655151366}}}\n",
      "\u001b[0m\n",
      "\u001b[34m#metrics {\"StartTime\": 1634913656.4615595, \"EndTime\": 1634913656.4615724, \"Dimensions\": {\"Algorithm\": \"Linear Learner\", \"Host\": \"algo-1\", \"Operation\": \"training\", \"epoch\": 7, \"model\": 17}, \"Metrics\": {\"train_absolute_loss_objective\": {\"sum\": 0.4297083511352539, \"count\": 1, \"min\": 0.4297083511352539, \"max\": 0.4297083511352539}}}\n",
      "\u001b[0m\n",
      "\u001b[34m#metrics {\"StartTime\": 1634913656.4616163, \"EndTime\": 1634913656.4616284, \"Dimensions\": {\"Algorithm\": \"Linear Learner\", \"Host\": \"algo-1\", \"Operation\": \"training\", \"epoch\": 7, \"model\": 18}, \"Metrics\": {\"train_absolute_loss_objective\": {\"sum\": 0.3775644874572754, \"count\": 1, \"min\": 0.3775644874572754, \"max\": 0.3775644874572754}}}\n",
      "\u001b[0m\n",
      "\u001b[34m#metrics {\"StartTime\": 1634913656.4617014, \"EndTime\": 1634913656.4617155, \"Dimensions\": {\"Algorithm\": \"Linear Learner\", \"Host\": \"algo-1\", \"Operation\": \"training\", \"epoch\": 7, \"model\": 19}, \"Metrics\": {\"train_absolute_loss_objective\": {\"sum\": 0.3861743278503418, \"count\": 1, \"min\": 0.3861743278503418, \"max\": 0.3861743278503418}}}\n",
      "\u001b[0m\n",
      "\u001b[34m#metrics {\"StartTime\": 1634913656.4617558, \"EndTime\": 1634913656.4617677, \"Dimensions\": {\"Algorithm\": \"Linear Learner\", \"Host\": \"algo-1\", \"Operation\": \"training\", \"epoch\": 7, \"model\": 20}, \"Metrics\": {\"train_absolute_loss_objective\": {\"sum\": 0.376933464050293, \"count\": 1, \"min\": 0.376933464050293, \"max\": 0.376933464050293}}}\n",
      "\u001b[0m\n",
      "\u001b[34m#metrics {\"StartTime\": 1634913656.4618337, \"EndTime\": 1634913656.4618485, \"Dimensions\": {\"Algorithm\": \"Linear Learner\", \"Host\": \"algo-1\", \"Operation\": \"training\", \"epoch\": 7, \"model\": 21}, \"Metrics\": {\"train_absolute_loss_objective\": {\"sum\": 0.36576778030395507, \"count\": 1, \"min\": 0.36576778030395507, \"max\": 0.36576778030395507}}}\n",
      "\u001b[0m\n",
      "\u001b[34m#metrics {\"StartTime\": 1634913656.4618933, \"EndTime\": 1634913656.4619057, \"Dimensions\": {\"Algorithm\": \"Linear Learner\", \"Host\": \"algo-1\", \"Operation\": \"training\", \"epoch\": 7, \"model\": 22}, \"Metrics\": {\"train_absolute_loss_objective\": {\"sum\": 0.37246998977661133, \"count\": 1, \"min\": 0.37246998977661133, \"max\": 0.37246998977661133}}}\n",
      "\u001b[0m\n",
      "\u001b[34m#metrics {\"StartTime\": 1634913656.4619443, \"EndTime\": 1634913656.4619558, \"Dimensions\": {\"Algorithm\": \"Linear Learner\", \"Host\": \"algo-1\", \"Operation\": \"training\", \"epoch\": 7, \"model\": 23}, \"Metrics\": {\"train_absolute_loss_objective\": {\"sum\": 0.39473575973510744, \"count\": 1, \"min\": 0.39473575973510744, \"max\": 0.39473575973510744}}}\n",
      "\u001b[0m\n",
      "\u001b[34m#metrics {\"StartTime\": 1634913656.4619927, \"EndTime\": 1634913656.4620035, \"Dimensions\": {\"Algorithm\": \"Linear Learner\", \"Host\": \"algo-1\", \"Operation\": \"training\", \"epoch\": 7, \"model\": 24}, \"Metrics\": {\"train_absolute_loss_objective\": {\"sum\": 0.6870655136108399, \"count\": 1, \"min\": 0.6870655136108399, \"max\": 0.6870655136108399}}}\n",
      "\u001b[0m\n",
      "\u001b[34m#metrics {\"StartTime\": 1634913656.4620407, \"EndTime\": 1634913656.4620516, \"Dimensions\": {\"Algorithm\": \"Linear Learner\", \"Host\": \"algo-1\", \"Operation\": \"training\", \"epoch\": 7, \"model\": 25}, \"Metrics\": {\"train_absolute_loss_objective\": {\"sum\": 0.6869193572998047, \"count\": 1, \"min\": 0.6869193572998047, \"max\": 0.6869193572998047}}}\n",
      "\u001b[0m\n",
      "\u001b[34m#metrics {\"StartTime\": 1634913656.4620886, \"EndTime\": 1634913656.4620996, \"Dimensions\": {\"Algorithm\": \"Linear Learner\", \"Host\": \"algo-1\", \"Operation\": \"training\", \"epoch\": 7, \"model\": 26}, \"Metrics\": {\"train_absolute_loss_objective\": {\"sum\": 0.6867681274414063, \"count\": 1, \"min\": 0.6867681274414063, \"max\": 0.6867681274414063}}}\n",
      "\u001b[0m\n",
      "\u001b[34m#metrics {\"StartTime\": 1634913656.4621365, \"EndTime\": 1634913656.4621475, \"Dimensions\": {\"Algorithm\": \"Linear Learner\", \"Host\": \"algo-1\", \"Operation\": \"training\", \"epoch\": 7, \"model\": 27}, \"Metrics\": {\"train_absolute_loss_objective\": {\"sum\": 0.6865316390991211, \"count\": 1, \"min\": 0.6865316390991211, \"max\": 0.6865316390991211}}}\n",
      "\u001b[0m\n",
      "\u001b[34m#metrics {\"StartTime\": 1634913656.462186, \"EndTime\": 1634913656.4621968, \"Dimensions\": {\"Algorithm\": \"Linear Learner\", \"Host\": \"algo-1\", \"Operation\": \"training\", \"epoch\": 7, \"model\": 28}, \"Metrics\": {\"train_absolute_loss_objective\": {\"sum\": 0.6900677871704102, \"count\": 1, \"min\": 0.6900677871704102, \"max\": 0.6900677871704102}}}\n",
      "\u001b[0m\n",
      "\u001b[34m#metrics {\"StartTime\": 1634913656.462234, \"EndTime\": 1634913656.4622452, \"Dimensions\": {\"Algorithm\": \"Linear Learner\", \"Host\": \"algo-1\", \"Operation\": \"training\", \"epoch\": 7, \"model\": 29}, \"Metrics\": {\"train_absolute_loss_objective\": {\"sum\": 0.6876783294677734, \"count\": 1, \"min\": 0.6876783294677734, \"max\": 0.6876783294677734}}}\n",
      "\u001b[0m\n",
      "\u001b[34m#metrics {\"StartTime\": 1634913656.462323, \"EndTime\": 1634913656.4623377, \"Dimensions\": {\"Algorithm\": \"Linear Learner\", \"Host\": \"algo-1\", \"Operation\": \"training\", \"epoch\": 7, \"model\": 30}, \"Metrics\": {\"train_absolute_loss_objective\": {\"sum\": 0.6886371345520019, \"count\": 1, \"min\": 0.6886371345520019, \"max\": 0.6886371345520019}}}\n",
      "\u001b[0m\n",
      "\u001b[34m#metrics {\"StartTime\": 1634913656.4623797, \"EndTime\": 1634913656.4623916, \"Dimensions\": {\"Algorithm\": \"Linear Learner\", \"Host\": \"algo-1\", \"Operation\": \"training\", \"epoch\": 7, \"model\": 31}, \"Metrics\": {\"train_absolute_loss_objective\": {\"sum\": 0.6879228248596191, \"count\": 1, \"min\": 0.6879228248596191, \"max\": 0.6879228248596191}}}\n",
      "\u001b[0m\n",
      "\u001b[34m[10/22/2021 14:40:56 INFO 139817024649024] #quality_metric: host=algo-1, epoch=7, train absolute_loss_objective <loss>=0.37193084716796876\u001b[0m\n",
      "\u001b[34m[10/22/2021 14:40:56 INFO 139817024649024] #early_stopping_criteria_metric: host=algo-1, epoch=7, criteria=absolute_loss_objective, value=0.3001954574584961\u001b[0m\n",
      "\u001b[34m[10/22/2021 14:40:56 INFO 139817024649024] Epoch 7: Loss improved. Updating best model\u001b[0m\n",
      "\u001b[34m[10/22/2021 14:40:56 INFO 139817024649024] Saving model for epoch: 7\u001b[0m\n",
      "\u001b[34m[10/22/2021 14:40:56 INFO 139817024649024] Saved checkpoint to \"/tmp/tmp5d23m0os/mx-mod-0000.params\"\u001b[0m\n",
      "\u001b[34m[10/22/2021 14:40:56 INFO 139817024649024] #progress_metric: host=algo-1, completed 8.0 % of epochs\u001b[0m\n",
      "\u001b[34m#metrics {\"StartTime\": 1634913656.1616669, \"EndTime\": 1634913656.4778857, \"Dimensions\": {\"Algorithm\": \"Linear Learner\", \"Host\": \"algo-1\", \"Operation\": \"training\", \"epoch\": 7, \"Meta\": \"training_data_iter\"}, \"Metrics\": {\"Total Records Seen\": {\"sum\": 9730.0, \"count\": 1, \"min\": 9730, \"max\": 9730}, \"Total Batches Seen\": {\"sum\": 100.0, \"count\": 1, \"min\": 100, \"max\": 100}, \"Max Records Seen Between Resets\": {\"sum\": 1070.0, \"count\": 1, \"min\": 1070, \"max\": 1070}, \"Max Batches Seen Between Resets\": {\"sum\": 11.0, \"count\": 1, \"min\": 11, \"max\": 11}, \"Reset Count\": {\"sum\": 10.0, \"count\": 1, \"min\": 10, \"max\": 10}, \"Number of Records Since Last Reset\": {\"sum\": 1070.0, \"count\": 1, \"min\": 1070, \"max\": 1070}, \"Number of Batches Since Last Reset\": {\"sum\": 11.0, \"count\": 1, \"min\": 11, \"max\": 11}}}\n",
      "\u001b[0m\n",
      "\u001b[34m[10/22/2021 14:40:56 INFO 139817024649024] #throughput_metric: host=algo-1, train throughput=3382.1387052797295 records/second\u001b[0m\n",
      "\u001b[34m[2021-10-22 14:40:56.708] [tensorio] [info] epoch_stats={\"data_pipeline\": \"/opt/ml/input/data/train\", \"epoch\": 20, \"duration\": 229, \"num_examples\": 11, \"num_bytes\": 81320}\u001b[0m\n",
      "\u001b[34m#metrics {\"StartTime\": 1634913656.7080584, \"EndTime\": 1634913656.7081366, \"Dimensions\": {\"Algorithm\": \"Linear Learner\", \"Host\": \"algo-1\", \"Operation\": \"training\", \"epoch\": 8, \"model\": 0}, \"Metrics\": {\"train_absolute_loss_objective\": {\"sum\": 0.35157879257202146, \"count\": 1, \"min\": 0.35157879257202146, \"max\": 0.35157879257202146}}}\n",
      "\u001b[0m\n",
      "\u001b[34m#metrics {\"StartTime\": 1634913656.7082148, \"EndTime\": 1634913656.7082283, \"Dimensions\": {\"Algorithm\": \"Linear Learner\", \"Host\": \"algo-1\", \"Operation\": \"training\", \"epoch\": 8, \"model\": 1}, \"Metrics\": {\"train_absolute_loss_objective\": {\"sum\": 0.37020784187316896, \"count\": 1, \"min\": 0.37020784187316896, \"max\": 0.37020784187316896}}}\n",
      "\u001b[0m\n",
      "\u001b[34m#metrics {\"StartTime\": 1634913656.7082658, \"EndTime\": 1634913656.708339, \"Dimensions\": {\"Algorithm\": \"Linear Learner\", \"Host\": \"algo-1\", \"Operation\": \"training\", \"epoch\": 8, \"model\": 2}, \"Metrics\": {\"train_absolute_loss_objective\": {\"sum\": 0.3693253154754639, \"count\": 1, \"min\": 0.3693253154754639, \"max\": 0.3693253154754639}}}\n",
      "\u001b[0m\n",
      "\u001b[34m#metrics {\"StartTime\": 1634913656.7083879, \"EndTime\": 1634913656.7084463, \"Dimensions\": {\"Algorithm\": \"Linear Learner\", \"Host\": \"algo-1\", \"Operation\": \"training\", \"epoch\": 8, \"model\": 3}, \"Metrics\": {\"train_absolute_loss_objective\": {\"sum\": 0.3382136039733887, \"count\": 1, \"min\": 0.3382136039733887, \"max\": 0.3382136039733887}}}\n",
      "\u001b[0m\n",
      "\u001b[34m#metrics {\"StartTime\": 1634913656.708587, \"EndTime\": 1634913656.708676, \"Dimensions\": {\"Algorithm\": \"Linear Learner\", \"Host\": \"algo-1\", \"Operation\": \"training\", \"epoch\": 8, \"model\": 4}, \"Metrics\": {\"train_absolute_loss_objective\": {\"sum\": 0.3088920726776123, \"count\": 1, \"min\": 0.3088920726776123, \"max\": 0.3088920726776123}}}\n",
      "\u001b[0m\n",
      "\u001b[34m#metrics {\"StartTime\": 1634913656.7088034, \"EndTime\": 1634913656.7088184, \"Dimensions\": {\"Algorithm\": \"Linear Learner\", \"Host\": \"algo-1\", \"Operation\": \"training\", \"epoch\": 8, \"model\": 5}, \"Metrics\": {\"train_absolute_loss_objective\": {\"sum\": 0.3333762149810791, \"count\": 1, \"min\": 0.3333762149810791, \"max\": 0.3333762149810791}}}\n",
      "\u001b[0m\n",
      "\u001b[34m#metrics {\"StartTime\": 1634913656.7088563, \"EndTime\": 1634913656.7088666, \"Dimensions\": {\"Algorithm\": \"Linear Learner\", \"Host\": \"algo-1\", \"Operation\": \"training\", \"epoch\": 8, \"model\": 6}, \"Metrics\": {\"train_absolute_loss_objective\": {\"sum\": 0.306208366394043, \"count\": 1, \"min\": 0.306208366394043, \"max\": 0.306208366394043}}}\n",
      "\u001b[0m\n",
      "\u001b[34m#metrics {\"StartTime\": 1634913656.7090538, \"EndTime\": 1634913656.7090688, \"Dimensions\": {\"Algorithm\": \"Linear Learner\", \"Host\": \"algo-1\", \"Operation\": \"training\", \"epoch\": 8, \"model\": 7}, \"Metrics\": {\"train_absolute_loss_objective\": {\"sum\": 0.30751583671569827, \"count\": 1, \"min\": 0.30751583671569827, \"max\": 0.30751583671569827}}}\n",
      "\u001b[0m\n",
      "\u001b[34m#metrics {\"StartTime\": 1634913656.7091088, \"EndTime\": 1634913656.7091186, \"Dimensions\": {\"Algorithm\": \"Linear Learner\", \"Host\": \"algo-1\", \"Operation\": \"training\", \"epoch\": 8, \"model\": 8}, \"Metrics\": {\"train_absolute_loss_objective\": {\"sum\": 0.3332010116577148, \"count\": 1, \"min\": 0.3332010116577148, \"max\": 0.3332010116577148}}}\n",
      "\u001b[0m\n",
      "\u001b[34m#metrics {\"StartTime\": 1634913656.7093074, \"EndTime\": 1634913656.7093234, \"Dimensions\": {\"Algorithm\": \"Linear Learner\", \"Host\": \"algo-1\", \"Operation\": \"training\", \"epoch\": 8, \"model\": 9}, \"Metrics\": {\"train_absolute_loss_objective\": {\"sum\": 0.38367299652099607, \"count\": 1, \"min\": 0.38367299652099607, \"max\": 0.38367299652099607}}}\n",
      "\u001b[0m\n",
      "\u001b[34m#metrics {\"StartTime\": 1634913656.7093663, \"EndTime\": 1634913656.709377, \"Dimensions\": {\"Algorithm\": \"Linear Learner\", \"Host\": \"algo-1\", \"Operation\": \"training\", \"epoch\": 8, \"model\": 10}, \"Metrics\": {\"train_absolute_loss_objective\": {\"sum\": 0.36140151023864747, \"count\": 1, \"min\": 0.36140151023864747, \"max\": 0.36140151023864747}}}\n",
      "\u001b[0m\n",
      "\u001b[34m#metrics {\"StartTime\": 1634913656.709411, \"EndTime\": 1634913656.70942, \"Dimensions\": {\"Algorithm\": \"Linear Learner\", \"Host\": \"algo-1\", \"Operation\": \"training\", \"epoch\": 8, \"model\": 11}, \"Metrics\": {\"train_absolute_loss_objective\": {\"sum\": 0.33734281539916994, \"count\": 1, \"min\": 0.33734281539916994, \"max\": 0.33734281539916994}}}\n",
      "\u001b[0m\n",
      "\u001b[34m#metrics {\"StartTime\": 1634913656.709544, \"EndTime\": 1634913656.7095566, \"Dimensions\": {\"Algorithm\": \"Linear Learner\", \"Host\": \"algo-1\", \"Operation\": \"training\", \"epoch\": 8, \"model\": 12}, \"Metrics\": {\"train_absolute_loss_objective\": {\"sum\": 0.3174259567260742, \"count\": 1, \"min\": 0.3174259567260742, \"max\": 0.3174259567260742}}}\n",
      "\u001b[0m\n",
      "\u001b[34m#metrics {\"StartTime\": 1634913656.7095838, \"EndTime\": 1634913656.7095914, \"Dimensions\": {\"Algorithm\": \"Linear Learner\", \"Host\": \"algo-1\", \"Operation\": \"training\", \"epoch\": 8, \"model\": 13}, \"Metrics\": {\"train_absolute_loss_objective\": {\"sum\": 0.3104750213623047, \"count\": 1, \"min\": 0.3104750213623047, \"max\": 0.3104750213623047}}}\n",
      "\u001b[0m\n",
      "\u001b[34m#metrics {\"StartTime\": 1634913656.7096214, \"EndTime\": 1634913656.7096348, \"Dimensions\": {\"Algorithm\": \"Linear Learner\", \"Host\": \"algo-1\", \"Operation\": \"training\", \"epoch\": 8, \"model\": 14}, \"Metrics\": {\"train_absolute_loss_objective\": {\"sum\": 0.31299299240112305, \"count\": 1, \"min\": 0.31299299240112305, \"max\": 0.31299299240112305}}}\n",
      "\u001b[0m\n",
      "\u001b[34m#metrics {\"StartTime\": 1634913656.70968, \"EndTime\": 1634913656.709836, \"Dimensions\": {\"Algorithm\": \"Linear Learner\", \"Host\": \"algo-1\", \"Operation\": \"training\", \"epoch\": 8, \"model\": 15}, \"Metrics\": {\"train_absolute_loss_objective\": {\"sum\": 0.332392183303833, \"count\": 1, \"min\": 0.332392183303833, \"max\": 0.332392183303833}}}\n",
      "\u001b[0m\n",
      "\u001b[34m#metrics {\"StartTime\": 1634913656.7099414, \"EndTime\": 1634913656.7099595, \"Dimensions\": {\"Algorithm\": \"Linear Learner\", \"Host\": \"algo-1\", \"Operation\": \"training\", \"epoch\": 8, \"model\": 16}, \"Metrics\": {\"train_absolute_loss_objective\": {\"sum\": 0.40443991088867187, \"count\": 1, \"min\": 0.40443991088867187, \"max\": 0.40443991088867187}}}\n",
      "\u001b[0m\n",
      "\u001b[34m#metrics {\"StartTime\": 1634913656.7100096, \"EndTime\": 1634913656.710026, \"Dimensions\": {\"Algorithm\": \"Linear Learner\", \"Host\": \"algo-1\", \"Operation\": \"training\", \"epoch\": 8, \"model\": 17}, \"Metrics\": {\"train_absolute_loss_objective\": {\"sum\": 0.41425940704345704, \"count\": 1, \"min\": 0.41425940704345704, \"max\": 0.41425940704345704}}}\n",
      "\u001b[0m\n",
      "\u001b[34m#metrics {\"StartTime\": 1634913656.7100744, \"EndTime\": 1634913656.7100904, \"Dimensions\": {\"Algorithm\": \"Linear Learner\", \"Host\": \"algo-1\", \"Operation\": \"training\", \"epoch\": 8, \"model\": 18}, \"Metrics\": {\"train_absolute_loss_objective\": {\"sum\": 0.36649475479125976, \"count\": 1, \"min\": 0.36649475479125976, \"max\": 0.36649475479125976}}}\n",
      "\u001b[0m\n",
      "\u001b[34m#metrics {\"StartTime\": 1634913656.7101386, \"EndTime\": 1634913656.7101545, \"Dimensions\": {\"Algorithm\": \"Linear Learner\", \"Host\": \"algo-1\", \"Operation\": \"training\", \"epoch\": 8, \"model\": 19}, \"Metrics\": {\"train_absolute_loss_objective\": {\"sum\": 0.3719994354248047, \"count\": 1, \"min\": 0.3719994354248047, \"max\": 0.3719994354248047}}}\n",
      "\u001b[0m\n",
      "\u001b[34m#metrics {\"StartTime\": 1634913656.7102025, \"EndTime\": 1634913656.7102196, \"Dimensions\": {\"Algorithm\": \"Linear Learner\", \"Host\": \"algo-1\", \"Operation\": \"training\", \"epoch\": 8, \"model\": 20}, \"Metrics\": {\"train_absolute_loss_objective\": {\"sum\": 0.36672580337524413, \"count\": 1, \"min\": 0.36672580337524413, \"max\": 0.36672580337524413}}}\n",
      "\u001b[0m\n",
      "\u001b[34m#metrics {\"StartTime\": 1634913656.710269, \"EndTime\": 1634913656.7102857, \"Dimensions\": {\"Algorithm\": \"Linear Learner\", \"Host\": \"algo-1\", \"Operation\": \"training\", \"epoch\": 8, \"model\": 21}, \"Metrics\": {\"train_absolute_loss_objective\": {\"sum\": 0.40688323211669924, \"count\": 1, \"min\": 0.40688323211669924, \"max\": 0.40688323211669924}}}\n",
      "\u001b[0m\n",
      "\u001b[34m#metrics {\"StartTime\": 1634913656.7103372, \"EndTime\": 1634913656.7103534, \"Dimensions\": {\"Algorithm\": \"Linear Learner\", \"Host\": \"algo-1\", \"Operation\": \"training\", \"epoch\": 8, \"model\": 22}, \"Metrics\": {\"train_absolute_loss_objective\": {\"sum\": 0.3714447021484375, \"count\": 1, \"min\": 0.3714447021484375, \"max\": 0.3714447021484375}}}\n",
      "\u001b[0m\n",
      "\u001b[34m#metrics {\"StartTime\": 1634913656.7104015, \"EndTime\": 1634913656.7104168, \"Dimensions\": {\"Algorithm\": \"Linear Learner\", \"Host\": \"algo-1\", \"Operation\": \"training\", \"epoch\": 8, \"model\": 23}, \"Metrics\": {\"train_absolute_loss_objective\": {\"sum\": 0.3793764877319336, \"count\": 1, \"min\": 0.3793764877319336, \"max\": 0.3793764877319336}}}\n",
      "\u001b[0m\n",
      "\u001b[34m#metrics {\"StartTime\": 1634913656.710467, \"EndTime\": 1634913656.7104833, \"Dimensions\": {\"Algorithm\": \"Linear Learner\", \"Host\": \"algo-1\", \"Operation\": \"training\", \"epoch\": 8, \"model\": 24}, \"Metrics\": {\"train_absolute_loss_objective\": {\"sum\": 0.6865394973754883, \"count\": 1, \"min\": 0.6865394973754883, \"max\": 0.6865394973754883}}}\n",
      "\u001b[0m\n",
      "\u001b[34m#metrics {\"StartTime\": 1634913656.7105298, \"EndTime\": 1634913656.7105443, \"Dimensions\": {\"Algorithm\": \"Linear Learner\", \"Host\": \"algo-1\", \"Operation\": \"training\", \"epoch\": 8, \"model\": 25}, \"Metrics\": {\"train_absolute_loss_objective\": {\"sum\": 0.6866369476318359, \"count\": 1, \"min\": 0.6866369476318359, \"max\": 0.6866369476318359}}}\n",
      "\u001b[0m\n",
      "\u001b[34m#metrics {\"StartTime\": 1634913656.710592, \"EndTime\": 1634913656.7106073, \"Dimensions\": {\"Algorithm\": \"Linear Learner\", \"Host\": \"algo-1\", \"Operation\": \"training\", \"epoch\": 8, \"model\": 26}, \"Metrics\": {\"train_absolute_loss_objective\": {\"sum\": 0.6867032775878906, \"count\": 1, \"min\": 0.6867032775878906, \"max\": 0.6867032775878906}}}\n",
      "\u001b[0m\n",
      "\u001b[34m#metrics {\"StartTime\": 1634913656.7106612, \"EndTime\": 1634913656.710677, \"Dimensions\": {\"Algorithm\": \"Linear Learner\", \"Host\": \"algo-1\", \"Operation\": \"training\", \"epoch\": 8, \"model\": 27}, \"Metrics\": {\"train_absolute_loss_objective\": {\"sum\": 0.6869907531738281, \"count\": 1, \"min\": 0.6869907531738281, \"max\": 0.6869907531738281}}}\n",
      "\u001b[0m\n",
      "\u001b[34m#metrics {\"StartTime\": 1634913656.7107255, \"EndTime\": 1634913656.7107399, \"Dimensions\": {\"Algorithm\": \"Linear Learner\", \"Host\": \"algo-1\", \"Operation\": \"training\", \"epoch\": 8, \"model\": 28}, \"Metrics\": {\"train_absolute_loss_objective\": {\"sum\": 0.6889287261962891, \"count\": 1, \"min\": 0.6889287261962891, \"max\": 0.6889287261962891}}}\n",
      "\u001b[0m\n",
      "\u001b[34m#metrics {\"StartTime\": 1634913656.710789, \"EndTime\": 1634913656.7108037, \"Dimensions\": {\"Algorithm\": \"Linear Learner\", \"Host\": \"algo-1\", \"Operation\": \"training\", \"epoch\": 8, \"model\": 29}, \"Metrics\": {\"train_absolute_loss_objective\": {\"sum\": 0.6885060653686523, \"count\": 1, \"min\": 0.6885060653686523, \"max\": 0.6885060653686523}}}\n",
      "\u001b[0m\n",
      "\u001b[34m#metrics {\"StartTime\": 1634913656.710854, \"EndTime\": 1634913656.71087, \"Dimensions\": {\"Algorithm\": \"Linear Learner\", \"Host\": \"algo-1\", \"Operation\": \"training\", \"epoch\": 8, \"model\": 30}, \"Metrics\": {\"train_absolute_loss_objective\": {\"sum\": 0.687464111328125, \"count\": 1, \"min\": 0.687464111328125, \"max\": 0.687464111328125}}}\n",
      "\u001b[0m\n",
      "\u001b[34m#metrics {\"StartTime\": 1634913656.710915, \"EndTime\": 1634913656.7109299, \"Dimensions\": {\"Algorithm\": \"Linear Learner\", \"Host\": \"algo-1\", \"Operation\": \"training\", \"epoch\": 8, \"model\": 31}, \"Metrics\": {\"train_absolute_loss_objective\": {\"sum\": 0.6896450881958007, \"count\": 1, \"min\": 0.6896450881958007, \"max\": 0.6896450881958007}}}\n",
      "\u001b[0m\n",
      "\u001b[34m[10/22/2021 14:40:56 INFO 139817024649024] #quality_metric: host=algo-1, epoch=8, train absolute_loss_objective <loss>=0.35157879257202146\u001b[0m\n",
      "\u001b[34m[10/22/2021 14:40:56 INFO 139817024649024] #early_stopping_criteria_metric: host=algo-1, epoch=8, criteria=absolute_loss_objective, value=0.306208366394043\u001b[0m\n",
      "\u001b[34m[10/22/2021 14:40:56 INFO 139817024649024] Saving model for epoch: 8\u001b[0m\n",
      "\u001b[34m[10/22/2021 14:40:56 INFO 139817024649024] Saved checkpoint to \"/tmp/tmpxj065wts/mx-mod-0000.params\"\u001b[0m\n",
      "\u001b[34m[10/22/2021 14:40:56 INFO 139817024649024] #progress_metric: host=algo-1, completed 9.0 % of epochs\u001b[0m\n",
      "\u001b[34m#metrics {\"StartTime\": 1634913656.478185, \"EndTime\": 1634913656.7195272, \"Dimensions\": {\"Algorithm\": \"Linear Learner\", \"Host\": \"algo-1\", \"Operation\": \"training\", \"epoch\": 8, \"Meta\": \"training_data_iter\"}, \"Metrics\": {\"Total Records Seen\": {\"sum\": 10800.0, \"count\": 1, \"min\": 10800, \"max\": 10800}, \"Total Batches Seen\": {\"sum\": 111.0, \"count\": 1, \"min\": 111, \"max\": 111}, \"Max Records Seen Between Resets\": {\"sum\": 1070.0, \"count\": 1, \"min\": 1070, \"max\": 1070}, \"Max Batches Seen Between Resets\": {\"sum\": 11.0, \"count\": 1, \"min\": 11, \"max\": 11}, \"Reset Count\": {\"sum\": 11.0, \"count\": 1, \"min\": 11, \"max\": 11}, \"Number of Records Since Last Reset\": {\"sum\": 1070.0, \"count\": 1, \"min\": 1070, \"max\": 1070}, \"Number of Batches Since Last Reset\": {\"sum\": 11.0, \"count\": 1, \"min\": 11, \"max\": 11}}}\n",
      "\u001b[0m\n",
      "\u001b[34m[10/22/2021 14:40:56 INFO 139817024649024] #throughput_metric: host=algo-1, train throughput=4431.277978710064 records/second\u001b[0m\n",
      "\u001b[34m[2021-10-22 14:40:57.003] [tensorio] [info] epoch_stats={\"data_pipeline\": \"/opt/ml/input/data/train\", \"epoch\": 22, \"duration\": 283, \"num_examples\": 11, \"num_bytes\": 81320}\u001b[0m\n",
      "\u001b[34m#metrics {\"StartTime\": 1634913657.0032775, \"EndTime\": 1634913657.003365, \"Dimensions\": {\"Algorithm\": \"Linear Learner\", \"Host\": \"algo-1\", \"Operation\": \"training\", \"epoch\": 9, \"model\": 0}, \"Metrics\": {\"train_absolute_loss_objective\": {\"sum\": 0.33479965591430666, \"count\": 1, \"min\": 0.33479965591430666, \"max\": 0.33479965591430666}}}\n",
      "\u001b[0m\n",
      "\u001b[34m#metrics {\"StartTime\": 1634913657.0034893, \"EndTime\": 1634913657.0035086, \"Dimensions\": {\"Algorithm\": \"Linear Learner\", \"Host\": \"algo-1\", \"Operation\": \"training\", \"epoch\": 9, \"model\": 1}, \"Metrics\": {\"train_absolute_loss_objective\": {\"sum\": 0.3486179084777832, \"count\": 1, \"min\": 0.3486179084777832, \"max\": 0.3486179084777832}}}\n",
      "\u001b[0m\n",
      "\u001b[34m#metrics {\"StartTime\": 1634913657.003557, \"EndTime\": 1634913657.0035708, \"Dimensions\": {\"Algorithm\": \"Linear Learner\", \"Host\": \"algo-1\", \"Operation\": \"training\", \"epoch\": 9, \"model\": 2}, \"Metrics\": {\"train_absolute_loss_objective\": {\"sum\": 0.349294620513916, \"count\": 1, \"min\": 0.349294620513916, \"max\": 0.349294620513916}}}\n",
      "\u001b[0m\n",
      "\u001b[34m#metrics {\"StartTime\": 1634913657.0036194, \"EndTime\": 1634913657.003635, \"Dimensions\": {\"Algorithm\": \"Linear Learner\", \"Host\": \"algo-1\", \"Operation\": \"training\", \"epoch\": 9, \"model\": 3}, \"Metrics\": {\"train_absolute_loss_objective\": {\"sum\": 0.32556524085998534, \"count\": 1, \"min\": 0.32556524085998534, \"max\": 0.32556524085998534}}}\n",
      "\u001b[0m\n",
      "\u001b[34m#metrics {\"StartTime\": 1634913657.0036805, \"EndTime\": 1634913657.0036967, \"Dimensions\": {\"Algorithm\": \"Linear Learner\", \"Host\": \"algo-1\", \"Operation\": \"training\", \"epoch\": 9, \"model\": 4}, \"Metrics\": {\"train_absolute_loss_objective\": {\"sum\": 0.30682433319091795, \"count\": 1, \"min\": 0.30682433319091795, \"max\": 0.30682433319091795}}}\n",
      "\u001b[0m\n",
      "\u001b[34m#metrics {\"StartTime\": 1634913657.0037463, \"EndTime\": 1634913657.0037625, \"Dimensions\": {\"Algorithm\": \"Linear Learner\", \"Host\": \"algo-1\", \"Operation\": \"training\", \"epoch\": 9, \"model\": 5}, \"Metrics\": {\"train_absolute_loss_objective\": {\"sum\": 0.3314848918914795, \"count\": 1, \"min\": 0.3314848918914795, \"max\": 0.3314848918914795}}}\n",
      "\u001b[0m\n",
      "\u001b[34m#metrics {\"StartTime\": 1634913657.003808, \"EndTime\": 1634913657.0038238, \"Dimensions\": {\"Algorithm\": \"Linear Learner\", \"Host\": \"algo-1\", \"Operation\": \"training\", \"epoch\": 9, \"model\": 6}, \"Metrics\": {\"train_absolute_loss_objective\": {\"sum\": 0.307759241104126, \"count\": 1, \"min\": 0.307759241104126, \"max\": 0.307759241104126}}}\n",
      "\u001b[0m\n",
      "\u001b[34m#metrics {\"StartTime\": 1634913657.0038712, \"EndTime\": 1634913657.0038848, \"Dimensions\": {\"Algorithm\": \"Linear Learner\", \"Host\": \"algo-1\", \"Operation\": \"training\", \"epoch\": 9, \"model\": 7}, \"Metrics\": {\"train_absolute_loss_objective\": {\"sum\": 0.3095997219085693, \"count\": 1, \"min\": 0.3095997219085693, \"max\": 0.3095997219085693}}}\n",
      "\u001b[0m\n",
      "\u001b[34m#metrics {\"StartTime\": 1634913657.0039268, \"EndTime\": 1634913657.0039415, \"Dimensions\": {\"Algorithm\": \"Linear Learner\", \"Host\": \"algo-1\", \"Operation\": \"training\", \"epoch\": 9, \"model\": 8}, \"Metrics\": {\"train_absolute_loss_objective\": {\"sum\": 0.3232465362548828, \"count\": 1, \"min\": 0.3232465362548828, \"max\": 0.3232465362548828}}}\n",
      "\u001b[0m\n",
      "\u001b[34m#metrics {\"StartTime\": 1634913657.003989, \"EndTime\": 1634913657.0040026, \"Dimensions\": {\"Algorithm\": \"Linear Learner\", \"Host\": \"algo-1\", \"Operation\": \"training\", \"epoch\": 9, \"model\": 9}, \"Metrics\": {\"train_absolute_loss_objective\": {\"sum\": 0.36015246391296385, \"count\": 1, \"min\": 0.36015246391296385, \"max\": 0.36015246391296385}}}\n",
      "\u001b[0m\n",
      "\u001b[34m#metrics {\"StartTime\": 1634913657.0040412, \"EndTime\": 1634913657.0040545, \"Dimensions\": {\"Algorithm\": \"Linear Learner\", \"Host\": \"algo-1\", \"Operation\": \"training\", \"epoch\": 9, \"model\": 10}, \"Metrics\": {\"train_absolute_loss_objective\": {\"sum\": 0.34328271484375, \"count\": 1, \"min\": 0.34328271484375, \"max\": 0.34328271484375}}}\n",
      "\u001b[0m\n",
      "\u001b[34m#metrics {\"StartTime\": 1634913657.0040994, \"EndTime\": 1634913657.0041146, \"Dimensions\": {\"Algorithm\": \"Linear Learner\", \"Host\": \"algo-1\", \"Operation\": \"training\", \"epoch\": 9, \"model\": 11}, \"Metrics\": {\"train_absolute_loss_objective\": {\"sum\": 0.32570289611816405, \"count\": 1, \"min\": 0.32570289611816405, \"max\": 0.32570289611816405}}}\n",
      "\u001b[0m\n",
      "\u001b[34m#metrics {\"StartTime\": 1634913657.0041616, \"EndTime\": 1634913657.0041769, \"Dimensions\": {\"Algorithm\": \"Linear Learner\", \"Host\": \"algo-1\", \"Operation\": \"training\", \"epoch\": 9, \"model\": 12}, \"Metrics\": {\"train_absolute_loss_objective\": {\"sum\": 0.3172416095733643, \"count\": 1, \"min\": 0.3172416095733643, \"max\": 0.3172416095733643}}}\n",
      "\u001b[0m\n",
      "\u001b[34m#metrics {\"StartTime\": 1634913657.0042233, \"EndTime\": 1634913657.004238, \"Dimensions\": {\"Algorithm\": \"Linear Learner\", \"Host\": \"algo-1\", \"Operation\": \"training\", \"epoch\": 9, \"model\": 13}, \"Metrics\": {\"train_absolute_loss_objective\": {\"sum\": 0.30844582557678224, \"count\": 1, \"min\": 0.30844582557678224, \"max\": 0.30844582557678224}}}\n",
      "\u001b[0m\n",
      "\u001b[34m#metrics {\"StartTime\": 1634913657.004286, \"EndTime\": 1634913657.0043018, \"Dimensions\": {\"Algorithm\": \"Linear Learner\", \"Host\": \"algo-1\", \"Operation\": \"training\", \"epoch\": 9, \"model\": 14}, \"Metrics\": {\"train_absolute_loss_objective\": {\"sum\": 0.3260227794647217, \"count\": 1, \"min\": 0.3260227794647217, \"max\": 0.3260227794647217}}}\n",
      "\u001b[0m\n",
      "\u001b[34m#metrics {\"StartTime\": 1634913657.0043507, \"EndTime\": 1634913657.0043669, \"Dimensions\": {\"Algorithm\": \"Linear Learner\", \"Host\": \"algo-1\", \"Operation\": \"training\", \"epoch\": 9, \"model\": 15}, \"Metrics\": {\"train_absolute_loss_objective\": {\"sum\": 0.3274843101501465, \"count\": 1, \"min\": 0.3274843101501465, \"max\": 0.3274843101501465}}}\n",
      "\u001b[0m\n",
      "\u001b[34m#metrics {\"StartTime\": 1634913657.0044155, \"EndTime\": 1634913657.004431, \"Dimensions\": {\"Algorithm\": \"Linear Learner\", \"Host\": \"algo-1\", \"Operation\": \"training\", \"epoch\": 9, \"model\": 16}, \"Metrics\": {\"train_absolute_loss_objective\": {\"sum\": 0.3922660217285156, \"count\": 1, \"min\": 0.3922660217285156, \"max\": 0.3922660217285156}}}\n",
      "\u001b[0m\n",
      "\u001b[34m#metrics {\"StartTime\": 1634913657.0044806, \"EndTime\": 1634913657.0045204, \"Dimensions\": {\"Algorithm\": \"Linear Learner\", \"Host\": \"algo-1\", \"Operation\": \"training\", \"epoch\": 9, \"model\": 17}, \"Metrics\": {\"train_absolute_loss_objective\": {\"sum\": 0.40048230743408203, \"count\": 1, \"min\": 0.40048230743408203, \"max\": 0.40048230743408203}}}\n",
      "\u001b[0m\n",
      "\u001b[34m#metrics {\"StartTime\": 1634913657.00457, \"EndTime\": 1634913657.004586, \"Dimensions\": {\"Algorithm\": \"Linear Learner\", \"Host\": \"algo-1\", \"Operation\": \"training\", \"epoch\": 9, \"model\": 18}, \"Metrics\": {\"train_absolute_loss_objective\": {\"sum\": 0.3595280818939209, \"count\": 1, \"min\": 0.3595280818939209, \"max\": 0.3595280818939209}}}\n",
      "\u001b[0m\n",
      "\u001b[34m#metrics {\"StartTime\": 1634913657.004633, \"EndTime\": 1634913657.0046477, \"Dimensions\": {\"Algorithm\": \"Linear Learner\", \"Host\": \"algo-1\", \"Operation\": \"training\", \"epoch\": 9, \"model\": 19}, \"Metrics\": {\"train_absolute_loss_objective\": {\"sum\": 0.36277707481384275, \"count\": 1, \"min\": 0.36277707481384275, \"max\": 0.36277707481384275}}}\n",
      "\u001b[0m\n",
      "\u001b[34m#metrics {\"StartTime\": 1634913657.0046947, \"EndTime\": 1634913657.004708, \"Dimensions\": {\"Algorithm\": \"Linear Learner\", \"Host\": \"algo-1\", \"Operation\": \"training\", \"epoch\": 9, \"model\": 20}, \"Metrics\": {\"train_absolute_loss_objective\": {\"sum\": 0.36208225059509275, \"count\": 1, \"min\": 0.36208225059509275, \"max\": 0.36208225059509275}}}\n",
      "\u001b[0m\n",
      "\u001b[34m#metrics {\"StartTime\": 1634913657.0047548, \"EndTime\": 1634913657.00477, \"Dimensions\": {\"Algorithm\": \"Linear Learner\", \"Host\": \"algo-1\", \"Operation\": \"training\", \"epoch\": 9, \"model\": 21}, \"Metrics\": {\"train_absolute_loss_objective\": {\"sum\": 0.3980508232116699, \"count\": 1, \"min\": 0.3980508232116699, \"max\": 0.3980508232116699}}}\n",
      "\u001b[0m\n",
      "\u001b[34m#metrics {\"StartTime\": 1634913657.004816, \"EndTime\": 1634913657.0048301, \"Dimensions\": {\"Algorithm\": \"Linear Learner\", \"Host\": \"algo-1\", \"Operation\": \"training\", \"epoch\": 9, \"model\": 22}, \"Metrics\": {\"train_absolute_loss_objective\": {\"sum\": 0.3889508819580078, \"count\": 1, \"min\": 0.3889508819580078, \"max\": 0.3889508819580078}}}\n",
      "\u001b[0m\n",
      "\u001b[34m#metrics {\"StartTime\": 1634913657.0048776, \"EndTime\": 1634913657.0048928, \"Dimensions\": {\"Algorithm\": \"Linear Learner\", \"Host\": \"algo-1\", \"Operation\": \"training\", \"epoch\": 9, \"model\": 23}, \"Metrics\": {\"train_absolute_loss_objective\": {\"sum\": 0.37791460037231445, \"count\": 1, \"min\": 0.37791460037231445, \"max\": 0.37791460037231445}}}\n",
      "\u001b[0m\n",
      "\u001b[34m#metrics {\"StartTime\": 1634913657.0049906, \"EndTime\": 1634913657.0050075, \"Dimensions\": {\"Algorithm\": \"Linear Learner\", \"Host\": \"algo-1\", \"Operation\": \"training\", \"epoch\": 9, \"model\": 24}, \"Metrics\": {\"train_absolute_loss_objective\": {\"sum\": 0.6866586112976074, \"count\": 1, \"min\": 0.6866586112976074, \"max\": 0.6866586112976074}}}\n",
      "\u001b[0m\n",
      "\u001b[34m#metrics {\"StartTime\": 1634913657.0050557, \"EndTime\": 1634913657.0050714, \"Dimensions\": {\"Algorithm\": \"Linear Learner\", \"Host\": \"algo-1\", \"Operation\": \"training\", \"epoch\": 9, \"model\": 25}, \"Metrics\": {\"train_absolute_loss_objective\": {\"sum\": 0.6865760459899902, \"count\": 1, \"min\": 0.6865760459899902, \"max\": 0.6865760459899902}}}\n",
      "\u001b[0m\n",
      "\u001b[34m#metrics {\"StartTime\": 1634913657.0051196, \"EndTime\": 1634913657.0051343, \"Dimensions\": {\"Algorithm\": \"Linear Learner\", \"Host\": \"algo-1\", \"Operation\": \"training\", \"epoch\": 9, \"model\": 26}, \"Metrics\": {\"train_absolute_loss_objective\": {\"sum\": 0.686587718963623, \"count\": 1, \"min\": 0.686587718963623, \"max\": 0.686587718963623}}}\n",
      "\u001b[0m\n",
      "\u001b[34m#metrics {\"StartTime\": 1634913657.0051901, \"EndTime\": 1634913657.0052063, \"Dimensions\": {\"Algorithm\": \"Linear Learner\", \"Host\": \"algo-1\", \"Operation\": \"training\", \"epoch\": 9, \"model\": 27}, \"Metrics\": {\"train_absolute_loss_objective\": {\"sum\": 0.6864616317749024, \"count\": 1, \"min\": 0.6864616317749024, \"max\": 0.6864616317749024}}}\n",
      "\u001b[0m\n",
      "\u001b[34m#metrics {\"StartTime\": 1634913657.0052538, \"EndTime\": 1634913657.0052686, \"Dimensions\": {\"Algorithm\": \"Linear Learner\", \"Host\": \"algo-1\", \"Operation\": \"training\", \"epoch\": 9, \"model\": 28}, \"Metrics\": {\"train_absolute_loss_objective\": {\"sum\": 0.6872657127380372, \"count\": 1, \"min\": 0.6872657127380372, \"max\": 0.6872657127380372}}}\n",
      "\u001b[0m\n",
      "\u001b[34m#metrics {\"StartTime\": 1634913657.005313, \"EndTime\": 1634913657.0053284, \"Dimensions\": {\"Algorithm\": \"Linear Learner\", \"Host\": \"algo-1\", \"Operation\": \"training\", \"epoch\": 9, \"model\": 29}, \"Metrics\": {\"train_absolute_loss_objective\": {\"sum\": 0.6886406059265137, \"count\": 1, \"min\": 0.6886406059265137, \"max\": 0.6886406059265137}}}\n",
      "\u001b[0m\n",
      "\u001b[34m#metrics {\"StartTime\": 1634913657.0053825, \"EndTime\": 1634913657.0053988, \"Dimensions\": {\"Algorithm\": \"Linear Learner\", \"Host\": \"algo-1\", \"Operation\": \"training\", \"epoch\": 9, \"model\": 30}, \"Metrics\": {\"train_absolute_loss_objective\": {\"sum\": 0.6882863311767579, \"count\": 1, \"min\": 0.6882863311767579, \"max\": 0.6882863311767579}}}\n",
      "\u001b[0m\n",
      "\u001b[34m#metrics {\"StartTime\": 1634913657.0054471, \"EndTime\": 1634913657.005463, \"Dimensions\": {\"Algorithm\": \"Linear Learner\", \"Host\": \"algo-1\", \"Operation\": \"training\", \"epoch\": 9, \"model\": 31}, \"Metrics\": {\"train_absolute_loss_objective\": {\"sum\": 0.687664379119873, \"count\": 1, \"min\": 0.687664379119873, \"max\": 0.687664379119873}}}\n",
      "\u001b[0m\n",
      "\u001b[34m[10/22/2021 14:40:57 INFO 139817024649024] #quality_metric: host=algo-1, epoch=9, train absolute_loss_objective <loss>=0.33479965591430666\u001b[0m\n",
      "\u001b[34m[10/22/2021 14:40:57 INFO 139817024649024] #early_stopping_criteria_metric: host=algo-1, epoch=9, criteria=absolute_loss_objective, value=0.30682433319091795\u001b[0m\n",
      "\u001b[34m[10/22/2021 14:40:57 INFO 139817024649024] Saving model for epoch: 9\u001b[0m\n",
      "\u001b[34m[10/22/2021 14:40:57 INFO 139817024649024] Saved checkpoint to \"/tmp/tmpiag1lwgd/mx-mod-0000.params\"\u001b[0m\n",
      "\u001b[34m[10/22/2021 14:40:57 INFO 139817024649024] #progress_metric: host=algo-1, completed 10.0 % of epochs\u001b[0m\n",
      "\u001b[34m#metrics {\"StartTime\": 1634913656.7197866, \"EndTime\": 1634913657.0175438, \"Dimensions\": {\"Algorithm\": \"Linear Learner\", \"Host\": \"algo-1\", \"Operation\": \"training\", \"epoch\": 9, \"Meta\": \"training_data_iter\"}, \"Metrics\": {\"Total Records Seen\": {\"sum\": 11870.0, \"count\": 1, \"min\": 11870, \"max\": 11870}, \"Total Batches Seen\": {\"sum\": 122.0, \"count\": 1, \"min\": 122, \"max\": 122}, \"Max Records Seen Between Resets\": {\"sum\": 1070.0, \"count\": 1, \"min\": 1070, \"max\": 1070}, \"Max Batches Seen Between Resets\": {\"sum\": 11.0, \"count\": 1, \"min\": 11, \"max\": 11}, \"Reset Count\": {\"sum\": 12.0, \"count\": 1, \"min\": 12, \"max\": 12}, \"Number of Records Since Last Reset\": {\"sum\": 1070.0, \"count\": 1, \"min\": 1070, \"max\": 1070}, \"Number of Batches Since Last Reset\": {\"sum\": 11.0, \"count\": 1, \"min\": 11, \"max\": 11}}}\n",
      "\u001b[0m\n",
      "\u001b[34m[10/22/2021 14:40:57 INFO 139817024649024] #throughput_metric: host=algo-1, train throughput=3591.898912483233 records/second\u001b[0m\n",
      "\u001b[34m[2021-10-22 14:40:57.234] [tensorio] [info] epoch_stats={\"data_pipeline\": \"/opt/ml/input/data/train\", \"epoch\": 24, \"duration\": 216, \"num_examples\": 11, \"num_bytes\": 81320}\u001b[0m\n",
      "\u001b[34m#metrics {\"StartTime\": 1634913657.2346408, \"EndTime\": 1634913657.23471, \"Dimensions\": {\"Algorithm\": \"Linear Learner\", \"Host\": \"algo-1\", \"Operation\": \"training\", \"epoch\": 10, \"model\": 0}, \"Metrics\": {\"train_absolute_loss_objective\": {\"sum\": 0.324352575302124, \"count\": 1, \"min\": 0.324352575302124, \"max\": 0.324352575302124}}}\n",
      "\u001b[0m\n",
      "\u001b[34m#metrics {\"StartTime\": 1634913657.2347865, \"EndTime\": 1634913657.2347999, \"Dimensions\": {\"Algorithm\": \"Linear Learner\", \"Host\": \"algo-1\", \"Operation\": \"training\", \"epoch\": 10, \"model\": 1}, \"Metrics\": {\"train_absolute_loss_objective\": {\"sum\": 0.3324015731811523, \"count\": 1, \"min\": 0.3324015731811523, \"max\": 0.3324015731811523}}}\n",
      "\u001b[0m\n",
      "\u001b[34m#metrics {\"StartTime\": 1634913657.2348433, \"EndTime\": 1634913657.2348573, \"Dimensions\": {\"Algorithm\": \"Linear Learner\", \"Host\": \"algo-1\", \"Operation\": \"training\", \"epoch\": 10, \"model\": 2}, \"Metrics\": {\"train_absolute_loss_objective\": {\"sum\": 0.33387867546081546, \"count\": 1, \"min\": 0.33387867546081546, \"max\": 0.33387867546081546}}}\n",
      "\u001b[0m\n",
      "\u001b[34m#metrics {\"StartTime\": 1634913657.2349043, \"EndTime\": 1634913657.2349207, \"Dimensions\": {\"Algorithm\": \"Linear Learner\", \"Host\": \"algo-1\", \"Operation\": \"training\", \"epoch\": 10, \"model\": 3}, \"Metrics\": {\"train_absolute_loss_objective\": {\"sum\": 0.3184930019378662, \"count\": 1, \"min\": 0.3184930019378662, \"max\": 0.3184930019378662}}}\n",
      "\u001b[0m\n",
      "\u001b[34m#metrics {\"StartTime\": 1634913657.2349696, \"EndTime\": 1634913657.2349844, \"Dimensions\": {\"Algorithm\": \"Linear Learner\", \"Host\": \"algo-1\", \"Operation\": \"training\", \"epoch\": 10, \"model\": 4}, \"Metrics\": {\"train_absolute_loss_objective\": {\"sum\": 0.30684800529479983, \"count\": 1, \"min\": 0.30684800529479983, \"max\": 0.30684800529479983}}}\n",
      "\u001b[0m\n",
      "\u001b[34m#metrics {\"StartTime\": 1634913657.2350428, \"EndTime\": 1634913657.2350593, \"Dimensions\": {\"Algorithm\": \"Linear Learner\", \"Host\": \"algo-1\", \"Operation\": \"training\", \"epoch\": 10, \"model\": 5}, \"Metrics\": {\"train_absolute_loss_objective\": {\"sum\": 0.3213672199249268, \"count\": 1, \"min\": 0.3213672199249268, \"max\": 0.3213672199249268}}}\n",
      "\u001b[0m\n",
      "\u001b[34m#metrics {\"StartTime\": 1634913657.2351189, \"EndTime\": 1634913657.2351353, \"Dimensions\": {\"Algorithm\": \"Linear Learner\", \"Host\": \"algo-1\", \"Operation\": \"training\", \"epoch\": 10, \"model\": 6}, \"Metrics\": {\"train_absolute_loss_objective\": {\"sum\": 0.30552274703979493, \"count\": 1, \"min\": 0.30552274703979493, \"max\": 0.30552274703979493}}}\n",
      "\u001b[0m\n",
      "\u001b[34m#metrics {\"StartTime\": 1634913657.2351935, \"EndTime\": 1634913657.2352095, \"Dimensions\": {\"Algorithm\": \"Linear Learner\", \"Host\": \"algo-1\", \"Operation\": \"training\", \"epoch\": 10, \"model\": 7}, \"Metrics\": {\"train_absolute_loss_objective\": {\"sum\": 0.3067617778778076, \"count\": 1, \"min\": 0.3067617778778076, \"max\": 0.3067617778778076}}}\n",
      "\u001b[0m\n",
      "\u001b[34m#metrics {\"StartTime\": 1634913657.2352602, \"EndTime\": 1634913657.235275, \"Dimensions\": {\"Algorithm\": \"Linear Learner\", \"Host\": \"algo-1\", \"Operation\": \"training\", \"epoch\": 10, \"model\": 8}, \"Metrics\": {\"train_absolute_loss_objective\": {\"sum\": 0.317356840133667, \"count\": 1, \"min\": 0.317356840133667, \"max\": 0.317356840133667}}}\n",
      "\u001b[0m\n",
      "\u001b[34m#metrics {\"StartTime\": 1634913657.2353313, \"EndTime\": 1634913657.2353475, \"Dimensions\": {\"Algorithm\": \"Linear Learner\", \"Host\": \"algo-1\", \"Operation\": \"training\", \"epoch\": 10, \"model\": 9}, \"Metrics\": {\"train_absolute_loss_objective\": {\"sum\": 0.3408808784484863, \"count\": 1, \"min\": 0.3408808784484863, \"max\": 0.3408808784484863}}}\n",
      "\u001b[0m\n",
      "\u001b[34m#metrics {\"StartTime\": 1634913657.235406, \"EndTime\": 1634913657.235422, \"Dimensions\": {\"Algorithm\": \"Linear Learner\", \"Host\": \"algo-1\", \"Operation\": \"training\", \"epoch\": 10, \"model\": 10}, \"Metrics\": {\"train_absolute_loss_objective\": {\"sum\": 0.3299837112426758, \"count\": 1, \"min\": 0.3299837112426758, \"max\": 0.3299837112426758}}}\n",
      "\u001b[0m\n",
      "\u001b[34m#metrics {\"StartTime\": 1634913657.2354808, \"EndTime\": 1634913657.2354972, \"Dimensions\": {\"Algorithm\": \"Linear Learner\", \"Host\": \"algo-1\", \"Operation\": \"training\", \"epoch\": 10, \"model\": 11}, \"Metrics\": {\"train_absolute_loss_objective\": {\"sum\": 0.3188853492736816, \"count\": 1, \"min\": 0.3188853492736816, \"max\": 0.3188853492736816}}}\n",
      "\u001b[0m\n",
      "\u001b[34m#metrics {\"StartTime\": 1634913657.2355566, \"EndTime\": 1634913657.235575, \"Dimensions\": {\"Algorithm\": \"Linear Learner\", \"Host\": \"algo-1\", \"Operation\": \"training\", \"epoch\": 10, \"model\": 12}, \"Metrics\": {\"train_absolute_loss_objective\": {\"sum\": 0.30437981414794923, \"count\": 1, \"min\": 0.30437981414794923, \"max\": 0.30437981414794923}}}\n",
      "\u001b[0m\n",
      "\u001b[34m#metrics {\"StartTime\": 1634913657.2356215, \"EndTime\": 1634913657.235635, \"Dimensions\": {\"Algorithm\": \"Linear Learner\", \"Host\": \"algo-1\", \"Operation\": \"training\", \"epoch\": 10, \"model\": 13}, \"Metrics\": {\"train_absolute_loss_objective\": {\"sum\": 0.30812886238098147, \"count\": 1, \"min\": 0.30812886238098147, \"max\": 0.30812886238098147}}}\n",
      "\u001b[0m\n",
      "\u001b[34m#metrics {\"StartTime\": 1634913657.2356875, \"EndTime\": 1634913657.2357028, \"Dimensions\": {\"Algorithm\": \"Linear Learner\", \"Host\": \"algo-1\", \"Operation\": \"training\", \"epoch\": 10, \"model\": 14}, \"Metrics\": {\"train_absolute_loss_objective\": {\"sum\": 0.3167039985656738, \"count\": 1, \"min\": 0.3167039985656738, \"max\": 0.3167039985656738}}}\n",
      "\u001b[0m\n",
      "\u001b[34m#metrics {\"StartTime\": 1634913657.2357533, \"EndTime\": 1634913657.2357688, \"Dimensions\": {\"Algorithm\": \"Linear Learner\", \"Host\": \"algo-1\", \"Operation\": \"training\", \"epoch\": 10, \"model\": 15}, \"Metrics\": {\"train_absolute_loss_objective\": {\"sum\": 0.32729898071289065, \"count\": 1, \"min\": 0.32729898071289065, \"max\": 0.32729898071289065}}}\n",
      "\u001b[0m\n",
      "\u001b[34m#metrics {\"StartTime\": 1634913657.235811, \"EndTime\": 1634913657.235826, \"Dimensions\": {\"Algorithm\": \"Linear Learner\", \"Host\": \"algo-1\", \"Operation\": \"training\", \"epoch\": 10, \"model\": 16}, \"Metrics\": {\"train_absolute_loss_objective\": {\"sum\": 0.3804140968322754, \"count\": 1, \"min\": 0.3804140968322754, \"max\": 0.3804140968322754}}}\n",
      "\u001b[0m\n",
      "\u001b[34m#metrics {\"StartTime\": 1634913657.235878, \"EndTime\": 1634913657.2358882, \"Dimensions\": {\"Algorithm\": \"Linear Learner\", \"Host\": \"algo-1\", \"Operation\": \"training\", \"epoch\": 10, \"model\": 17}, \"Metrics\": {\"train_absolute_loss_objective\": {\"sum\": 0.38683663940429686, \"count\": 1, \"min\": 0.38683663940429686, \"max\": 0.38683663940429686}}}\n",
      "\u001b[0m\n",
      "\u001b[34m#metrics {\"StartTime\": 1634913657.2359393, \"EndTime\": 1634913657.2359557, \"Dimensions\": {\"Algorithm\": \"Linear Learner\", \"Host\": \"algo-1\", \"Operation\": \"training\", \"epoch\": 10, \"model\": 18}, \"Metrics\": {\"train_absolute_loss_objective\": {\"sum\": 0.3541964797973633, \"count\": 1, \"min\": 0.3541964797973633, \"max\": 0.3541964797973633}}}\n",
      "\u001b[0m\n",
      "\u001b[34m#metrics {\"StartTime\": 1634913657.2360113, \"EndTime\": 1634913657.2360265, \"Dimensions\": {\"Algorithm\": \"Linear Learner\", \"Host\": \"algo-1\", \"Operation\": \"training\", \"epoch\": 10, \"model\": 19}, \"Metrics\": {\"train_absolute_loss_objective\": {\"sum\": 0.3563004264831543, \"count\": 1, \"min\": 0.3563004264831543, \"max\": 0.3563004264831543}}}\n",
      "\u001b[0m\n",
      "\u001b[34m#metrics {\"StartTime\": 1634913657.236075, \"EndTime\": 1634913657.2360897, \"Dimensions\": {\"Algorithm\": \"Linear Learner\", \"Host\": \"algo-1\", \"Operation\": \"training\", \"epoch\": 10, \"model\": 20}, \"Metrics\": {\"train_absolute_loss_objective\": {\"sum\": 0.3600649948120117, \"count\": 1, \"min\": 0.3600649948120117, \"max\": 0.3600649948120117}}}\n",
      "\u001b[0m\n",
      "\u001b[34m#metrics {\"StartTime\": 1634913657.2361448, \"EndTime\": 1634913657.2361605, \"Dimensions\": {\"Algorithm\": \"Linear Learner\", \"Host\": \"algo-1\", \"Operation\": \"training\", \"epoch\": 10, \"model\": 21}, \"Metrics\": {\"train_absolute_loss_objective\": {\"sum\": 0.3675130615234375, \"count\": 1, \"min\": 0.3675130615234375, \"max\": 0.3675130615234375}}}\n",
      "\u001b[0m\n",
      "\u001b[34m#metrics {\"StartTime\": 1634913657.2362106, \"EndTime\": 1634913657.2362254, \"Dimensions\": {\"Algorithm\": \"Linear Learner\", \"Host\": \"algo-1\", \"Operation\": \"training\", \"epoch\": 10, \"model\": 22}, \"Metrics\": {\"train_absolute_loss_objective\": {\"sum\": 0.38927101516723633, \"count\": 1, \"min\": 0.38927101516723633, \"max\": 0.38927101516723633}}}\n",
      "\u001b[0m\n",
      "\u001b[34m#metrics {\"StartTime\": 1634913657.2362673, \"EndTime\": 1634913657.236278, \"Dimensions\": {\"Algorithm\": \"Linear Learner\", \"Host\": \"algo-1\", \"Operation\": \"training\", \"epoch\": 10, \"model\": 23}, \"Metrics\": {\"train_absolute_loss_objective\": {\"sum\": 0.365999267578125, \"count\": 1, \"min\": 0.365999267578125, \"max\": 0.365999267578125}}}\n",
      "\u001b[0m\n",
      "\u001b[34m#metrics {\"StartTime\": 1634913657.2363296, \"EndTime\": 1634913657.236345, \"Dimensions\": {\"Algorithm\": \"Linear Learner\", \"Host\": \"algo-1\", \"Operation\": \"training\", \"epoch\": 10, \"model\": 24}, \"Metrics\": {\"train_absolute_loss_objective\": {\"sum\": 0.6867741088867187, \"count\": 1, \"min\": 0.6867741088867187, \"max\": 0.6867741088867187}}}\n",
      "\u001b[0m\n",
      "\u001b[34m#metrics {\"StartTime\": 1634913657.236393, \"EndTime\": 1634913657.2364082, \"Dimensions\": {\"Algorithm\": \"Linear Learner\", \"Host\": \"algo-1\", \"Operation\": \"training\", \"epoch\": 10, \"model\": 25}, \"Metrics\": {\"train_absolute_loss_objective\": {\"sum\": 0.6869044990539551, \"count\": 1, \"min\": 0.6869044990539551, \"max\": 0.6869044990539551}}}\n",
      "\u001b[0m\n",
      "\u001b[34m#metrics {\"StartTime\": 1634913657.2364564, \"EndTime\": 1634913657.236468, \"Dimensions\": {\"Algorithm\": \"Linear Learner\", \"Host\": \"algo-1\", \"Operation\": \"training\", \"epoch\": 10, \"model\": 26}, \"Metrics\": {\"train_absolute_loss_objective\": {\"sum\": 0.68676615524292, \"count\": 1, \"min\": 0.68676615524292, \"max\": 0.68676615524292}}}\n",
      "\u001b[0m\n",
      "\u001b[34m#metrics {\"StartTime\": 1634913657.2365294, \"EndTime\": 1634913657.2365456, \"Dimensions\": {\"Algorithm\": \"Linear Learner\", \"Host\": \"algo-1\", \"Operation\": \"training\", \"epoch\": 10, \"model\": 27}, \"Metrics\": {\"train_absolute_loss_objective\": {\"sum\": 0.6868033409118652, \"count\": 1, \"min\": 0.6868033409118652, \"max\": 0.6868033409118652}}}\n",
      "\u001b[0m\n",
      "\u001b[34m#metrics {\"StartTime\": 1634913657.2365882, \"EndTime\": 1634913657.2366035, \"Dimensions\": {\"Algorithm\": \"Linear Learner\", \"Host\": \"algo-1\", \"Operation\": \"training\", \"epoch\": 10, \"model\": 28}, \"Metrics\": {\"train_absolute_loss_objective\": {\"sum\": 0.6883261032104492, \"count\": 1, \"min\": 0.6883261032104492, \"max\": 0.6883261032104492}}}\n",
      "\u001b[0m\n",
      "\u001b[34m#metrics {\"StartTime\": 1634913657.23665, \"EndTime\": 1634913657.2366643, \"Dimensions\": {\"Algorithm\": \"Linear Learner\", \"Host\": \"algo-1\", \"Operation\": \"training\", \"epoch\": 10, \"model\": 29}, \"Metrics\": {\"train_absolute_loss_objective\": {\"sum\": 0.6883888130187988, \"count\": 1, \"min\": 0.6883888130187988, \"max\": 0.6883888130187988}}}\n",
      "\u001b[0m\n",
      "\u001b[34m#metrics {\"StartTime\": 1634913657.2367098, \"EndTime\": 1634913657.2367249, \"Dimensions\": {\"Algorithm\": \"Linear Learner\", \"Host\": \"algo-1\", \"Operation\": \"training\", \"epoch\": 10, \"model\": 30}, \"Metrics\": {\"train_absolute_loss_objective\": {\"sum\": 0.6880872383117675, \"count\": 1, \"min\": 0.6880872383117675, \"max\": 0.6880872383117675}}}\n",
      "\u001b[0m\n",
      "\u001b[34m#metrics {\"StartTime\": 1634913657.236774, \"EndTime\": 1634913657.2367892, \"Dimensions\": {\"Algorithm\": \"Linear Learner\", \"Host\": \"algo-1\", \"Operation\": \"training\", \"epoch\": 10, \"model\": 31}, \"Metrics\": {\"train_absolute_loss_objective\": {\"sum\": 0.6878696594238282, \"count\": 1, \"min\": 0.6878696594238282, \"max\": 0.6878696594238282}}}\n",
      "\u001b[0m\n",
      "\u001b[34m[10/22/2021 14:40:57 INFO 139817024649024] #quality_metric: host=algo-1, epoch=10, train absolute_loss_objective <loss>=0.324352575302124\u001b[0m\n",
      "\u001b[34m[10/22/2021 14:40:57 INFO 139817024649024] #early_stopping_criteria_metric: host=algo-1, epoch=10, criteria=absolute_loss_objective, value=0.30437981414794923\u001b[0m\n",
      "\u001b[34m[10/22/2021 14:40:57 INFO 139817024649024] Saving model for epoch: 10\u001b[0m\n",
      "\u001b[34m[10/22/2021 14:40:57 INFO 139817024649024] Saved checkpoint to \"/tmp/tmpj38s92sz/mx-mod-0000.params\"\u001b[0m\n",
      "\u001b[34m[10/22/2021 14:40:57 INFO 139817024649024] #progress_metric: host=algo-1, completed 11.0 % of epochs\u001b[0m\n",
      "\u001b[34m#metrics {\"StartTime\": 1634913657.0178204, \"EndTime\": 1634913657.2453299, \"Dimensions\": {\"Algorithm\": \"Linear Learner\", \"Host\": \"algo-1\", \"Operation\": \"training\", \"epoch\": 10, \"Meta\": \"training_data_iter\"}, \"Metrics\": {\"Total Records Seen\": {\"sum\": 12940.0, \"count\": 1, \"min\": 12940, \"max\": 12940}, \"Total Batches Seen\": {\"sum\": 133.0, \"count\": 1, \"min\": 133, \"max\": 133}, \"Max Records Seen Between Resets\": {\"sum\": 1070.0, \"count\": 1, \"min\": 1070, \"max\": 1070}, \"Max Batches Seen Between Resets\": {\"sum\": 11.0, \"count\": 1, \"min\": 11, \"max\": 11}, \"Reset Count\": {\"sum\": 13.0, \"count\": 1, \"min\": 13, \"max\": 13}, \"Number of Records Since Last Reset\": {\"sum\": 1070.0, \"count\": 1, \"min\": 1070, \"max\": 1070}, \"Number of Batches Since Last Reset\": {\"sum\": 11.0, \"count\": 1, \"min\": 11, \"max\": 11}}}\n",
      "\u001b[0m\n",
      "\u001b[34m[10/22/2021 14:40:57 INFO 139817024649024] #throughput_metric: host=algo-1, train throughput=4700.268092696103 records/second\u001b[0m\n",
      "\u001b[34m[2021-10-22 14:40:57.455] [tensorio] [info] epoch_stats={\"data_pipeline\": \"/opt/ml/input/data/train\", \"epoch\": 26, \"duration\": 209, \"num_examples\": 11, \"num_bytes\": 81320}\u001b[0m\n",
      "\u001b[34m#metrics {\"StartTime\": 1634913657.455315, \"EndTime\": 1634913657.4553707, \"Dimensions\": {\"Algorithm\": \"Linear Learner\", \"Host\": \"algo-1\", \"Operation\": \"training\", \"epoch\": 11, \"model\": 0}, \"Metrics\": {\"train_absolute_loss_objective\": {\"sum\": 0.3183027744293213, \"count\": 1, \"min\": 0.3183027744293213, \"max\": 0.3183027744293213}}}\n",
      "\u001b[0m\n",
      "\u001b[34m#metrics {\"StartTime\": 1634913657.455432, \"EndTime\": 1634913657.455443, \"Dimensions\": {\"Algorithm\": \"Linear Learner\", \"Host\": \"algo-1\", \"Operation\": \"training\", \"epoch\": 11, \"model\": 1}, \"Metrics\": {\"train_absolute_loss_objective\": {\"sum\": 0.32247420501708984, \"count\": 1, \"min\": 0.32247420501708984, \"max\": 0.32247420501708984}}}\n",
      "\u001b[0m\n",
      "\u001b[34m#metrics {\"StartTime\": 1634913657.4554715, \"EndTime\": 1634913657.4554796, \"Dimensions\": {\"Algorithm\": \"Linear Learner\", \"Host\": \"algo-1\", \"Operation\": \"training\", \"epoch\": 11, \"model\": 2}, \"Metrics\": {\"train_absolute_loss_objective\": {\"sum\": 0.32412048721313474, \"count\": 1, \"min\": 0.32412048721313474, \"max\": 0.32412048721313474}}}\n",
      "\u001b[0m\n",
      "\u001b[34m#metrics {\"StartTime\": 1634913657.4555087, \"EndTime\": 1634913657.4555213, \"Dimensions\": {\"Algorithm\": \"Linear Learner\", \"Host\": \"algo-1\", \"Operation\": \"training\", \"epoch\": 11, \"model\": 3}, \"Metrics\": {\"train_absolute_loss_objective\": {\"sum\": 0.31459516525268555, \"count\": 1, \"min\": 0.31459516525268555, \"max\": 0.31459516525268555}}}\n",
      "\u001b[0m\n",
      "\u001b[34m#metrics {\"StartTime\": 1634913657.4555604, \"EndTime\": 1634913657.4555736, \"Dimensions\": {\"Algorithm\": \"Linear Learner\", \"Host\": \"algo-1\", \"Operation\": \"training\", \"epoch\": 11, \"model\": 4}, \"Metrics\": {\"train_absolute_loss_objective\": {\"sum\": 0.3053765468597412, \"count\": 1, \"min\": 0.3053765468597412, \"max\": 0.3053765468597412}}}\n",
      "\u001b[0m\n",
      "\u001b[34m#metrics {\"StartTime\": 1634913657.455613, \"EndTime\": 1634913657.4556258, \"Dimensions\": {\"Algorithm\": \"Linear Learner\", \"Host\": \"algo-1\", \"Operation\": \"training\", \"epoch\": 11, \"model\": 5}, \"Metrics\": {\"train_absolute_loss_objective\": {\"sum\": 0.3291696281433105, \"count\": 1, \"min\": 0.3291696281433105, \"max\": 0.3291696281433105}}}\n",
      "\u001b[0m\n",
      "\u001b[34m#metrics {\"StartTime\": 1634913657.4556644, \"EndTime\": 1634913657.455678, \"Dimensions\": {\"Algorithm\": \"Linear Learner\", \"Host\": \"algo-1\", \"Operation\": \"training\", \"epoch\": 11, \"model\": 6}, \"Metrics\": {\"train_absolute_loss_objective\": {\"sum\": 0.31009745025634766, \"count\": 1, \"min\": 0.31009745025634766, \"max\": 0.31009745025634766}}}\n",
      "\u001b[0m\n",
      "\u001b[34m#metrics {\"StartTime\": 1634913657.455723, \"EndTime\": 1634913657.4557366, \"Dimensions\": {\"Algorithm\": \"Linear Learner\", \"Host\": \"algo-1\", \"Operation\": \"training\", \"epoch\": 11, \"model\": 7}, \"Metrics\": {\"train_absolute_loss_objective\": {\"sum\": 0.3144331874847412, \"count\": 1, \"min\": 0.3144331874847412, \"max\": 0.3144331874847412}}}\n",
      "\u001b[0m\n",
      "\u001b[34m#metrics {\"StartTime\": 1634913657.4557855, \"EndTime\": 1634913657.4557996, \"Dimensions\": {\"Algorithm\": \"Linear Learner\", \"Host\": \"algo-1\", \"Operation\": \"training\", \"epoch\": 11, \"model\": 8}, \"Metrics\": {\"train_absolute_loss_objective\": {\"sum\": 0.31443276977539064, \"count\": 1, \"min\": 0.31443276977539064, \"max\": 0.31443276977539064}}}\n",
      "\u001b[0m\n",
      "\u001b[34m#metrics {\"StartTime\": 1634913657.4558458, \"EndTime\": 1634913657.4558609, \"Dimensions\": {\"Algorithm\": \"Linear Learner\", \"Host\": \"algo-1\", \"Operation\": \"training\", \"epoch\": 11, \"model\": 9}, \"Metrics\": {\"train_absolute_loss_objective\": {\"sum\": 0.32707254028320315, \"count\": 1, \"min\": 0.32707254028320315, \"max\": 0.32707254028320315}}}\n",
      "\u001b[0m\n",
      "\u001b[34m#metrics {\"StartTime\": 1634913657.4559076, \"EndTime\": 1634913657.4559221, \"Dimensions\": {\"Algorithm\": \"Linear Learner\", \"Host\": \"algo-1\", \"Operation\": \"training\", \"epoch\": 11, \"model\": 10}, \"Metrics\": {\"train_absolute_loss_objective\": {\"sum\": 0.32208958053588865, \"count\": 1, \"min\": 0.32208958053588865, \"max\": 0.32208958053588865}}}\n",
      "\u001b[0m\n",
      "\u001b[34m#metrics {\"StartTime\": 1634913657.455969, \"EndTime\": 1634913657.455985, \"Dimensions\": {\"Algorithm\": \"Linear Learner\", \"Host\": \"algo-1\", \"Operation\": \"training\", \"epoch\": 11, \"model\": 11}, \"Metrics\": {\"train_absolute_loss_objective\": {\"sum\": 0.31580166625976563, \"count\": 1, \"min\": 0.31580166625976563, \"max\": 0.31580166625976563}}}\n",
      "\u001b[0m\n",
      "\u001b[34m#metrics {\"StartTime\": 1634913657.456033, \"EndTime\": 1634913657.456047, \"Dimensions\": {\"Algorithm\": \"Linear Learner\", \"Host\": \"algo-1\", \"Operation\": \"training\", \"epoch\": 11, \"model\": 12}, \"Metrics\": {\"train_absolute_loss_objective\": {\"sum\": 0.30871412086486816, \"count\": 1, \"min\": 0.30871412086486816, \"max\": 0.30871412086486816}}}\n",
      "\u001b[0m\n",
      "\u001b[34m#metrics {\"StartTime\": 1634913657.4560905, \"EndTime\": 1634913657.4561043, \"Dimensions\": {\"Algorithm\": \"Linear Learner\", \"Host\": \"algo-1\", \"Operation\": \"training\", \"epoch\": 11, \"model\": 13}, \"Metrics\": {\"train_absolute_loss_objective\": {\"sum\": 0.3076458339691162, \"count\": 1, \"min\": 0.3076458339691162, \"max\": 0.3076458339691162}}}\n",
      "\u001b[0m\n",
      "\u001b[34m#metrics {\"StartTime\": 1634913657.4561498, \"EndTime\": 1634913657.4561648, \"Dimensions\": {\"Algorithm\": \"Linear Learner\", \"Host\": \"algo-1\", \"Operation\": \"training\", \"epoch\": 11, \"model\": 14}, \"Metrics\": {\"train_absolute_loss_objective\": {\"sum\": 0.31157214546203615, \"count\": 1, \"min\": 0.31157214546203615, \"max\": 0.31157214546203615}}}\n",
      "\u001b[0m\n",
      "\u001b[34m#metrics {\"StartTime\": 1634913657.456212, \"EndTime\": 1634913657.4562278, \"Dimensions\": {\"Algorithm\": \"Linear Learner\", \"Host\": \"algo-1\", \"Operation\": \"training\", \"epoch\": 11, \"model\": 15}, \"Metrics\": {\"train_absolute_loss_objective\": {\"sum\": 0.3206191463470459, \"count\": 1, \"min\": 0.3206191463470459, \"max\": 0.3206191463470459}}}\n",
      "\u001b[0m\n",
      "\u001b[34m#metrics {\"StartTime\": 1634913657.4562757, \"EndTime\": 1634913657.456291, \"Dimensions\": {\"Algorithm\": \"Linear Learner\", \"Host\": \"algo-1\", \"Operation\": \"training\", \"epoch\": 11, \"model\": 16}, \"Metrics\": {\"train_absolute_loss_objective\": {\"sum\": 0.36969471740722654, \"count\": 1, \"min\": 0.36969471740722654, \"max\": 0.36969471740722654}}}\n",
      "\u001b[0m\n",
      "\u001b[34m#metrics {\"StartTime\": 1634913657.4563391, \"EndTime\": 1634913657.4563549, \"Dimensions\": {\"Algorithm\": \"Linear Learner\", \"Host\": \"algo-1\", \"Operation\": \"training\", \"epoch\": 11, \"model\": 17}, \"Metrics\": {\"train_absolute_loss_objective\": {\"sum\": 0.3747433433532715, \"count\": 1, \"min\": 0.3747433433532715, \"max\": 0.3747433433532715}}}\n",
      "\u001b[0m\n",
      "\u001b[34m#metrics {\"StartTime\": 1634913657.456404, \"EndTime\": 1634913657.4564188, \"Dimensions\": {\"Algorithm\": \"Linear Learner\", \"Host\": \"algo-1\", \"Operation\": \"training\", \"epoch\": 11, \"model\": 18}, \"Metrics\": {\"train_absolute_loss_objective\": {\"sum\": 0.35026237869262694, \"count\": 1, \"min\": 0.35026237869262694, \"max\": 0.35026237869262694}}}\n",
      "\u001b[0m\n",
      "\u001b[34m#metrics {\"StartTime\": 1634913657.4564662, \"EndTime\": 1634913657.4564815, \"Dimensions\": {\"Algorithm\": \"Linear Learner\", \"Host\": \"algo-1\", \"Operation\": \"training\", \"epoch\": 11, \"model\": 19}, \"Metrics\": {\"train_absolute_loss_objective\": {\"sum\": 0.35130974197387693, \"count\": 1, \"min\": 0.35130974197387693, \"max\": 0.35130974197387693}}}\n",
      "\u001b[0m\n",
      "\u001b[34m#metrics {\"StartTime\": 1634913657.456554, \"EndTime\": 1634913657.4565704, \"Dimensions\": {\"Algorithm\": \"Linear Learner\", \"Host\": \"algo-1\", \"Operation\": \"training\", \"epoch\": 11, \"model\": 20}, \"Metrics\": {\"train_absolute_loss_objective\": {\"sum\": 0.36589660263061524, \"count\": 1, \"min\": 0.36589660263061524, \"max\": 0.36589660263061524}}}\n",
      "\u001b[0m\n",
      "\u001b[34m#metrics {\"StartTime\": 1634913657.45662, \"EndTime\": 1634913657.4566357, \"Dimensions\": {\"Algorithm\": \"Linear Learner\", \"Host\": \"algo-1\", \"Operation\": \"training\", \"epoch\": 11, \"model\": 21}, \"Metrics\": {\"train_absolute_loss_objective\": {\"sum\": 0.3785644760131836, \"count\": 1, \"min\": 0.3785644760131836, \"max\": 0.3785644760131836}}}\n",
      "\u001b[0m\n",
      "\u001b[34m#metrics {\"StartTime\": 1634913657.4566844, \"EndTime\": 1634913657.4567, \"Dimensions\": {\"Algorithm\": \"Linear Learner\", \"Host\": \"algo-1\", \"Operation\": \"training\", \"epoch\": 11, \"model\": 22}, \"Metrics\": {\"train_absolute_loss_objective\": {\"sum\": 0.40007533264160156, \"count\": 1, \"min\": 0.40007533264160156, \"max\": 0.40007533264160156}}}\n",
      "\u001b[0m\n",
      "\u001b[34m#metrics {\"StartTime\": 1634913657.4567475, \"EndTime\": 1634913657.4567578, \"Dimensions\": {\"Algorithm\": \"Linear Learner\", \"Host\": \"algo-1\", \"Operation\": \"training\", \"epoch\": 11, \"model\": 23}, \"Metrics\": {\"train_absolute_loss_objective\": {\"sum\": 0.3793198699951172, \"count\": 1, \"min\": 0.3793198699951172, \"max\": 0.3793198699951172}}}\n",
      "\u001b[0m\n",
      "\u001b[34m#metrics {\"StartTime\": 1634913657.4567955, \"EndTime\": 1634913657.45681, \"Dimensions\": {\"Algorithm\": \"Linear Learner\", \"Host\": \"algo-1\", \"Operation\": \"training\", \"epoch\": 11, \"model\": 24}, \"Metrics\": {\"train_absolute_loss_objective\": {\"sum\": 0.6865592346191406, \"count\": 1, \"min\": 0.6865592346191406, \"max\": 0.6865592346191406}}}\n",
      "\u001b[0m\n",
      "\u001b[34m#metrics {\"StartTime\": 1634913657.456853, \"EndTime\": 1634913657.456867, \"Dimensions\": {\"Algorithm\": \"Linear Learner\", \"Host\": \"algo-1\", \"Operation\": \"training\", \"epoch\": 11, \"model\": 25}, \"Metrics\": {\"train_absolute_loss_objective\": {\"sum\": 0.6867442092895508, \"count\": 1, \"min\": 0.6867442092895508, \"max\": 0.6867442092895508}}}\n",
      "\u001b[0m\n",
      "\u001b[34m#metrics {\"StartTime\": 1634913657.4569144, \"EndTime\": 1634913657.4569292, \"Dimensions\": {\"Algorithm\": \"Linear Learner\", \"Host\": \"algo-1\", \"Operation\": \"training\", \"epoch\": 11, \"model\": 26}, \"Metrics\": {\"train_absolute_loss_objective\": {\"sum\": 0.686756649017334, \"count\": 1, \"min\": 0.686756649017334, \"max\": 0.686756649017334}}}\n",
      "\u001b[0m\n",
      "\u001b[34m#metrics {\"StartTime\": 1634913657.4569702, \"EndTime\": 1634913657.4569798, \"Dimensions\": {\"Algorithm\": \"Linear Learner\", \"Host\": \"algo-1\", \"Operation\": \"training\", \"epoch\": 11, \"model\": 27}, \"Metrics\": {\"train_absolute_loss_objective\": {\"sum\": 0.6867176055908203, \"count\": 1, \"min\": 0.6867176055908203, \"max\": 0.6867176055908203}}}\n",
      "\u001b[0m\n",
      "\u001b[34m#metrics {\"StartTime\": 1634913657.4570074, \"EndTime\": 1634913657.4570196, \"Dimensions\": {\"Algorithm\": \"Linear Learner\", \"Host\": \"algo-1\", \"Operation\": \"training\", \"epoch\": 11, \"model\": 28}, \"Metrics\": {\"train_absolute_loss_objective\": {\"sum\": 0.6883399047851563, \"count\": 1, \"min\": 0.6883399047851563, \"max\": 0.6883399047851563}}}\n",
      "\u001b[0m\n",
      "\u001b[34m#metrics {\"StartTime\": 1634913657.4570656, \"EndTime\": 1634913657.4570756, \"Dimensions\": {\"Algorithm\": \"Linear Learner\", \"Host\": \"algo-1\", \"Operation\": \"training\", \"epoch\": 11, \"model\": 29}, \"Metrics\": {\"train_absolute_loss_objective\": {\"sum\": 0.6900658950805664, \"count\": 1, \"min\": 0.6900658950805664, \"max\": 0.6900658950805664}}}\n",
      "\u001b[0m\n",
      "\u001b[34m#metrics {\"StartTime\": 1634913657.4571013, \"EndTime\": 1634913657.4571083, \"Dimensions\": {\"Algorithm\": \"Linear Learner\", \"Host\": \"algo-1\", \"Operation\": \"training\", \"epoch\": 11, \"model\": 30}, \"Metrics\": {\"train_absolute_loss_objective\": {\"sum\": 0.6895466461181641, \"count\": 1, \"min\": 0.6895466461181641, \"max\": 0.6895466461181641}}}\n",
      "\u001b[0m\n",
      "\u001b[34m#metrics {\"StartTime\": 1634913657.4571447, \"EndTime\": 1634913657.45716, \"Dimensions\": {\"Algorithm\": \"Linear Learner\", \"Host\": \"algo-1\", \"Operation\": \"training\", \"epoch\": 11, \"model\": 31}, \"Metrics\": {\"train_absolute_loss_objective\": {\"sum\": 0.6884211616516114, \"count\": 1, \"min\": 0.6884211616516114, \"max\": 0.6884211616516114}}}\n",
      "\u001b[0m\n",
      "\u001b[34m[10/22/2021 14:40:57 INFO 139817024649024] #quality_metric: host=algo-1, epoch=11, train absolute_loss_objective <loss>=0.3183027744293213\u001b[0m\n",
      "\u001b[34m[10/22/2021 14:40:57 INFO 139817024649024] #early_stopping_criteria_metric: host=algo-1, epoch=11, criteria=absolute_loss_objective, value=0.3053765468597412\u001b[0m\n",
      "\u001b[34m[10/22/2021 14:40:57 INFO 139817024649024] Saving model for epoch: 11\u001b[0m\n",
      "\u001b[34m[10/22/2021 14:40:57 INFO 139817024649024] Saved checkpoint to \"/tmp/tmpxg3ghvhh/mx-mod-0000.params\"\u001b[0m\n",
      "\u001b[34m[10/22/2021 14:40:57 INFO 139817024649024] Early stop condition met. Stopping training.\u001b[0m\n",
      "\u001b[34m[10/22/2021 14:40:57 INFO 139817024649024] #progress_metric: host=algo-1, completed 100 % epochs\u001b[0m\n",
      "\u001b[34m#metrics {\"StartTime\": 1634913657.2456207, \"EndTime\": 1634913657.465322, \"Dimensions\": {\"Algorithm\": \"Linear Learner\", \"Host\": \"algo-1\", \"Operation\": \"training\", \"epoch\": 11, \"Meta\": \"training_data_iter\"}, \"Metrics\": {\"Total Records Seen\": {\"sum\": 14010.0, \"count\": 1, \"min\": 14010, \"max\": 14010}, \"Total Batches Seen\": {\"sum\": 144.0, \"count\": 1, \"min\": 144, \"max\": 144}, \"Max Records Seen Between Resets\": {\"sum\": 1070.0, \"count\": 1, \"min\": 1070, \"max\": 1070}, \"Max Batches Seen Between Resets\": {\"sum\": 11.0, \"count\": 1, \"min\": 11, \"max\": 11}, \"Reset Count\": {\"sum\": 14.0, \"count\": 1, \"min\": 14, \"max\": 14}, \"Number of Records Since Last Reset\": {\"sum\": 1070.0, \"count\": 1, \"min\": 1070, \"max\": 1070}, \"Number of Batches Since Last Reset\": {\"sum\": 11.0, \"count\": 1, \"min\": 11, \"max\": 11}}}\n",
      "\u001b[0m\n",
      "\u001b[34m[10/22/2021 14:40:57 INFO 139817024649024] #throughput_metric: host=algo-1, train throughput=4867.317550368798 records/second\u001b[0m\n",
      "\u001b[34m[10/22/2021 14:40:57 WARNING 139817024649024] wait_for_all_workers will not sync workers since the kv store is not running distributed\u001b[0m\n",
      "\u001b[34m[10/22/2021 14:40:57 WARNING 139817024649024] wait_for_all_workers will not sync workers since the kv store is not running distributed\u001b[0m\n",
      "\u001b[34m[2021-10-22 14:40:57.466] [tensorio] [info] epoch_stats={\"data_pipeline\": \"/opt/ml/input/data/train\", \"epoch\": 28, \"duration\": 0, \"num_examples\": 1, \"num_bytes\": 7600}\u001b[0m\n",
      "\u001b[34m[2021-10-22 14:40:57.480] [tensorio] [info] epoch_stats={\"data_pipeline\": \"/opt/ml/input/data/train\", \"epoch\": 30, \"duration\": 12, \"num_examples\": 11, \"num_bytes\": 81320}\u001b[0m\n",
      "\u001b[34m[10/22/2021 14:40:57 INFO 139817024649024] #train_score (algo-1) : ('absolute_loss_objective', 3538.884082943925)\u001b[0m\n",
      "\u001b[34m[10/22/2021 14:40:57 INFO 139817024649024] #train_score (algo-1) : ('mse', 45978493.84672897)\u001b[0m\n",
      "\u001b[34m[10/22/2021 14:40:57 INFO 139817024649024] #train_score (algo-1) : ('absolute_loss', 3538.884082943925)\u001b[0m\n",
      "\u001b[34m[10/22/2021 14:40:57 INFO 139817024649024] #quality_metric: host=algo-1, train absolute_loss_objective <loss>=3538.884082943925\u001b[0m\n",
      "\u001b[34m[10/22/2021 14:40:57 INFO 139817024649024] #quality_metric: host=algo-1, train mse <loss>=45978493.84672897\u001b[0m\n",
      "\u001b[34m[10/22/2021 14:40:57 INFO 139817024649024] #quality_metric: host=algo-1, train absolute_loss <loss>=3538.884082943925\u001b[0m\n",
      "\u001b[34m[10/22/2021 14:40:57 INFO 139817024649024] Best model found for hyperparameters: {\"optimizer\": \"adam\", \"learning_rate\": 0.1, \"wd\": 0.0001, \"l1\": 0.0, \"lr_scheduler_step\": 100, \"lr_scheduler_factor\": 0.99, \"lr_scheduler_minimum_lr\": 0.0001}\u001b[0m\n",
      "\u001b[34m[10/22/2021 14:40:57 INFO 139817024649024] Saved checkpoint to \"/tmp/tmpyjovkxp1/mx-mod-0000.params\"\u001b[0m\n",
      "\u001b[34m[10/22/2021 14:40:57 INFO 139817024649024] Test data is not provided.\u001b[0m\n",
      "\u001b[34m#metrics {\"StartTime\": 1634913654.1412008, \"EndTime\": 1634913657.4858782, \"Dimensions\": {\"Algorithm\": \"Linear Learner\", \"Host\": \"algo-1\", \"Operation\": \"training\"}, \"Metrics\": {\"initialize.time\": {\"sum\": 218.69850158691406, \"count\": 1, \"min\": 218.69850158691406, \"max\": 218.69850158691406}, \"epochs\": {\"sum\": 100.0, \"count\": 1, \"min\": 100, \"max\": 100}, \"check_early_stopping.time\": {\"sum\": 8.771896362304688, \"count\": 12, \"min\": 0.18358230590820312, \"max\": 1.5664100646972656}, \"update.time\": {\"sum\": 3059.504270553589, \"count\": 12, \"min\": 217.14425086975098, \"max\": 311.0795021057129}, \"finalize.time\": {\"sum\": 15.865564346313477, \"count\": 1, \"min\": 15.865564346313477, \"max\": 15.865564346313477}, \"setuptime\": {\"sum\": 24.031400680541992, \"count\": 1, \"min\": 24.031400680541992, \"max\": 24.031400680541992}, \"totaltime\": {\"sum\": 3563.720941543579, \"count\": 1, \"min\": 3563.720941543579, \"max\": 3563.720941543579}}}\n",
      "\u001b[0m\n",
      "\n",
      "2021-10-22 14:41:08 Uploading - Uploading generated training model\n",
      "2021-10-22 14:41:08 Completed - Training job completed\n",
      "Training seconds: 52\n",
      "Billable seconds: 52\n"
     ]
    }
   ],
   "source": [
    "# We have pass in the container, the type of instance that we would like to use for training \n",
    "# output path and sagemaker session into the Estimator. \n",
    "# We can also specify how many instances we would like to use for training\n",
    "\n",
    "linear = sagemaker.estimator.Estimator(container,\n",
    "                                       role, \n",
    "                                       train_instance_count = 1, \n",
    "                                       train_instance_type = 'ml.c4.xlarge',\n",
    "                                       output_path = output_location,\n",
    "                                       sagemaker_session = sagemaker_session, \n",
    "                                       train_use_spot_instances = True,\n",
    "                                       train_max_run = 300,\n",
    "                                       train_max_wait = 600)\n",
    "                                      )\n",
    "\n",
    "\n",
    "# We can tune parameters like the number of features that we are passing in, type of predictor like 'regressor' or 'classifier', mini batch size, epochs\n",
    "# Train 32 different versions of the model and will get the best out of them (built-in parameters optimization!)\n",
    "\n",
    "linear.set_hyperparameters(feature_dim = 8,  # the number of features you want to train the model\n",
    "                           predictor_type = 'regressor',\n",
    "                           mini_batch_size = 100,\n",
    "                           epochs = 100,\n",
    "                           num_models = 32,  # it will make 32 models and then choose the best one\n",
    "                           loss = 'absolute_loss')\n",
    "\n",
    "# Now we are ready to pass in the training data from S3 to train the linear learner model\n",
    "\n",
    "linear.fit({'train': s3_train_data})\n",
    "\n",
    "# Let's see the progress using cloudwatch logs"
   ]
  },
  {
   "cell_type": "markdown",
   "metadata": {},
   "source": [
    "MINI CHALLENGE\n",
    " - retrain the linear learner model using more epochs, more number of models. \n",
    " - Experiment with a different loss function and report any improvement or degradation in results."
   ]
  },
  {
   "cell_type": "code",
   "execution_count": null,
   "metadata": {},
   "outputs": [],
   "source": []
  },
  {
   "cell_type": "markdown",
   "metadata": {},
   "source": [
    "# TASK #8: DEPLOY AND TEST THE TRAINED LINEAR LEARNER MODEL "
   ]
  },
  {
   "cell_type": "code",
   "execution_count": 251,
   "metadata": {},
   "outputs": [
    {
     "name": "stdout",
     "output_type": "stream",
     "text": [
      "------!"
     ]
    }
   ],
   "source": [
    "# Deploying the model to perform inference \n",
    "\n",
    "linear_regressor = linear.deploy(initial_instance_count = 1,\n",
    "                                          instance_type = 'ml.m4.xlarge')"
   ]
  },
  {
   "cell_type": "code",
   "execution_count": 253,
   "metadata": {},
   "outputs": [],
   "source": [
    "from sagemaker.predictor import csv_serializer, json_deserializer\n",
    "\n",
    "# Content type overrides the data that will be passed to the deployed model, since the deployed model expects data in text/csv format.\n",
    "\n",
    "# Serializer accepts a single argument, the input data, and returns a sequence of bytes in the specified content type\n",
    "\n",
    "# Deserializer accepts two arguments, the result data and the response content type, and return a sequence of bytes in the specified content type.\n",
    "\n",
    "# Reference: https://sagemaker.readthedocs.io/en/stable/predictors.html\n",
    "\n",
    "# linear_regressor.content_type = 'text/csv'\n",
    "linear_regressor.serializer = csv_serializer\n",
    "linear_regressor.deserializer = json_deserializer"
   ]
  },
  {
   "cell_type": "code",
   "execution_count": 254,
   "metadata": {},
   "outputs": [
    {
     "name": "stderr",
     "output_type": "stream",
     "text": [
      "The csv_serializer has been renamed in sagemaker>=2.\n",
      "See: https://sagemaker.readthedocs.io/en/stable/v2.html for details.\n",
      "The json_deserializer has been renamed in sagemaker>=2.\n",
      "See: https://sagemaker.readthedocs.io/en/stable/v2.html for details.\n"
     ]
    }
   ],
   "source": [
    "# making prediction on the test data\n",
    "\n",
    "result = linear_regressor.predict(X_test)"
   ]
  },
  {
   "cell_type": "code",
   "execution_count": 255,
   "metadata": {},
   "outputs": [
    {
     "data": {
      "text/plain": [
       "{'predictions': [{'score': 9078.70703125},\n",
       "  {'score': 5877.0009765625},\n",
       "  {'score': 42843.83203125},\n",
       "  {'score': 9141.1455078125},\n",
       "  {'score': 31427.08203125},\n",
       "  {'score': 6366.013671875},\n",
       "  {'score': 828.30419921875},\n",
       "  {'score': 13842.43359375},\n",
       "  {'score': 3351.0126953125},\n",
       "  {'score': 10158.83203125},\n",
       "  {'score': 34381.8828125},\n",
       "  {'score': 7883.138671875},\n",
       "  {'score': 4573.3037109375},\n",
       "  {'score': 40545.5},\n",
       "  {'score': 43134.12890625},\n",
       "  {'score': 40216.62890625},\n",
       "  {'score': 11170.79296875},\n",
       "  {'score': 39711.33203125},\n",
       "  {'score': 8914.6171875},\n",
       "  {'score': 37332.2578125},\n",
       "  {'score': 3816.533203125},\n",
       "  {'score': 8247.224609375},\n",
       "  {'score': 1126.94482421875},\n",
       "  {'score': 3537.1083984375},\n",
       "  {'score': 10376.7099609375},\n",
       "  {'score': 11378.474609375},\n",
       "  {'score': 12255.21484375},\n",
       "  {'score': 4518.533203125},\n",
       "  {'score': 9715.064453125},\n",
       "  {'score': 1404.66162109375},\n",
       "  {'score': 7851.0517578125},\n",
       "  {'score': 11529.740234375},\n",
       "  {'score': 2561.94921875},\n",
       "  {'score': 4488.638671875},\n",
       "  {'score': 3257.494140625},\n",
       "  {'score': 9573.5966796875},\n",
       "  {'score': 1663.66845703125},\n",
       "  {'score': 7711.42578125},\n",
       "  {'score': 39803.5390625},\n",
       "  {'score': 36712.48046875},\n",
       "  {'score': 2609.3701171875},\n",
       "  {'score': 2631.271484375},\n",
       "  {'score': 11584.775390625},\n",
       "  {'score': 11556.865234375},\n",
       "  {'score': 6429.5224609375},\n",
       "  {'score': 11723.025390625},\n",
       "  {'score': 2871.7666015625},\n",
       "  {'score': 3198.5361328125},\n",
       "  {'score': 39259.16796875},\n",
       "  {'score': 6111.0771484375},\n",
       "  {'score': 13696.939453125},\n",
       "  {'score': 1669.08203125},\n",
       "  {'score': 8143.025390625},\n",
       "  {'score': 1417.41162109375},\n",
       "  {'score': 11713.498046875},\n",
       "  {'score': 10933.3515625},\n",
       "  {'score': 4514.8759765625},\n",
       "  {'score': 35743.6484375},\n",
       "  {'score': 11573.888671875},\n",
       "  {'score': 11160.59765625},\n",
       "  {'score': 12784.501953125},\n",
       "  {'score': 6218.5400390625},\n",
       "  {'score': 13569.796875},\n",
       "  {'score': 7707.244140625},\n",
       "  {'score': 10712.3994140625},\n",
       "  {'score': 3782.515625},\n",
       "  {'score': 32446.0859375},\n",
       "  {'score': 11009.58984375},\n",
       "  {'score': 2727.6796875},\n",
       "  {'score': 2625.9970703125},\n",
       "  {'score': 7845.583984375},\n",
       "  {'score': 9898.388671875},\n",
       "  {'score': 9527.822265625},\n",
       "  {'score': 7737.572265625},\n",
       "  {'score': 9172.55859375},\n",
       "  {'score': 6111.6650390625},\n",
       "  {'score': 5258.6513671875},\n",
       "  {'score': 10784.3564453125},\n",
       "  {'score': 4902.1728515625},\n",
       "  {'score': 8557.1474609375},\n",
       "  {'score': 2179.0546875},\n",
       "  {'score': 42873.296875},\n",
       "  {'score': 5141.2275390625},\n",
       "  {'score': 34066.90625},\n",
       "  {'score': 34397.3359375},\n",
       "  {'score': 40125.0234375},\n",
       "  {'score': 5639.888671875},\n",
       "  {'score': 11079.125},\n",
       "  {'score': 8415.48046875},\n",
       "  {'score': 11509.251953125},\n",
       "  {'score': 14550.89453125},\n",
       "  {'score': 42781.703125},\n",
       "  {'score': 39216.515625},\n",
       "  {'score': 5597.494140625},\n",
       "  {'score': 35968.125},\n",
       "  {'score': 7691.029296875},\n",
       "  {'score': 35172.296875},\n",
       "  {'score': 2153.24609375},\n",
       "  {'score': 34641.63671875},\n",
       "  {'score': 6320.412109375},\n",
       "  {'score': 4500.599609375},\n",
       "  {'score': 1009.63427734375},\n",
       "  {'score': 8232.60546875},\n",
       "  {'score': 12257.515625},\n",
       "  {'score': 12509.849609375},\n",
       "  {'score': 2125.029296875},\n",
       "  {'score': 8920.8115234375},\n",
       "  {'score': 39731.23046875},\n",
       "  {'score': 1053.357421875},\n",
       "  {'score': 40210.71875},\n",
       "  {'score': 1338.103515625},\n",
       "  {'score': 5110.7626953125},\n",
       "  {'score': 12730.650390625},\n",
       "  {'score': 36257.796875},\n",
       "  {'score': 10242.2412109375},\n",
       "  {'score': 1917.37890625},\n",
       "  {'score': 12633.736328125},\n",
       "  {'score': 37649.04296875},\n",
       "  {'score': 7092.2216796875},\n",
       "  {'score': 2581.681640625},\n",
       "  {'score': 6498.572265625},\n",
       "  {'score': 8165.4658203125},\n",
       "  {'score': 11948.623046875},\n",
       "  {'score': 3426.7421875},\n",
       "  {'score': 3943.703125},\n",
       "  {'score': 8076.310546875},\n",
       "  {'score': 8720.8408203125},\n",
       "  {'score': 10167.9443359375},\n",
       "  {'score': 12561.0859375},\n",
       "  {'score': 3637.4384765625},\n",
       "  {'score': 4984.4150390625},\n",
       "  {'score': 7167.23828125},\n",
       "  {'score': 6963.037109375},\n",
       "  {'score': 9454.72265625},\n",
       "  {'score': 6563.7626953125},\n",
       "  {'score': 12473.8125},\n",
       "  {'score': 6067.5},\n",
       "  {'score': 36995.390625},\n",
       "  {'score': 38538.28125},\n",
       "  {'score': 36631.375},\n",
       "  {'score': 5631.822265625},\n",
       "  {'score': 10687.693359375},\n",
       "  {'score': 3917.2421875},\n",
       "  {'score': 11312.51953125},\n",
       "  {'score': 2897.7421875},\n",
       "  {'score': 39137.75390625},\n",
       "  {'score': 5538.310546875},\n",
       "  {'score': 4174.748046875},\n",
       "  {'score': 11285.546875},\n",
       "  {'score': 5658.701171875},\n",
       "  {'score': 41710.84765625},\n",
       "  {'score': 2316.47900390625},\n",
       "  {'score': 2264.93896484375},\n",
       "  {'score': 35866.62109375},\n",
       "  {'score': 7551.24609375},\n",
       "  {'score': 6285.3779296875},\n",
       "  {'score': 13433.544921875},\n",
       "  {'score': 9280.306640625},\n",
       "  {'score': 31762.6328125},\n",
       "  {'score': 37899.40234375},\n",
       "  {'score': 13010.7109375},\n",
       "  {'score': 1405.552734375},\n",
       "  {'score': 13211.3515625},\n",
       "  {'score': 2603.3876953125},\n",
       "  {'score': 3330.564453125},\n",
       "  {'score': 8903.462890625},\n",
       "  {'score': 43109.1640625},\n",
       "  {'score': 41340.9765625},\n",
       "  {'score': 38837.78125},\n",
       "  {'score': 2693.85986328125},\n",
       "  {'score': 8613.580078125},\n",
       "  {'score': 6864.939453125},\n",
       "  {'score': 8221.75},\n",
       "  {'score': 4569.8837890625},\n",
       "  {'score': 1656.2294921875},\n",
       "  {'score': 38833.84765625},\n",
       "  {'score': 30779.02734375},\n",
       "  {'score': 14286.30078125},\n",
       "  {'score': 34381.26953125},\n",
       "  {'score': 10853.640625},\n",
       "  {'score': 43217.48046875},\n",
       "  {'score': 1801.3115234375},\n",
       "  {'score': 8271.3935546875},\n",
       "  {'score': 5646.5078125},\n",
       "  {'score': 4996.01953125},\n",
       "  {'score': 2987.56640625},\n",
       "  {'score': 4903.96484375},\n",
       "  {'score': 3802.8017578125},\n",
       "  {'score': 10527.708984375},\n",
       "  {'score': 10677.923828125},\n",
       "  {'score': 3674.6748046875},\n",
       "  {'score': 1655.1611328125},\n",
       "  {'score': 2236.916015625},\n",
       "  {'score': 35250.359375},\n",
       "  {'score': 13632.345703125},\n",
       "  {'score': 10375.41015625},\n",
       "  {'score': 1308.966796875},\n",
       "  {'score': 11730.56640625},\n",
       "  {'score': 1432.27099609375},\n",
       "  {'score': 8887.6875},\n",
       "  {'score': 2643.20703125},\n",
       "  {'score': 39731.5078125},\n",
       "  {'score': 6304.568359375},\n",
       "  {'score': 1849.06689453125},\n",
       "  {'score': 31859.37109375},\n",
       "  {'score': 33208.47265625},\n",
       "  {'score': 9269.0576171875},\n",
       "  {'score': 2493.00537109375},\n",
       "  {'score': 10061.1943359375},\n",
       "  {'score': 2275.53271484375},\n",
       "  {'score': 11708.689453125},\n",
       "  {'score': 11483.330078125},\n",
       "  {'score': 11131.712890625},\n",
       "  {'score': 33126.671875},\n",
       "  {'score': 7423.642578125},\n",
       "  {'score': 4708.046875},\n",
       "  {'score': 5519.89453125},\n",
       "  {'score': 12958.619140625},\n",
       "  {'score': 11989.072265625},\n",
       "  {'score': 6509.3564453125},\n",
       "  {'score': 2385.9404296875},\n",
       "  {'score': 8719.6162109375},\n",
       "  {'score': 8647.05859375},\n",
       "  {'score': 39097.984375},\n",
       "  {'score': 2366.0693359375},\n",
       "  {'score': 34012.90234375},\n",
       "  {'score': 360.51611328125},\n",
       "  {'score': 1459.826171875},\n",
       "  {'score': 10381.7470703125},\n",
       "  {'score': 11725.44140625},\n",
       "  {'score': 2716.798828125},\n",
       "  {'score': 8877.7021484375},\n",
       "  {'score': 3947.18359375},\n",
       "  {'score': 37085.79296875},\n",
       "  {'score': 9162.447265625},\n",
       "  {'score': 10065.56640625},\n",
       "  {'score': 3968.5859375},\n",
       "  {'score': 7452.7998046875},\n",
       "  {'score': 39016.18359375},\n",
       "  {'score': 2738.37744140625},\n",
       "  {'score': 11831.33203125},\n",
       "  {'score': 34662.8828125},\n",
       "  {'score': 3339.1787109375},\n",
       "  {'score': 3811.744140625},\n",
       "  {'score': 1036.3349609375},\n",
       "  {'score': 3334.166015625},\n",
       "  {'score': 3911.52734375},\n",
       "  {'score': 4949.541015625},\n",
       "  {'score': 13250.3828125},\n",
       "  {'score': 434.53173828125},\n",
       "  {'score': 1326.83544921875},\n",
       "  {'score': 7995.654296875},\n",
       "  {'score': 3129.296875},\n",
       "  {'score': 11348.580078125},\n",
       "  {'score': 1881.0517578125},\n",
       "  {'score': 3729.9453125},\n",
       "  {'score': 11770.33203125},\n",
       "  {'score': 3881.6962890625},\n",
       "  {'score': 9271.220703125},\n",
       "  {'score': 6145.0234375},\n",
       "  {'score': 7796.728515625},\n",
       "  {'score': 11740.01171875},\n",
       "  {'score': 33552.58203125},\n",
       "  {'score': 43465.55078125},\n",
       "  {'score': 11428.142578125},\n",
       "  {'score': 7139.765625},\n",
       "  {'score': 42066.953125},\n",
       "  {'score': 10147.36328125}]}"
      ]
     },
     "execution_count": 255,
     "metadata": {},
     "output_type": "execute_result"
    }
   ],
   "source": [
    "result # results are in Json format"
   ]
  },
  {
   "cell_type": "code",
   "execution_count": 256,
   "metadata": {},
   "outputs": [],
   "source": [
    "# Since the result is in json format, we access the scores by iterating through the scores in the predictions\n",
    "\n",
    "predictions = np.array([r['score'] for r in result['predictions']])"
   ]
  },
  {
   "cell_type": "code",
   "execution_count": 257,
   "metadata": {},
   "outputs": [
    {
     "data": {
      "text/plain": [
       "array([ 9078.70703125,  5877.00097656, 42843.83203125,  9141.14550781,\n",
       "       31427.08203125,  6366.01367188,   828.30419922, 13842.43359375,\n",
       "        3351.01269531, 10158.83203125, 34381.8828125 ,  7883.13867188,\n",
       "        4573.30371094, 40545.5       , 43134.12890625, 40216.62890625,\n",
       "       11170.79296875, 39711.33203125,  8914.6171875 , 37332.2578125 ,\n",
       "        3816.53320312,  8247.22460938,  1126.94482422,  3537.10839844,\n",
       "       10376.70996094, 11378.47460938, 12255.21484375,  4518.53320312,\n",
       "        9715.06445312,  1404.66162109,  7851.05175781, 11529.74023438,\n",
       "        2561.94921875,  4488.63867188,  3257.49414062,  9573.59667969,\n",
       "        1663.66845703,  7711.42578125, 39803.5390625 , 36712.48046875,\n",
       "        2609.37011719,  2631.27148438, 11584.77539062, 11556.86523438,\n",
       "        6429.52246094, 11723.02539062,  2871.76660156,  3198.53613281,\n",
       "       39259.16796875,  6111.07714844, 13696.93945312,  1669.08203125,\n",
       "        8143.02539062,  1417.41162109, 11713.49804688, 10933.3515625 ,\n",
       "        4514.87597656, 35743.6484375 , 11573.88867188, 11160.59765625,\n",
       "       12784.50195312,  6218.54003906, 13569.796875  ,  7707.24414062,\n",
       "       10712.39941406,  3782.515625  , 32446.0859375 , 11009.58984375,\n",
       "        2727.6796875 ,  2625.99707031,  7845.58398438,  9898.38867188,\n",
       "        9527.82226562,  7737.57226562,  9172.55859375,  6111.66503906,\n",
       "        5258.65136719, 10784.35644531,  4902.17285156,  8557.14746094,\n",
       "        2179.0546875 , 42873.296875  ,  5141.22753906, 34066.90625   ,\n",
       "       34397.3359375 , 40125.0234375 ,  5639.88867188, 11079.125     ,\n",
       "        8415.48046875, 11509.25195312, 14550.89453125, 42781.703125  ,\n",
       "       39216.515625  ,  5597.49414062, 35968.125     ,  7691.02929688,\n",
       "       35172.296875  ,  2153.24609375, 34641.63671875,  6320.41210938,\n",
       "        4500.59960938,  1009.63427734,  8232.60546875, 12257.515625  ,\n",
       "       12509.84960938,  2125.02929688,  8920.81152344, 39731.23046875,\n",
       "        1053.35742188, 40210.71875   ,  1338.10351562,  5110.76269531,\n",
       "       12730.65039062, 36257.796875  , 10242.24121094,  1917.37890625,\n",
       "       12633.73632812, 37649.04296875,  7092.22167969,  2581.68164062,\n",
       "        6498.57226562,  8165.46582031, 11948.62304688,  3426.7421875 ,\n",
       "        3943.703125  ,  8076.31054688,  8720.84082031, 10167.94433594,\n",
       "       12561.0859375 ,  3637.43847656,  4984.41503906,  7167.23828125,\n",
       "        6963.03710938,  9454.72265625,  6563.76269531, 12473.8125    ,\n",
       "        6067.5       , 36995.390625  , 38538.28125   , 36631.375     ,\n",
       "        5631.82226562, 10687.69335938,  3917.2421875 , 11312.51953125,\n",
       "        2897.7421875 , 39137.75390625,  5538.31054688,  4174.74804688,\n",
       "       11285.546875  ,  5658.70117188, 41710.84765625,  2316.47900391,\n",
       "        2264.93896484, 35866.62109375,  7551.24609375,  6285.37792969,\n",
       "       13433.54492188,  9280.30664062, 31762.6328125 , 37899.40234375,\n",
       "       13010.7109375 ,  1405.55273438, 13211.3515625 ,  2603.38769531,\n",
       "        3330.56445312,  8903.46289062, 43109.1640625 , 41340.9765625 ,\n",
       "       38837.78125   ,  2693.85986328,  8613.58007812,  6864.93945312,\n",
       "        8221.75      ,  4569.88378906,  1656.22949219, 38833.84765625,\n",
       "       30779.02734375, 14286.30078125, 34381.26953125, 10853.640625  ,\n",
       "       43217.48046875,  1801.31152344,  8271.39355469,  5646.5078125 ,\n",
       "        4996.01953125,  2987.56640625,  4903.96484375,  3802.80175781,\n",
       "       10527.70898438, 10677.92382812,  3674.67480469,  1655.16113281,\n",
       "        2236.91601562, 35250.359375  , 13632.34570312, 10375.41015625,\n",
       "        1308.96679688, 11730.56640625,  1432.27099609,  8887.6875    ,\n",
       "        2643.20703125, 39731.5078125 ,  6304.56835938,  1849.06689453,\n",
       "       31859.37109375, 33208.47265625,  9269.05761719,  2493.00537109,\n",
       "       10061.19433594,  2275.53271484, 11708.68945312, 11483.33007812,\n",
       "       11131.71289062, 33126.671875  ,  7423.64257812,  4708.046875  ,\n",
       "        5519.89453125, 12958.61914062, 11989.07226562,  6509.35644531,\n",
       "        2385.94042969,  8719.61621094,  8647.05859375, 39097.984375  ,\n",
       "        2366.06933594, 34012.90234375,   360.51611328,  1459.82617188,\n",
       "       10381.74707031, 11725.44140625,  2716.79882812,  8877.70214844,\n",
       "        3947.18359375, 37085.79296875,  9162.44726562, 10065.56640625,\n",
       "        3968.5859375 ,  7452.79980469, 39016.18359375,  2738.37744141,\n",
       "       11831.33203125, 34662.8828125 ,  3339.17871094,  3811.74414062,\n",
       "        1036.33496094,  3334.16601562,  3911.52734375,  4949.54101562,\n",
       "       13250.3828125 ,   434.53173828,  1326.83544922,  7995.65429688,\n",
       "        3129.296875  , 11348.58007812,  1881.05175781,  3729.9453125 ,\n",
       "       11770.33203125,  3881.69628906,  9271.22070312,  6145.0234375 ,\n",
       "        7796.72851562, 11740.01171875, 33552.58203125, 43465.55078125,\n",
       "       11428.14257812,  7139.765625  , 42066.953125  , 10147.36328125])"
      ]
     },
     "execution_count": 257,
     "metadata": {},
     "output_type": "execute_result"
    }
   ],
   "source": [
    "predictions"
   ]
  },
  {
   "cell_type": "code",
   "execution_count": 258,
   "metadata": {
    "scrolled": true
   },
   "outputs": [
    {
     "data": {
      "text/plain": [
       "(268,)"
      ]
     },
     "execution_count": 258,
     "metadata": {},
     "output_type": "execute_result"
    }
   ],
   "source": [
    "predictions.shape"
   ]
  },
  {
   "cell_type": "code",
   "execution_count": 259,
   "metadata": {},
   "outputs": [],
   "source": [
    "y_predict_orig = scaler_y.inverse_transform(predictions)\n",
    "y_test_orig = scaler_y.inverse_transform(y_test)"
   ]
  },
  {
   "cell_type": "code",
   "execution_count": 260,
   "metadata": {},
   "outputs": [
    {
     "name": "stdout",
     "output_type": "stream",
     "text": [
      "RMSE = 76345931.699 \n",
      "MSE = 5828701287010245.0 \n",
      "MAE = 39640657.18235535 \n",
      "R2 = 0.7398785152526208 \n",
      "Adjusted R2 = 0.7318438747971033\n"
     ]
    }
   ],
   "source": [
    "from sklearn.metrics import r2_score, mean_squared_error, mean_absolute_error\n",
    "from math import sqrt\n",
    "\n",
    "RMSE = float(format(np.sqrt(mean_squared_error(y_test_orig, y_predict_orig)),'.3f'))\n",
    "MSE = mean_squared_error(y_test_orig, y_predict_orig)\n",
    "MAE = mean_absolute_error(y_test_orig, y_predict_orig)\n",
    "r2 = r2_score(y_test_orig, y_predict_orig)\n",
    "adj_r2 = 1-(1-r2)*(n-1)/(n-k-1)\n",
    "\n",
    "print('RMSE =',RMSE, '\\nMSE =',MSE, '\\nMAE =',MAE, '\\nR2 =', r2, '\\nAdjusted R2 =', adj_r2) "
   ]
  },
  {
   "cell_type": "code",
   "execution_count": 261,
   "metadata": {},
   "outputs": [],
   "source": [
    "# Delete the end-point\n",
    "\n",
    "linear_regressor.delete_endpoint()"
   ]
  },
  {
   "cell_type": "markdown",
   "metadata": {},
   "source": [
    "# TASK #9: LET'S TRY A MORE COMPLEX ARTIFICIAL NEURAL NETWORK-BASED REGRESSION MODEL"
   ]
  },
  {
   "cell_type": "code",
   "execution_count": 263,
   "metadata": {},
   "outputs": [
    {
     "name": "stdout",
     "output_type": "stream",
     "text": [
      "Collecting tensorflow\n",
      "  Downloading tensorflow-2.6.0-cp37-cp37m-manylinux2010_x86_64.whl (458.3 MB)\n",
      "     |████████████████████████████████| 458.3 MB 6.4 kB/s             \n",
      "\u001b[?25hCollecting tensorflow-estimator~=2.6\n",
      "  Downloading tensorflow_estimator-2.6.0-py2.py3-none-any.whl (462 kB)\n",
      "     |████████████████████████████████| 462 kB 47.1 MB/s            \n",
      "\u001b[?25hCollecting flatbuffers~=1.12.0\n",
      "  Downloading flatbuffers-1.12-py2.py3-none-any.whl (15 kB)\n",
      "Collecting keras~=2.6\n",
      "  Downloading keras-2.6.0-py2.py3-none-any.whl (1.3 MB)\n",
      "     |████████████████████████████████| 1.3 MB 41.0 MB/s            \n",
      "\u001b[?25hCollecting numpy~=1.19.2\n",
      "  Downloading numpy-1.19.5-cp37-cp37m-manylinux2010_x86_64.whl (14.8 MB)\n",
      "     |████████████████████████████████| 14.8 MB 58.4 MB/s            \n",
      "\u001b[?25hCollecting clang~=5.0\n",
      "  Downloading clang-5.0.tar.gz (30 kB)\n",
      "  Preparing metadata (setup.py) ... \u001b[?25ldone\n",
      "\u001b[?25hRequirement already satisfied: grpcio<2.0,>=1.37.0 in /usr/local/lib/python3.7/site-packages (from tensorflow) (1.37.1)\n",
      "Requirement already satisfied: opt-einsum~=3.3.0 in /usr/local/lib/python3.7/site-packages (from tensorflow) (3.3.0)\n",
      "Collecting tensorboard~=2.6\n",
      "  Downloading tensorboard-2.7.0-py3-none-any.whl (5.8 MB)\n",
      "     |████████████████████████████████| 5.8 MB 33.5 MB/s            \n",
      "\u001b[?25hRequirement already satisfied: google-pasta~=0.2 in /usr/local/lib/python3.7/site-packages (from tensorflow) (0.2.0)\n",
      "Requirement already satisfied: typing-extensions~=3.7.4 in /usr/local/lib/python3.7/site-packages (from tensorflow) (3.7.4.3)\n",
      "Requirement already satisfied: termcolor~=1.1.0 in /usr/local/lib/python3.7/site-packages (from tensorflow) (1.1.0)\n",
      "Requirement already satisfied: wheel~=0.35 in /usr/local/lib/python3.7/site-packages (from tensorflow) (0.36.2)\n",
      "Collecting gast==0.4.0\n",
      "  Downloading gast-0.4.0-py3-none-any.whl (9.8 kB)\n",
      "Collecting h5py~=3.1.0\n",
      "  Downloading h5py-3.1.0-cp37-cp37m-manylinux1_x86_64.whl (4.0 MB)\n",
      "     |████████████████████████████████| 4.0 MB 48.0 MB/s            \n",
      "\u001b[?25hRequirement already satisfied: absl-py~=0.10 in /usr/local/lib/python3.7/site-packages (from tensorflow) (0.10.0)\n",
      "Requirement already satisfied: wrapt~=1.12.1 in /usr/local/lib/python3.7/site-packages (from tensorflow) (1.12.1)\n",
      "Requirement already satisfied: astunparse~=1.6.3 in /usr/local/lib/python3.7/site-packages (from tensorflow) (1.6.3)\n",
      "Requirement already satisfied: six~=1.15.0 in /usr/local/lib/python3.7/site-packages (from tensorflow) (1.15.0)\n",
      "Requirement already satisfied: keras-preprocessing~=1.1.2 in /usr/local/lib/python3.7/site-packages (from tensorflow) (1.1.2)\n",
      "Requirement already satisfied: protobuf>=3.9.2 in /usr/local/lib/python3.7/site-packages (from tensorflow) (3.15.8)\n",
      "Requirement already satisfied: cached-property in /usr/local/lib/python3.7/site-packages (from h5py~=3.1.0->tensorflow) (1.5.2)\n",
      "Requirement already satisfied: werkzeug>=0.11.15 in /usr/local/lib/python3.7/site-packages (from tensorboard~=2.6->tensorflow) (1.0.1)\n",
      "Requirement already satisfied: setuptools>=41.0.0 in /usr/local/lib/python3.7/site-packages (from tensorboard~=2.6->tensorflow) (56.0.0)\n",
      "Requirement already satisfied: tensorboard-data-server<0.7.0,>=0.6.0 in /usr/local/lib/python3.7/site-packages (from tensorboard~=2.6->tensorflow) (0.6.0)\n",
      "Requirement already satisfied: google-auth<3,>=1.6.3 in /usr/local/lib/python3.7/site-packages (from tensorboard~=2.6->tensorflow) (1.30.0)\n",
      "Requirement already satisfied: requests<3,>=2.21.0 in /usr/local/lib/python3.7/site-packages (from tensorboard~=2.6->tensorflow) (2.24.0)\n",
      "Requirement already satisfied: google-auth-oauthlib<0.5,>=0.4.1 in /usr/local/lib/python3.7/site-packages (from tensorboard~=2.6->tensorflow) (0.4.4)\n",
      "Requirement already satisfied: markdown>=2.6.8 in /usr/local/lib/python3.7/site-packages (from tensorboard~=2.6->tensorflow) (3.3.4)\n",
      "Requirement already satisfied: tensorboard-plugin-wit>=1.6.0 in /usr/local/lib/python3.7/site-packages (from tensorboard~=2.6->tensorflow) (1.8.0)\n",
      "Requirement already satisfied: rsa<5,>=3.1.4 in /usr/local/lib/python3.7/site-packages (from google-auth<3,>=1.6.3->tensorboard~=2.6->tensorflow) (4.7.2)\n",
      "Requirement already satisfied: pyasn1-modules>=0.2.1 in /usr/local/lib/python3.7/site-packages (from google-auth<3,>=1.6.3->tensorboard~=2.6->tensorflow) (0.2.8)\n",
      "Requirement already satisfied: cachetools<5.0,>=2.0.0 in /usr/local/lib/python3.7/site-packages (from google-auth<3,>=1.6.3->tensorboard~=2.6->tensorflow) (4.2.2)\n",
      "Requirement already satisfied: requests-oauthlib>=0.7.0 in /usr/local/lib/python3.7/site-packages (from google-auth-oauthlib<0.5,>=0.4.1->tensorboard~=2.6->tensorflow) (1.3.0)\n",
      "Requirement already satisfied: importlib-metadata in /usr/local/lib/python3.7/site-packages (from markdown>=2.6.8->tensorboard~=2.6->tensorflow) (4.0.1)\n",
      "Requirement already satisfied: idna<3,>=2.5 in /usr/local/lib/python3.7/site-packages (from requests<3,>=2.21.0->tensorboard~=2.6->tensorflow) (2.10)\n",
      "Requirement already satisfied: certifi>=2017.4.17 in /usr/local/lib/python3.7/site-packages (from requests<3,>=2.21.0->tensorboard~=2.6->tensorflow) (2020.12.5)\n",
      "Requirement already satisfied: urllib3!=1.25.0,!=1.25.1,<1.26,>=1.21.1 in /usr/local/lib/python3.7/site-packages (from requests<3,>=2.21.0->tensorboard~=2.6->tensorflow) (1.25.11)\n",
      "Requirement already satisfied: chardet<4,>=3.0.2 in /usr/local/lib/python3.7/site-packages (from requests<3,>=2.21.0->tensorboard~=2.6->tensorflow) (3.0.4)\n",
      "Requirement already satisfied: pyasn1<0.5.0,>=0.4.6 in /usr/local/lib/python3.7/site-packages (from pyasn1-modules>=0.2.1->google-auth<3,>=1.6.3->tensorboard~=2.6->tensorflow) (0.4.8)\n",
      "Requirement already satisfied: oauthlib>=3.0.0 in /usr/local/lib/python3.7/site-packages (from requests-oauthlib>=0.7.0->google-auth-oauthlib<0.5,>=0.4.1->tensorboard~=2.6->tensorflow) (3.1.0)\n",
      "Requirement already satisfied: zipp>=0.5 in /usr/local/lib/python3.7/site-packages (from importlib-metadata->markdown>=2.6.8->tensorboard~=2.6->tensorflow) (3.4.1)\n",
      "Building wheels for collected packages: clang\n",
      "  Building wheel for clang (setup.py) ... \u001b[?25ldone\n",
      "\u001b[?25h  Created wheel for clang: filename=clang-5.0-py3-none-any.whl size=30702 sha256=90d21a112931a4717ed786d400730e3c3af4fcffaea5c3fbb230cb9e442f7ce8\n",
      "  Stored in directory: /root/.cache/pip/wheels/98/91/04/971b4c587cf47ae952b108949b46926f426c02832d120a082a\n",
      "Successfully built clang\n",
      "Installing collected packages: numpy, tensorflow-estimator, tensorboard, keras, h5py, gast, flatbuffers, clang, tensorflow\n",
      "  Attempting uninstall: numpy\n",
      "    Found existing installation: numpy 1.18.5\n",
      "    Uninstalling numpy-1.18.5:\n",
      "      Successfully uninstalled numpy-1.18.5\n",
      "  Attempting uninstall: tensorflow-estimator\n",
      "    Found existing installation: tensorflow-estimator 2.3.0\n",
      "    Uninstalling tensorflow-estimator-2.3.0:\n",
      "      Successfully uninstalled tensorflow-estimator-2.3.0\n",
      "  Attempting uninstall: tensorboard\n",
      "    Found existing installation: tensorboard 2.5.0\n",
      "    Uninstalling tensorboard-2.5.0:\n",
      "      Successfully uninstalled tensorboard-2.5.0\n",
      "  Attempting uninstall: h5py\n",
      "    Found existing installation: h5py 2.10.0\n",
      "    Uninstalling h5py-2.10.0:\n",
      "      Successfully uninstalled h5py-2.10.0\n",
      "  Attempting uninstall: gast\n",
      "    Found existing installation: gast 0.3.3\n",
      "    Uninstalling gast-0.3.3:\n",
      "      Successfully uninstalled gast-0.3.3\n",
      "\u001b[31mERROR: pip's dependency resolver does not currently take into account all the packages that are installed. This behaviour is the source of the following dependency conflicts.\n",
      "tensorflow-gpu 2.3.2 requires gast==0.3.3, but you have gast 0.4.0 which is incompatible.\n",
      "tensorflow-gpu 2.3.2 requires h5py<2.11.0,>=2.10.0, but you have h5py 3.1.0 which is incompatible.\n",
      "tensorflow-gpu 2.3.2 requires numpy<1.19.0,>=1.16.0, but you have numpy 1.19.5 which is incompatible.\n",
      "tensorflow-gpu 2.3.2 requires tensorflow-estimator<2.4.0,>=2.3.0, but you have tensorflow-estimator 2.6.0 which is incompatible.\u001b[0m\n",
      "Successfully installed clang-5.0 flatbuffers-1.12 gast-0.4.0 h5py-3.1.0 keras-2.6.0 numpy-1.19.5 tensorboard-2.7.0 tensorflow-2.6.0 tensorflow-estimator-2.6.0\n",
      "\u001b[33mWARNING: Running pip as the 'root' user can result in broken permissions and conflicting behaviour with the system package manager. It is recommended to use a virtual environment instead: https://pip.pypa.io/warnings/venv\u001b[0m\n"
     ]
    }
   ],
   "source": [
    "!pip install tensorflow"
   ]
  },
  {
   "cell_type": "code",
   "execution_count": 304,
   "metadata": {},
   "outputs": [],
   "source": [
    "import tensorflow as tf\n",
    "from tensorflow import keras\n",
    "from tensorflow.keras.layers import Dense, Activation, Dropout, BatchNormalization  \n",
    "from tensorflow.keras.optimizers import Adam \n",
    "\n",
    "# Dense is fuklly connected ANN which every neuron is fully connected to its subsequent layer\n",
    "# dropout prevents over-fitting, this drops random neurons and prevents co dependency of neurons "
   ]
  },
  {
   "cell_type": "code",
   "execution_count": 314,
   "metadata": {},
   "outputs": [
    {
     "name": "stdout",
     "output_type": "stream",
     "text": [
      "Model: \"sequential_5\"\n",
      "_________________________________________________________________\n",
      "Layer (type)                 Output Shape              Param #   \n",
      "=================================================================\n",
      "dense_25 (Dense)             (None, 500)               4500      \n",
      "_________________________________________________________________\n",
      "activation_20 (Activation)   (None, 500)               0         \n",
      "_________________________________________________________________\n",
      "dense_26 (Dense)             (None, 1500)              751500    \n",
      "_________________________________________________________________\n",
      "activation_21 (Activation)   (None, 1500)              0         \n",
      "_________________________________________________________________\n",
      "dropout_10 (Dropout)         (None, 1500)              0         \n",
      "_________________________________________________________________\n",
      "dense_27 (Dense)             (None, 1500)              2251500   \n",
      "_________________________________________________________________\n",
      "activation_22 (Activation)   (None, 1500)              0         \n",
      "_________________________________________________________________\n",
      "dropout_11 (Dropout)         (None, 1500)              0         \n",
      "_________________________________________________________________\n",
      "dense_28 (Dense)             (None, 500)               750500    \n",
      "_________________________________________________________________\n",
      "activation_23 (Activation)   (None, 500)               0         \n",
      "_________________________________________________________________\n",
      "dense_29 (Dense)             (None, 1)                 501       \n",
      "=================================================================\n",
      "Total params: 3,758,501\n",
      "Trainable params: 3,758,501\n",
      "Non-trainable params: 0\n",
      "_________________________________________________________________\n"
     ]
    }
   ],
   "source": [
    "# optimizer = Adam()\n",
    "ANN_model = keras.Sequential() # adding layers from left to right\n",
    "ANN_model.add(Dense(500, input_dim = 8)) # add a Dense layer with 50 neurons with 8 inputs\n",
    "ANN_model.add(Activation('relu')) # activation function is relu\n",
    "ANN_model.add(Dense(1500)) # Another 150 neurons\n",
    "ANN_model.add(Activation('relu'))\n",
    "ANN_model.add(Dropout(0.25)) # randomly drop 25% of the neurons\n",
    "ANN_model.add(Dense(1500))\n",
    "ANN_model.add(Activation('relu'))\n",
    "ANN_model.add(Dropout(0.5))\n",
    "ANN_model.add(Dense(500))\n",
    "ANN_model.add(Activation('linear')) # problem is linear so we use activation as linear\n",
    "ANN_model.add(Dense(1)) # 1 final neuron at the end of the network\n",
    "ANN_model.compile(loss = 'mse', optimizer = 'adam')\n",
    "ANN_model.summary()"
   ]
  },
  {
   "cell_type": "code",
   "execution_count": 315,
   "metadata": {},
   "outputs": [
    {
     "name": "stdout",
     "output_type": "stream",
     "text": [
      "Epoch 1/100\n",
      "43/43 [==============================] - 2s 36ms/step - loss: 0.3986 - val_loss: 0.1908\n",
      "Epoch 2/100\n",
      "43/43 [==============================] - 1s 34ms/step - loss: 0.2231 - val_loss: 0.1711\n",
      "Epoch 3/100\n",
      "43/43 [==============================] - 1s 34ms/step - loss: 0.2054 - val_loss: 0.2047\n",
      "Epoch 4/100\n",
      "43/43 [==============================] - 1s 34ms/step - loss: 0.2243 - val_loss: 0.1579\n",
      "Epoch 5/100\n",
      "43/43 [==============================] - 2s 35ms/step - loss: 0.2204 - val_loss: 0.1739\n",
      "Epoch 6/100\n",
      "43/43 [==============================] - 1s 34ms/step - loss: 0.2038 - val_loss: 0.1679\n",
      "Epoch 7/100\n",
      "43/43 [==============================] - 1s 34ms/step - loss: 0.2006 - val_loss: 0.1583\n",
      "Epoch 8/100\n",
      "43/43 [==============================] - 1s 34ms/step - loss: 0.1978 - val_loss: 0.1880\n",
      "Epoch 9/100\n",
      "43/43 [==============================] - 1s 34ms/step - loss: 0.2299 - val_loss: 0.1625\n",
      "Epoch 10/100\n",
      "43/43 [==============================] - 1s 34ms/step - loss: 0.2026 - val_loss: 0.1618\n",
      "Epoch 11/100\n",
      "43/43 [==============================] - 1s 33ms/step - loss: 0.1750 - val_loss: 0.1475\n",
      "Epoch 12/100\n",
      "43/43 [==============================] - 1s 34ms/step - loss: 0.1824 - val_loss: 0.2031\n",
      "Epoch 13/100\n",
      "43/43 [==============================] - 1s 35ms/step - loss: 0.1884 - val_loss: 0.1439\n",
      "Epoch 14/100\n",
      "43/43 [==============================] - 1s 35ms/step - loss: 0.1833 - val_loss: 0.1785\n",
      "Epoch 15/100\n",
      "43/43 [==============================] - 2s 35ms/step - loss: 0.1692 - val_loss: 0.1734\n",
      "Epoch 16/100\n",
      "43/43 [==============================] - 2s 36ms/step - loss: 0.1838 - val_loss: 0.1880\n",
      "Epoch 17/100\n",
      "43/43 [==============================] - 1s 34ms/step - loss: 0.1780 - val_loss: 0.1555\n",
      "Epoch 18/100\n",
      "43/43 [==============================] - 1s 34ms/step - loss: 0.1647 - val_loss: 0.1438\n",
      "Epoch 19/100\n",
      "43/43 [==============================] - 1s 34ms/step - loss: 0.1661 - val_loss: 0.1442\n",
      "Epoch 20/100\n",
      "43/43 [==============================] - 1s 35ms/step - loss: 0.1558 - val_loss: 0.1564\n",
      "Epoch 21/100\n",
      "43/43 [==============================] - 1s 34ms/step - loss: 0.1535 - val_loss: 0.1612\n",
      "Epoch 22/100\n",
      "43/43 [==============================] - 2s 35ms/step - loss: 0.1692 - val_loss: 0.1601\n",
      "Epoch 23/100\n",
      "43/43 [==============================] - 1s 35ms/step - loss: 0.1516 - val_loss: 0.1471\n",
      "Epoch 24/100\n",
      "43/43 [==============================] - 1s 33ms/step - loss: 0.1622 - val_loss: 0.1666\n",
      "Epoch 25/100\n",
      "43/43 [==============================] - 2s 36ms/step - loss: 0.1649 - val_loss: 0.1466\n",
      "Epoch 26/100\n",
      "43/43 [==============================] - 1s 34ms/step - loss: 0.1552 - val_loss: 0.1453\n",
      "Epoch 27/100\n",
      "43/43 [==============================] - 1s 35ms/step - loss: 0.1445 - val_loss: 0.1588\n",
      "Epoch 28/100\n",
      "43/43 [==============================] - 1s 34ms/step - loss: 0.1593 - val_loss: 0.1536\n",
      "Epoch 29/100\n",
      "43/43 [==============================] - 1s 35ms/step - loss: 0.1506 - val_loss: 0.1712\n",
      "Epoch 30/100\n",
      "43/43 [==============================] - 1s 34ms/step - loss: 0.1486 - val_loss: 0.1652\n",
      "Epoch 31/100\n",
      "43/43 [==============================] - 1s 34ms/step - loss: 0.1545 - val_loss: 0.1598\n",
      "Epoch 32/100\n",
      "43/43 [==============================] - 1s 35ms/step - loss: 0.1492 - val_loss: 0.1555\n",
      "Epoch 33/100\n",
      "43/43 [==============================] - 1s 33ms/step - loss: 0.1442 - val_loss: 0.1577\n",
      "Epoch 34/100\n",
      "43/43 [==============================] - 1s 33ms/step - loss: 0.1512 - val_loss: 0.1730\n",
      "Epoch 35/100\n",
      "43/43 [==============================] - 1s 34ms/step - loss: 0.1748 - val_loss: 0.1662\n",
      "Epoch 36/100\n",
      "43/43 [==============================] - 1s 34ms/step - loss: 0.1429 - val_loss: 0.1775\n",
      "Epoch 37/100\n",
      "43/43 [==============================] - 2s 38ms/step - loss: 0.1495 - val_loss: 0.1634\n",
      "Epoch 38/100\n",
      "43/43 [==============================] - 2s 35ms/step - loss: 0.1470 - val_loss: 0.1574\n",
      "Epoch 39/100\n",
      "43/43 [==============================] - 1s 35ms/step - loss: 0.1415 - val_loss: 0.1596\n",
      "Epoch 40/100\n",
      "43/43 [==============================] - 2s 36ms/step - loss: 0.1381 - val_loss: 0.1605\n",
      "Epoch 41/100\n",
      "43/43 [==============================] - 1s 34ms/step - loss: 0.1432 - val_loss: 0.1584\n",
      "Epoch 42/100\n",
      "43/43 [==============================] - 1s 33ms/step - loss: 0.1335 - val_loss: 0.1829\n",
      "Epoch 43/100\n",
      "43/43 [==============================] - 1s 33ms/step - loss: 0.1364 - val_loss: 0.1637\n",
      "Epoch 44/100\n",
      "43/43 [==============================] - 2s 35ms/step - loss: 0.1325 - val_loss: 0.1641\n",
      "Epoch 45/100\n",
      "43/43 [==============================] - 1s 34ms/step - loss: 0.1336 - val_loss: 0.1616\n",
      "Epoch 46/100\n",
      "43/43 [==============================] - 1s 33ms/step - loss: 0.1412 - val_loss: 0.1582\n",
      "Epoch 47/100\n",
      "43/43 [==============================] - 1s 35ms/step - loss: 0.1342 - val_loss: 0.1562\n",
      "Epoch 48/100\n",
      "43/43 [==============================] - 1s 33ms/step - loss: 0.1396 - val_loss: 0.1618\n",
      "Epoch 49/100\n",
      "43/43 [==============================] - 1s 34ms/step - loss: 0.1375 - val_loss: 0.1683\n",
      "Epoch 50/100\n",
      "43/43 [==============================] - 1s 34ms/step - loss: 0.1352 - val_loss: 0.1624\n",
      "Epoch 51/100\n",
      "43/43 [==============================] - 1s 34ms/step - loss: 0.1369 - val_loss: 0.1753\n",
      "Epoch 52/100\n",
      "43/43 [==============================] - 1s 34ms/step - loss: 0.1293 - val_loss: 0.1668\n",
      "Epoch 53/100\n",
      "43/43 [==============================] - 1s 33ms/step - loss: 0.1403 - val_loss: 0.1595\n",
      "Epoch 54/100\n",
      "43/43 [==============================] - 1s 34ms/step - loss: 0.1247 - val_loss: 0.1615\n",
      "Epoch 55/100\n",
      "43/43 [==============================] - 1s 33ms/step - loss: 0.1299 - val_loss: 0.1912\n",
      "Epoch 56/100\n",
      "43/43 [==============================] - 2s 35ms/step - loss: 0.1374 - val_loss: 0.1960\n",
      "Epoch 57/100\n",
      "43/43 [==============================] - 2s 38ms/step - loss: 0.1572 - val_loss: 0.1625\n",
      "Epoch 58/100\n",
      "43/43 [==============================] - 2s 35ms/step - loss: 0.1199 - val_loss: 0.1723\n",
      "Epoch 59/100\n",
      "43/43 [==============================] - 1s 34ms/step - loss: 0.1292 - val_loss: 0.1980\n",
      "Epoch 60/100\n",
      "43/43 [==============================] - 2s 35ms/step - loss: 0.1224 - val_loss: 0.1685\n",
      "Epoch 61/100\n",
      "43/43 [==============================] - 2s 35ms/step - loss: 0.1181 - val_loss: 0.1692\n",
      "Epoch 62/100\n",
      "43/43 [==============================] - 1s 34ms/step - loss: 0.1126 - val_loss: 0.1808\n",
      "Epoch 63/100\n",
      "43/43 [==============================] - 1s 32ms/step - loss: 0.1191 - val_loss: 0.1757\n",
      "Epoch 64/100\n",
      "43/43 [==============================] - 1s 32ms/step - loss: 0.1128 - val_loss: 0.1682\n",
      "Epoch 65/100\n",
      "43/43 [==============================] - 1s 34ms/step - loss: 0.1173 - val_loss: 0.2024\n",
      "Epoch 66/100\n",
      "43/43 [==============================] - 1s 34ms/step - loss: 0.1137 - val_loss: 0.1804\n",
      "Epoch 67/100\n",
      "43/43 [==============================] - 1s 33ms/step - loss: 0.1127 - val_loss: 0.1885\n",
      "Epoch 68/100\n",
      "43/43 [==============================] - 2s 35ms/step - loss: 0.1130 - val_loss: 0.1798\n",
      "Epoch 69/100\n",
      "43/43 [==============================] - 1s 34ms/step - loss: 0.1120 - val_loss: 0.1650\n",
      "Epoch 70/100\n",
      "43/43 [==============================] - 1s 34ms/step - loss: 0.1154 - val_loss: 0.1997\n",
      "Epoch 71/100\n",
      "43/43 [==============================] - 1s 35ms/step - loss: 0.1085 - val_loss: 0.1757\n",
      "Epoch 72/100\n",
      "43/43 [==============================] - 1s 34ms/step - loss: 0.1092 - val_loss: 0.1974\n",
      "Epoch 73/100\n",
      "43/43 [==============================] - 1s 35ms/step - loss: 0.1121 - val_loss: 0.1827\n",
      "Epoch 74/100\n",
      "43/43 [==============================] - 1s 34ms/step - loss: 0.1075 - val_loss: 0.1933\n",
      "Epoch 75/100\n",
      "43/43 [==============================] - 1s 35ms/step - loss: 0.1153 - val_loss: 0.1759\n",
      "Epoch 76/100\n",
      "43/43 [==============================] - 2s 35ms/step - loss: 0.1075 - val_loss: 0.1996\n",
      "Epoch 77/100\n",
      "43/43 [==============================] - 1s 34ms/step - loss: 0.0964 - val_loss: 0.1698\n",
      "Epoch 78/100\n",
      "43/43 [==============================] - 2s 35ms/step - loss: 0.1010 - val_loss: 0.1974\n",
      "Epoch 79/100\n",
      "43/43 [==============================] - 1s 34ms/step - loss: 0.0951 - val_loss: 0.1887\n",
      "Epoch 80/100\n",
      "43/43 [==============================] - 1s 34ms/step - loss: 0.1043 - val_loss: 0.2017\n",
      "Epoch 81/100\n",
      "43/43 [==============================] - 1s 33ms/step - loss: 0.1135 - val_loss: 0.1961\n",
      "Epoch 82/100\n",
      "43/43 [==============================] - 2s 35ms/step - loss: 0.1057 - val_loss: 0.2010\n",
      "Epoch 83/100\n",
      "43/43 [==============================] - 1s 34ms/step - loss: 0.1123 - val_loss: 0.1970\n",
      "Epoch 84/100\n",
      "43/43 [==============================] - 1s 33ms/step - loss: 0.1103 - val_loss: 0.1823\n",
      "Epoch 85/100\n",
      "43/43 [==============================] - 1s 34ms/step - loss: 0.0996 - val_loss: 0.1948\n",
      "Epoch 86/100\n",
      "43/43 [==============================] - 1s 33ms/step - loss: 0.1012 - val_loss: 0.1963\n",
      "Epoch 87/100\n",
      "43/43 [==============================] - 1s 33ms/step - loss: 0.1021 - val_loss: 0.1980\n",
      "Epoch 88/100\n",
      "43/43 [==============================] - 1s 33ms/step - loss: 0.0939 - val_loss: 0.1936\n",
      "Epoch 89/100\n",
      "43/43 [==============================] - 1s 34ms/step - loss: 0.0942 - val_loss: 0.1923\n",
      "Epoch 90/100\n",
      "43/43 [==============================] - 1s 35ms/step - loss: 0.1049 - val_loss: 0.2044\n",
      "Epoch 91/100\n",
      "43/43 [==============================] - 1s 34ms/step - loss: 0.0983 - val_loss: 0.1891\n",
      "Epoch 92/100\n",
      "43/43 [==============================] - 1s 33ms/step - loss: 0.0980 - val_loss: 0.1959\n",
      "Epoch 93/100\n",
      "43/43 [==============================] - 1s 34ms/step - loss: 0.1094 - val_loss: 0.1910\n",
      "Epoch 94/100\n",
      "43/43 [==============================] - 1s 33ms/step - loss: 0.0990 - val_loss: 0.1715\n",
      "Epoch 95/100\n",
      "43/43 [==============================] - 1s 33ms/step - loss: 0.0924 - val_loss: 0.2051\n",
      "Epoch 96/100\n",
      "43/43 [==============================] - 1s 33ms/step - loss: 0.1004 - val_loss: 0.2217\n",
      "Epoch 97/100\n",
      "43/43 [==============================] - 2s 37ms/step - loss: 0.0978 - val_loss: 0.1916\n",
      "Epoch 98/100\n",
      "43/43 [==============================] - 1s 34ms/step - loss: 0.1023 - val_loss: 0.1870\n",
      "Epoch 99/100\n",
      "43/43 [==============================] - 1s 34ms/step - loss: 0.0969 - val_loss: 0.1786\n",
      "Epoch 100/100\n",
      "43/43 [==============================] - 1s 33ms/step - loss: 0.1004 - val_loss: 0.2087\n"
     ]
    }
   ],
   "source": [
    "ANN_model.compile(optimizer='Adam', loss='mean_squared_error')\n",
    "\n",
    "epochs_hist = ANN_model.fit(X_train, y_train, epochs = 100, batch_size = 20, validation_split = 0.2)"
   ]
  },
  {
   "cell_type": "code",
   "execution_count": 316,
   "metadata": {},
   "outputs": [
    {
     "name": "stdout",
     "output_type": "stream",
     "text": [
      "9/9 [==============================] - 0s 6ms/step - loss: 0.1811\n",
      "Accuracy : 0.8189426362514496\n"
     ]
    }
   ],
   "source": [
    "result = ANN_model.evaluate(X_test, y_test)\n",
    "accuracy_ANN = 1 - result\n",
    "print(\"Accuracy : {}\".format(accuracy_ANN))"
   ]
  },
  {
   "cell_type": "code",
   "execution_count": 317,
   "metadata": {},
   "outputs": [
    {
     "data": {
      "text/plain": [
       "dict_keys(['loss', 'val_loss'])"
      ]
     },
     "execution_count": 317,
     "metadata": {},
     "output_type": "execute_result"
    }
   ],
   "source": [
    "epochs_hist.history.keys()"
   ]
  },
  {
   "cell_type": "code",
   "execution_count": 318,
   "metadata": {},
   "outputs": [
    {
     "data": {
      "text/plain": [
       "<matplotlib.legend.Legend at 0x7f4beb00ac50>"
      ]
     },
     "execution_count": 318,
     "metadata": {},
     "output_type": "execute_result"
    },
    {
     "data": {
      "image/png": "[encoded data removed]",
      "text/plain": [
       "<Figure size 432x288 with 1 Axes>"
      ]
     },
     "metadata": {
      "needs_background": "light"
     },
     "output_type": "display_data"
    }
   ],
   "source": [
    "plt.plot(epochs_hist.history['loss'])\n",
    "plt.plot(epochs_hist.history['val_loss'])\n",
    "plt.title('Model Loss Progress During Training')\n",
    "plt.xlabel('Epoch')\n",
    "plt.ylabel('Training and Validation Loss')\n",
    "plt.legend(['Training Loss', 'Validation Loss'])"
   ]
  },
  {
   "cell_type": "code",
   "execution_count": 319,
   "metadata": {},
   "outputs": [
    {
     "data": {
      "text/plain": [
       "Text(0, 0.5, 'True Values')"
      ]
     },
     "execution_count": 319,
     "metadata": {},
     "output_type": "execute_result"
    },
    {
     "data": {
      "image/png": "[encoded data removed]",
      "text/plain": [
       "<Figure size 432x288 with 1 Axes>"
      ]
     },
     "metadata": {
      "needs_background": "light"
     },
     "output_type": "display_data"
    }
   ],
   "source": [
    "y_predict = ANN_model.predict(X_test)\n",
    "plt.plot(y_test, y_predict, \"^\", color = 'r')\n",
    "plt.xlabel('Model Predictions')\n",
    "plt.ylabel('True Values')\n"
   ]
  },
  {
   "cell_type": "code",
   "execution_count": 320,
   "metadata": {},
   "outputs": [],
   "source": [
    "y_predict_orig = scaler_y.inverse_transform(y_predict)\n",
    "y_test_orig = scaler_y.inverse_transform(y_test)"
   ]
  },
  {
   "cell_type": "code",
   "execution_count": 321,
   "metadata": {},
   "outputs": [
    {
     "data": {
      "text/plain": [
       "Text(0, 0.5, 'True Values')"
      ]
     },
     "execution_count": 321,
     "metadata": {},
     "output_type": "execute_result"
    },
    {
     "data": {
      "image/png": "[encoded data removed]",
      "text/plain": [
       "<Figure size 432x288 with 1 Axes>"
      ]
     },
     "metadata": {
      "needs_background": "light"
     },
     "output_type": "display_data"
    }
   ],
   "source": [
    "plt.plot(y_test_orig, y_predict_orig, \"^\", color = 'r')\n",
    "plt.xlabel('Model Predictions')\n",
    "plt.ylabel('True Values')\n"
   ]
  },
  {
   "cell_type": "code",
   "execution_count": 323,
   "metadata": {},
   "outputs": [
    {
     "name": "stdout",
     "output_type": "stream",
     "text": [
      "RMSE = 5112.012 \n",
      "MSE = 26132668.0 \n",
      "MAE = 3068.9302 \n",
      "R2 = 0.8316722739912714 \n",
      "Adjusted R2 = 0.8264729619910018\n"
     ]
    }
   ],
   "source": [
    "k = X_test.shape[1]\n",
    "n = len(X_test)\n",
    "n\n",
    "\n",
    "from sklearn.metrics import r2_score, mean_squared_error, mean_absolute_error\n",
    "from math import sqrt\n",
    "\n",
    "RMSE = float(format(np.sqrt(mean_squared_error(y_test_orig, y_predict_orig)),'.3f'))\n",
    "MSE = mean_squared_error(y_test_orig, y_predict_orig)\n",
    "MAE = mean_absolute_error(y_test_orig, y_predict_orig)\n",
    "r2 = r2_score(y_test_orig, y_predict_orig)\n",
    "adj_r2 = 1-(1-r2)*(n-1)/(n-k-1)\n",
    "\n",
    "print('RMSE =',RMSE, '\\nMSE =',MSE, '\\nMAE =',MAE, '\\nR2 =', r2, '\\nAdjusted R2 =', adj_r2) "
   ]
  },
  {
   "cell_type": "markdown",
   "metadata": {},
   "source": [
    "MINI CHALLENGE\n",
    "- Experiment with a deeper network with more neurons in the hidden layer\n",
    "- Experiment with no regularization (dropout)"
   ]
  },
  {
   "cell_type": "code",
   "execution_count": null,
   "metadata": {},
   "outputs": [],
   "source": []
  },
  {
   "cell_type": "markdown",
   "metadata": {},
   "source": [
    "# EXCELLENT JOB!"
   ]
  }
 ],
 "metadata": {
  "colab": {
   "collapsed_sections": [],
   "name": "Graduate_Admission_Prediction.ipynb",
   "provenance": [],
   "toc_visible": true
  },
  "instance_type": "ml.t3.medium",
  "kernelspec": {
   "display_name": "Python 3 (TensorFlow 2.3 Python 3.7 GPU Optimized)",
   "language": "python",
   "name": "python3__SAGEMAKER_INTERNAL__arn:aws:sagemaker:ap-southeast-1:492261229750:image/tensorflow-2.3-gpu-py37-cu110-ubuntu18.04-v3"
  },
  "language_info": {
   "codemirror_mode": {
    "name": "ipython",
    "version": 3
   },
   "file_extension": ".py",
   "mimetype": "text/x-python",
   "name": "python",
   "nbconvert_exporter": "python",
   "pygments_lexer": "ipython3",
   "version": "3.7.10"
  }
 },
 "nbformat": 4,
 "nbformat_minor": 4
}
